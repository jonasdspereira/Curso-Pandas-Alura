{
 "cells": [
  {
   "cell_type": "markdown",
   "id": "25733abc",
   "metadata": {},
   "source": [
    "# Conhecendo a base de dados"
   ]
  },
  {
   "cell_type": "markdown",
   "id": "57bd75fa",
   "metadata": {},
   "source": [
    "## Importando os dados"
   ]
  },
  {
   "cell_type": "code",
   "execution_count": 1,
   "id": "6326736e",
   "metadata": {},
   "outputs": [],
   "source": [
    "import pandas as pd"
   ]
  },
  {
   "cell_type": "code",
   "execution_count": 2,
   "id": "1f5b6fe0",
   "metadata": {},
   "outputs": [
    {
     "data": {
      "application/vnd.microsoft.datawrangler.viewer.v0+json": {
       "columns": [
        {
         "name": "index",
         "rawType": "int64",
         "type": "integer"
        },
        {
         "name": "Tipo",
         "rawType": "object",
         "type": "string"
        },
        {
         "name": "Bairro",
         "rawType": "object",
         "type": "string"
        },
        {
         "name": "Quartos",
         "rawType": "int64",
         "type": "integer"
        },
        {
         "name": "Vagas",
         "rawType": "int64",
         "type": "integer"
        },
        {
         "name": "Suites",
         "rawType": "int64",
         "type": "integer"
        },
        {
         "name": "Area",
         "rawType": "int64",
         "type": "integer"
        },
        {
         "name": "Valor",
         "rawType": "float64",
         "type": "float"
        },
        {
         "name": "Condominio",
         "rawType": "float64",
         "type": "float"
        },
        {
         "name": "IPTU",
         "rawType": "float64",
         "type": "float"
        }
       ],
       "ref": "a1fd1da8-f20a-47f9-b506-649fc2e514ff",
       "rows": [
        [
         "0",
         "Quitinete",
         "Copacabana",
         "1",
         "0",
         "0",
         "40",
         "1700.0",
         "500.0",
         "60.0"
        ],
        [
         "1",
         "Casa",
         "Jardim Botânico",
         "2",
         "0",
         "1",
         "100",
         "7000.0",
         null,
         null
        ],
        [
         "2",
         "Conjunto Comercial/Sala",
         "Barra da Tijuca",
         "0",
         "4",
         "0",
         "150",
         "5200.0",
         "4020.0",
         "1111.0"
        ],
        [
         "3",
         "Apartamento",
         "Centro",
         "1",
         "0",
         "0",
         "15",
         "800.0",
         "390.0",
         "20.0"
        ],
        [
         "4",
         "Apartamento",
         "Higienópolis",
         "1",
         "0",
         "0",
         "48",
         "800.0",
         "230.0",
         null
        ]
       ],
       "shape": {
        "columns": 9,
        "rows": 5
       }
      },
      "text/html": [
       "<div>\n",
       "<style scoped>\n",
       "    .dataframe tbody tr th:only-of-type {\n",
       "        vertical-align: middle;\n",
       "    }\n",
       "\n",
       "    .dataframe tbody tr th {\n",
       "        vertical-align: top;\n",
       "    }\n",
       "\n",
       "    .dataframe thead th {\n",
       "        text-align: right;\n",
       "    }\n",
       "</style>\n",
       "<table border=\"1\" class=\"dataframe\">\n",
       "  <thead>\n",
       "    <tr style=\"text-align: right;\">\n",
       "      <th></th>\n",
       "      <th>Tipo</th>\n",
       "      <th>Bairro</th>\n",
       "      <th>Quartos</th>\n",
       "      <th>Vagas</th>\n",
       "      <th>Suites</th>\n",
       "      <th>Area</th>\n",
       "      <th>Valor</th>\n",
       "      <th>Condominio</th>\n",
       "      <th>IPTU</th>\n",
       "    </tr>\n",
       "  </thead>\n",
       "  <tbody>\n",
       "    <tr>\n",
       "      <th>0</th>\n",
       "      <td>Quitinete</td>\n",
       "      <td>Copacabana</td>\n",
       "      <td>1</td>\n",
       "      <td>0</td>\n",
       "      <td>0</td>\n",
       "      <td>40</td>\n",
       "      <td>1700.0</td>\n",
       "      <td>500.0</td>\n",
       "      <td>60.0</td>\n",
       "    </tr>\n",
       "    <tr>\n",
       "      <th>1</th>\n",
       "      <td>Casa</td>\n",
       "      <td>Jardim Botânico</td>\n",
       "      <td>2</td>\n",
       "      <td>0</td>\n",
       "      <td>1</td>\n",
       "      <td>100</td>\n",
       "      <td>7000.0</td>\n",
       "      <td>NaN</td>\n",
       "      <td>NaN</td>\n",
       "    </tr>\n",
       "    <tr>\n",
       "      <th>2</th>\n",
       "      <td>Conjunto Comercial/Sala</td>\n",
       "      <td>Barra da Tijuca</td>\n",
       "      <td>0</td>\n",
       "      <td>4</td>\n",
       "      <td>0</td>\n",
       "      <td>150</td>\n",
       "      <td>5200.0</td>\n",
       "      <td>4020.0</td>\n",
       "      <td>1111.0</td>\n",
       "    </tr>\n",
       "    <tr>\n",
       "      <th>3</th>\n",
       "      <td>Apartamento</td>\n",
       "      <td>Centro</td>\n",
       "      <td>1</td>\n",
       "      <td>0</td>\n",
       "      <td>0</td>\n",
       "      <td>15</td>\n",
       "      <td>800.0</td>\n",
       "      <td>390.0</td>\n",
       "      <td>20.0</td>\n",
       "    </tr>\n",
       "    <tr>\n",
       "      <th>4</th>\n",
       "      <td>Apartamento</td>\n",
       "      <td>Higienópolis</td>\n",
       "      <td>1</td>\n",
       "      <td>0</td>\n",
       "      <td>0</td>\n",
       "      <td>48</td>\n",
       "      <td>800.0</td>\n",
       "      <td>230.0</td>\n",
       "      <td>NaN</td>\n",
       "    </tr>\n",
       "  </tbody>\n",
       "</table>\n",
       "</div>"
      ],
      "text/plain": [
       "                      Tipo           Bairro  Quartos  Vagas  Suites  Area  \\\n",
       "0                Quitinete       Copacabana        1      0       0    40   \n",
       "1                     Casa  Jardim Botânico        2      0       1   100   \n",
       "2  Conjunto Comercial/Sala  Barra da Tijuca        0      4       0   150   \n",
       "3              Apartamento           Centro        1      0       0    15   \n",
       "4              Apartamento     Higienópolis        1      0       0    48   \n",
       "\n",
       "    Valor  Condominio    IPTU  \n",
       "0  1700.0       500.0    60.0  \n",
       "1  7000.0         NaN     NaN  \n",
       "2  5200.0      4020.0  1111.0  \n",
       "3   800.0       390.0    20.0  \n",
       "4   800.0       230.0     NaN  "
      ]
     },
     "execution_count": 2,
     "metadata": {},
     "output_type": "execute_result"
    }
   ],
   "source": [
    "dados = pd.read_csv('aluguel.csv', sep=';')\n",
    "dados.head()"
   ]
  },
  {
   "cell_type": "code",
   "execution_count": 3,
   "id": "752d82a1",
   "metadata": {},
   "outputs": [
    {
     "data": {
      "application/vnd.microsoft.datawrangler.viewer.v0+json": {
       "columns": [
        {
         "name": "index",
         "rawType": "int64",
         "type": "integer"
        },
        {
         "name": "Tipo",
         "rawType": "object",
         "type": "string"
        },
        {
         "name": "Bairro",
         "rawType": "object",
         "type": "string"
        },
        {
         "name": "Quartos",
         "rawType": "int64",
         "type": "integer"
        },
        {
         "name": "Vagas",
         "rawType": "int64",
         "type": "integer"
        },
        {
         "name": "Suites",
         "rawType": "int64",
         "type": "integer"
        },
        {
         "name": "Area",
         "rawType": "int64",
         "type": "integer"
        },
        {
         "name": "Valor",
         "rawType": "float64",
         "type": "float"
        },
        {
         "name": "Condominio",
         "rawType": "float64",
         "type": "float"
        },
        {
         "name": "IPTU",
         "rawType": "float64",
         "type": "float"
        }
       ],
       "ref": "690931a9-89fb-4d73-8021-0460305ff40b",
       "rows": [
        [
         "32955",
         "Quitinete",
         "Centro",
         "0",
         "0",
         "0",
         "27",
         "800.0",
         "350.0",
         "25.0"
        ],
        [
         "32956",
         "Apartamento",
         "Jacarepaguá",
         "3",
         "1",
         "2",
         "78",
         "1800.0",
         "800.0",
         "40.0"
        ],
        [
         "32957",
         "Apartamento",
         "São Francisco Xavier",
         "2",
         "1",
         "0",
         "48",
         "1400.0",
         "509.0",
         "37.0"
        ],
        [
         "32958",
         "Apartamento",
         "Leblon",
         "2",
         "0",
         "0",
         "70",
         "3000.0",
         "760.0",
         null
        ],
        [
         "32959",
         "Conjunto Comercial/Sala",
         "Centro",
         "0",
         "0",
         "0",
         "250",
         "6500.0",
         "4206.0",
         "1109.0"
        ]
       ],
       "shape": {
        "columns": 9,
        "rows": 5
       }
      },
      "text/html": [
       "<div>\n",
       "<style scoped>\n",
       "    .dataframe tbody tr th:only-of-type {\n",
       "        vertical-align: middle;\n",
       "    }\n",
       "\n",
       "    .dataframe tbody tr th {\n",
       "        vertical-align: top;\n",
       "    }\n",
       "\n",
       "    .dataframe thead th {\n",
       "        text-align: right;\n",
       "    }\n",
       "</style>\n",
       "<table border=\"1\" class=\"dataframe\">\n",
       "  <thead>\n",
       "    <tr style=\"text-align: right;\">\n",
       "      <th></th>\n",
       "      <th>Tipo</th>\n",
       "      <th>Bairro</th>\n",
       "      <th>Quartos</th>\n",
       "      <th>Vagas</th>\n",
       "      <th>Suites</th>\n",
       "      <th>Area</th>\n",
       "      <th>Valor</th>\n",
       "      <th>Condominio</th>\n",
       "      <th>IPTU</th>\n",
       "    </tr>\n",
       "  </thead>\n",
       "  <tbody>\n",
       "    <tr>\n",
       "      <th>32955</th>\n",
       "      <td>Quitinete</td>\n",
       "      <td>Centro</td>\n",
       "      <td>0</td>\n",
       "      <td>0</td>\n",
       "      <td>0</td>\n",
       "      <td>27</td>\n",
       "      <td>800.0</td>\n",
       "      <td>350.0</td>\n",
       "      <td>25.0</td>\n",
       "    </tr>\n",
       "    <tr>\n",
       "      <th>32956</th>\n",
       "      <td>Apartamento</td>\n",
       "      <td>Jacarepaguá</td>\n",
       "      <td>3</td>\n",
       "      <td>1</td>\n",
       "      <td>2</td>\n",
       "      <td>78</td>\n",
       "      <td>1800.0</td>\n",
       "      <td>800.0</td>\n",
       "      <td>40.0</td>\n",
       "    </tr>\n",
       "    <tr>\n",
       "      <th>32957</th>\n",
       "      <td>Apartamento</td>\n",
       "      <td>São Francisco Xavier</td>\n",
       "      <td>2</td>\n",
       "      <td>1</td>\n",
       "      <td>0</td>\n",
       "      <td>48</td>\n",
       "      <td>1400.0</td>\n",
       "      <td>509.0</td>\n",
       "      <td>37.0</td>\n",
       "    </tr>\n",
       "    <tr>\n",
       "      <th>32958</th>\n",
       "      <td>Apartamento</td>\n",
       "      <td>Leblon</td>\n",
       "      <td>2</td>\n",
       "      <td>0</td>\n",
       "      <td>0</td>\n",
       "      <td>70</td>\n",
       "      <td>3000.0</td>\n",
       "      <td>760.0</td>\n",
       "      <td>NaN</td>\n",
       "    </tr>\n",
       "    <tr>\n",
       "      <th>32959</th>\n",
       "      <td>Conjunto Comercial/Sala</td>\n",
       "      <td>Centro</td>\n",
       "      <td>0</td>\n",
       "      <td>0</td>\n",
       "      <td>0</td>\n",
       "      <td>250</td>\n",
       "      <td>6500.0</td>\n",
       "      <td>4206.0</td>\n",
       "      <td>1109.0</td>\n",
       "    </tr>\n",
       "  </tbody>\n",
       "</table>\n",
       "</div>"
      ],
      "text/plain": [
       "                          Tipo                Bairro  Quartos  Vagas  Suites  \\\n",
       "32955                Quitinete                Centro        0      0       0   \n",
       "32956              Apartamento           Jacarepaguá        3      1       2   \n",
       "32957              Apartamento  São Francisco Xavier        2      1       0   \n",
       "32958              Apartamento                Leblon        2      0       0   \n",
       "32959  Conjunto Comercial/Sala                Centro        0      0       0   \n",
       "\n",
       "       Area   Valor  Condominio    IPTU  \n",
       "32955    27   800.0       350.0    25.0  \n",
       "32956    78  1800.0       800.0    40.0  \n",
       "32957    48  1400.0       509.0    37.0  \n",
       "32958    70  3000.0       760.0     NaN  \n",
       "32959   250  6500.0      4206.0  1109.0  "
      ]
     },
     "execution_count": 3,
     "metadata": {},
     "output_type": "execute_result"
    }
   ],
   "source": [
    "dados.tail()"
   ]
  },
  {
   "cell_type": "code",
   "execution_count": 4,
   "id": "0b3407a3",
   "metadata": {},
   "outputs": [
    {
     "data": {
      "text/plain": [
       "pandas.core.frame.DataFrame"
      ]
     },
     "execution_count": 4,
     "metadata": {},
     "output_type": "execute_result"
    }
   ],
   "source": [
    "type(dados)"
   ]
  },
  {
   "cell_type": "markdown",
   "id": "feefd542",
   "metadata": {},
   "source": [
    "## Características gerais da base de dados"
   ]
  },
  {
   "cell_type": "code",
   "execution_count": 5,
   "id": "687e804a",
   "metadata": {},
   "outputs": [
    {
     "data": {
      "text/plain": [
       "(32960, 9)"
      ]
     },
     "execution_count": 5,
     "metadata": {},
     "output_type": "execute_result"
    }
   ],
   "source": [
    "dados.shape"
   ]
  },
  {
   "cell_type": "code",
   "execution_count": 6,
   "id": "191cc34f",
   "metadata": {},
   "outputs": [
    {
     "data": {
      "text/plain": [
       "Index(['Tipo', 'Bairro', 'Quartos', 'Vagas', 'Suites', 'Area', 'Valor',\n",
       "       'Condominio', 'IPTU'],\n",
       "      dtype='object')"
      ]
     },
     "execution_count": 6,
     "metadata": {},
     "output_type": "execute_result"
    }
   ],
   "source": [
    "dados.columns"
   ]
  },
  {
   "cell_type": "code",
   "execution_count": 7,
   "id": "55a75555",
   "metadata": {},
   "outputs": [
    {
     "name": "stdout",
     "output_type": "stream",
     "text": [
      "<class 'pandas.core.frame.DataFrame'>\n",
      "RangeIndex: 32960 entries, 0 to 32959\n",
      "Data columns (total 9 columns):\n",
      " #   Column      Non-Null Count  Dtype  \n",
      "---  ------      --------------  -----  \n",
      " 0   Tipo        32960 non-null  object \n",
      " 1   Bairro      32960 non-null  object \n",
      " 2   Quartos     32960 non-null  int64  \n",
      " 3   Vagas       32960 non-null  int64  \n",
      " 4   Suites      32960 non-null  int64  \n",
      " 5   Area        32960 non-null  int64  \n",
      " 6   Valor       32943 non-null  float64\n",
      " 7   Condominio  28867 non-null  float64\n",
      " 8   IPTU        22723 non-null  float64\n",
      "dtypes: float64(3), int64(4), object(2)\n",
      "memory usage: 2.3+ MB\n"
     ]
    }
   ],
   "source": [
    "dados.info()"
   ]
  },
  {
   "cell_type": "code",
   "execution_count": 8,
   "id": "5128d943",
   "metadata": {},
   "outputs": [
    {
     "data": {
      "application/vnd.microsoft.datawrangler.viewer.v0+json": {
       "columns": [
        {
         "name": "index",
         "rawType": "int64",
         "type": "integer"
        },
        {
         "name": "Tipo",
         "rawType": "object",
         "type": "string"
        }
       ],
       "ref": "0576ff2e-ee34-4314-9ad9-2dd6ada76374",
       "rows": [
        [
         "0",
         "Quitinete"
        ],
        [
         "1",
         "Casa"
        ],
        [
         "2",
         "Conjunto Comercial/Sala"
        ],
        [
         "3",
         "Apartamento"
        ],
        [
         "4",
         "Apartamento"
        ],
        [
         "5",
         "Apartamento"
        ],
        [
         "6",
         "Apartamento"
        ],
        [
         "7",
         "Casa de Condomínio"
        ],
        [
         "8",
         "Casa de Condomínio"
        ],
        [
         "9",
         "Conjunto Comercial/Sala"
        ],
        [
         "10",
         "Apartamento"
        ],
        [
         "11",
         "Apartamento"
        ],
        [
         "12",
         "Apartamento"
        ],
        [
         "13",
         "Apartamento"
        ],
        [
         "14",
         "Quitinete"
        ],
        [
         "15",
         "Apartamento"
        ],
        [
         "16",
         "Prédio Inteiro"
        ],
        [
         "17",
         "Flat"
        ],
        [
         "18",
         "Casa de Condomínio"
        ],
        [
         "19",
         "Apartamento"
        ],
        [
         "20",
         "Apartamento"
        ],
        [
         "21",
         "Apartamento"
        ],
        [
         "22",
         "Casa de Condomínio"
        ],
        [
         "23",
         "Apartamento"
        ],
        [
         "24",
         "Apartamento"
        ],
        [
         "25",
         "Flat"
        ],
        [
         "26",
         "Conjunto Comercial/Sala"
        ],
        [
         "27",
         "Apartamento"
        ],
        [
         "28",
         "Apartamento"
        ],
        [
         "29",
         "Loja/Salão"
        ],
        [
         "30",
         "Apartamento"
        ],
        [
         "31",
         "Casa"
        ],
        [
         "32",
         "Apartamento"
        ],
        [
         "33",
         "Apartamento"
        ],
        [
         "34",
         "Apartamento"
        ],
        [
         "35",
         "Conjunto Comercial/Sala"
        ],
        [
         "36",
         "Apartamento"
        ],
        [
         "37",
         "Apartamento"
        ],
        [
         "38",
         "Conjunto Comercial/Sala"
        ],
        [
         "39",
         "Quitinete"
        ],
        [
         "40",
         "Apartamento"
        ],
        [
         "41",
         "Apartamento"
        ],
        [
         "42",
         "Conjunto Comercial/Sala"
        ],
        [
         "43",
         "Apartamento"
        ],
        [
         "44",
         "Apartamento"
        ],
        [
         "45",
         "Conjunto Comercial/Sala"
        ],
        [
         "46",
         "Conjunto Comercial/Sala"
        ],
        [
         "47",
         "Apartamento"
        ],
        [
         "48",
         "Apartamento"
        ],
        [
         "49",
         "Apartamento"
        ]
       ],
       "shape": {
        "columns": 1,
        "rows": 32960
       }
      },
      "text/plain": [
       "0                      Quitinete\n",
       "1                           Casa\n",
       "2        Conjunto Comercial/Sala\n",
       "3                    Apartamento\n",
       "4                    Apartamento\n",
       "                  ...           \n",
       "32955                  Quitinete\n",
       "32956                Apartamento\n",
       "32957                Apartamento\n",
       "32958                Apartamento\n",
       "32959    Conjunto Comercial/Sala\n",
       "Name: Tipo, Length: 32960, dtype: object"
      ]
     },
     "execution_count": 8,
     "metadata": {},
     "output_type": "execute_result"
    }
   ],
   "source": [
    "dados['Tipo']\n"
   ]
  },
  {
   "cell_type": "code",
   "execution_count": 9,
   "id": "1cf9f04d",
   "metadata": {},
   "outputs": [
    {
     "data": {
      "application/vnd.microsoft.datawrangler.viewer.v0+json": {
       "columns": [
        {
         "name": "index",
         "rawType": "int64",
         "type": "integer"
        },
        {
         "name": "Quartos",
         "rawType": "int64",
         "type": "integer"
        },
        {
         "name": "Valor",
         "rawType": "float64",
         "type": "float"
        }
       ],
       "ref": "0ff83715-4561-4f7c-8669-73d07e40a8de",
       "rows": [
        [
         "0",
         "1",
         "1700.0"
        ],
        [
         "1",
         "2",
         "7000.0"
        ],
        [
         "2",
         "0",
         "5200.0"
        ],
        [
         "3",
         "1",
         "800.0"
        ],
        [
         "4",
         "1",
         "800.0"
        ],
        [
         "5",
         "3",
         "1200.0"
        ],
        [
         "6",
         "2",
         "1300.0"
        ],
        [
         "7",
         "5",
         "22000.0"
        ],
        [
         "8",
         "2",
         "1000.0"
        ],
        [
         "9",
         "0",
         "35000.0"
        ],
        [
         "10",
         "1",
         "1200.0"
        ],
        [
         "11",
         "2",
         "1500.0"
        ],
        [
         "12",
         "3",
         "1500.0"
        ],
        [
         "13",
         "1",
         "2000.0"
        ],
        [
         "14",
         "1",
         "1800.0"
        ],
        [
         "15",
         "4",
         "13000.0"
        ],
        [
         "16",
         "0",
         "28000.0"
        ],
        [
         "17",
         "3",
         "3800.0"
        ],
        [
         "18",
         "3",
         "2000.0"
        ],
        [
         "19",
         "3",
         "950.0"
        ],
        [
         "20",
         "2",
         "1700.0"
        ],
        [
         "21",
         "2",
         "1900.0"
        ],
        [
         "22",
         "4",
         "7500.0"
        ],
        [
         "23",
         "3",
         "1000.0"
        ],
        [
         "24",
         "2",
         "2000.0"
        ],
        [
         "25",
         "1",
         "4500.0"
        ],
        [
         "26",
         "0",
         "1100.0"
        ],
        [
         "27",
         "3",
         "7000.0"
        ],
        [
         "28",
         "1",
         "750.0"
        ],
        [
         "29",
         "0",
         "1300.0"
        ],
        [
         "30",
         "3",
         "4200.0"
        ],
        [
         "31",
         "4",
         "12000.0"
        ],
        [
         "32",
         "2",
         "2500.0"
        ],
        [
         "33",
         "3",
         "10000.0"
        ],
        [
         "34",
         "3",
         "5500.0"
        ],
        [
         "35",
         "0",
         "700.0"
        ],
        [
         "36",
         "3",
         "2300.0"
        ],
        [
         "37",
         "3",
         "3900.0"
        ],
        [
         "38",
         "0",
         "117540.0"
        ],
        [
         "39",
         "1",
         "1300.0"
        ],
        [
         "40",
         "3",
         "3500.0"
        ],
        [
         "41",
         "3",
         "1800.0"
        ],
        [
         "42",
         "0",
         "1500.0"
        ],
        [
         "43",
         "4",
         "5000.0"
        ],
        [
         "44",
         "3",
         "4500.0"
        ],
        [
         "45",
         "0",
         "7500.0"
        ],
        [
         "46",
         "0",
         "140456.0"
        ],
        [
         "47",
         "2",
         "3000.0"
        ],
        [
         "48",
         "3",
         "2600.0"
        ],
        [
         "49",
         "3",
         "2350.0"
        ]
       ],
       "shape": {
        "columns": 2,
        "rows": 32960
       }
      },
      "text/html": [
       "<div>\n",
       "<style scoped>\n",
       "    .dataframe tbody tr th:only-of-type {\n",
       "        vertical-align: middle;\n",
       "    }\n",
       "\n",
       "    .dataframe tbody tr th {\n",
       "        vertical-align: top;\n",
       "    }\n",
       "\n",
       "    .dataframe thead th {\n",
       "        text-align: right;\n",
       "    }\n",
       "</style>\n",
       "<table border=\"1\" class=\"dataframe\">\n",
       "  <thead>\n",
       "    <tr style=\"text-align: right;\">\n",
       "      <th></th>\n",
       "      <th>Quartos</th>\n",
       "      <th>Valor</th>\n",
       "    </tr>\n",
       "  </thead>\n",
       "  <tbody>\n",
       "    <tr>\n",
       "      <th>0</th>\n",
       "      <td>1</td>\n",
       "      <td>1700.0</td>\n",
       "    </tr>\n",
       "    <tr>\n",
       "      <th>1</th>\n",
       "      <td>2</td>\n",
       "      <td>7000.0</td>\n",
       "    </tr>\n",
       "    <tr>\n",
       "      <th>2</th>\n",
       "      <td>0</td>\n",
       "      <td>5200.0</td>\n",
       "    </tr>\n",
       "    <tr>\n",
       "      <th>3</th>\n",
       "      <td>1</td>\n",
       "      <td>800.0</td>\n",
       "    </tr>\n",
       "    <tr>\n",
       "      <th>4</th>\n",
       "      <td>1</td>\n",
       "      <td>800.0</td>\n",
       "    </tr>\n",
       "    <tr>\n",
       "      <th>...</th>\n",
       "      <td>...</td>\n",
       "      <td>...</td>\n",
       "    </tr>\n",
       "    <tr>\n",
       "      <th>32955</th>\n",
       "      <td>0</td>\n",
       "      <td>800.0</td>\n",
       "    </tr>\n",
       "    <tr>\n",
       "      <th>32956</th>\n",
       "      <td>3</td>\n",
       "      <td>1800.0</td>\n",
       "    </tr>\n",
       "    <tr>\n",
       "      <th>32957</th>\n",
       "      <td>2</td>\n",
       "      <td>1400.0</td>\n",
       "    </tr>\n",
       "    <tr>\n",
       "      <th>32958</th>\n",
       "      <td>2</td>\n",
       "      <td>3000.0</td>\n",
       "    </tr>\n",
       "    <tr>\n",
       "      <th>32959</th>\n",
       "      <td>0</td>\n",
       "      <td>6500.0</td>\n",
       "    </tr>\n",
       "  </tbody>\n",
       "</table>\n",
       "<p>32960 rows × 2 columns</p>\n",
       "</div>"
      ],
      "text/plain": [
       "       Quartos   Valor\n",
       "0            1  1700.0\n",
       "1            2  7000.0\n",
       "2            0  5200.0\n",
       "3            1   800.0\n",
       "4            1   800.0\n",
       "...        ...     ...\n",
       "32955        0   800.0\n",
       "32956        3  1800.0\n",
       "32957        2  1400.0\n",
       "32958        2  3000.0\n",
       "32959        0  6500.0\n",
       "\n",
       "[32960 rows x 2 columns]"
      ]
     },
     "execution_count": 9,
     "metadata": {},
     "output_type": "execute_result"
    }
   ],
   "source": [
    "dados[['Quartos', 'Valor']]"
   ]
  },
  {
   "cell_type": "markdown",
   "id": "5003f249",
   "metadata": {},
   "source": [
    "# Análise Exploratória dos Dados"
   ]
  },
  {
   "cell_type": "markdown",
   "id": "7ac445b1",
   "metadata": {},
   "source": [
    "## Qual o valor médio de aluguel por tipo de imóvel?"
   ]
  },
  {
   "cell_type": "code",
   "execution_count": 10,
   "id": "3d0083b3",
   "metadata": {},
   "outputs": [
    {
     "data": {
      "application/vnd.microsoft.datawrangler.viewer.v0+json": {
       "columns": [
        {
         "name": "index",
         "rawType": "int64",
         "type": "integer"
        },
        {
         "name": "Tipo",
         "rawType": "object",
         "type": "string"
        },
        {
         "name": "Bairro",
         "rawType": "object",
         "type": "string"
        },
        {
         "name": "Quartos",
         "rawType": "int64",
         "type": "integer"
        },
        {
         "name": "Vagas",
         "rawType": "int64",
         "type": "integer"
        },
        {
         "name": "Suites",
         "rawType": "int64",
         "type": "integer"
        },
        {
         "name": "Area",
         "rawType": "int64",
         "type": "integer"
        },
        {
         "name": "Valor",
         "rawType": "float64",
         "type": "float"
        },
        {
         "name": "Condominio",
         "rawType": "float64",
         "type": "float"
        },
        {
         "name": "IPTU",
         "rawType": "float64",
         "type": "float"
        }
       ],
       "ref": "5fd2092b-0088-4bfc-90b9-f3a5d9d2fbc6",
       "rows": [
        [
         "0",
         "Quitinete",
         "Copacabana",
         "1",
         "0",
         "0",
         "40",
         "1700.0",
         "500.0",
         "60.0"
        ],
        [
         "1",
         "Casa",
         "Jardim Botânico",
         "2",
         "0",
         "1",
         "100",
         "7000.0",
         null,
         null
        ],
        [
         "2",
         "Conjunto Comercial/Sala",
         "Barra da Tijuca",
         "0",
         "4",
         "0",
         "150",
         "5200.0",
         "4020.0",
         "1111.0"
        ],
        [
         "3",
         "Apartamento",
         "Centro",
         "1",
         "0",
         "0",
         "15",
         "800.0",
         "390.0",
         "20.0"
        ],
        [
         "4",
         "Apartamento",
         "Higienópolis",
         "1",
         "0",
         "0",
         "48",
         "800.0",
         "230.0",
         null
        ]
       ],
       "shape": {
        "columns": 9,
        "rows": 5
       }
      },
      "text/html": [
       "<div>\n",
       "<style scoped>\n",
       "    .dataframe tbody tr th:only-of-type {\n",
       "        vertical-align: middle;\n",
       "    }\n",
       "\n",
       "    .dataframe tbody tr th {\n",
       "        vertical-align: top;\n",
       "    }\n",
       "\n",
       "    .dataframe thead th {\n",
       "        text-align: right;\n",
       "    }\n",
       "</style>\n",
       "<table border=\"1\" class=\"dataframe\">\n",
       "  <thead>\n",
       "    <tr style=\"text-align: right;\">\n",
       "      <th></th>\n",
       "      <th>Tipo</th>\n",
       "      <th>Bairro</th>\n",
       "      <th>Quartos</th>\n",
       "      <th>Vagas</th>\n",
       "      <th>Suites</th>\n",
       "      <th>Area</th>\n",
       "      <th>Valor</th>\n",
       "      <th>Condominio</th>\n",
       "      <th>IPTU</th>\n",
       "    </tr>\n",
       "  </thead>\n",
       "  <tbody>\n",
       "    <tr>\n",
       "      <th>0</th>\n",
       "      <td>Quitinete</td>\n",
       "      <td>Copacabana</td>\n",
       "      <td>1</td>\n",
       "      <td>0</td>\n",
       "      <td>0</td>\n",
       "      <td>40</td>\n",
       "      <td>1700.0</td>\n",
       "      <td>500.0</td>\n",
       "      <td>60.0</td>\n",
       "    </tr>\n",
       "    <tr>\n",
       "      <th>1</th>\n",
       "      <td>Casa</td>\n",
       "      <td>Jardim Botânico</td>\n",
       "      <td>2</td>\n",
       "      <td>0</td>\n",
       "      <td>1</td>\n",
       "      <td>100</td>\n",
       "      <td>7000.0</td>\n",
       "      <td>NaN</td>\n",
       "      <td>NaN</td>\n",
       "    </tr>\n",
       "    <tr>\n",
       "      <th>2</th>\n",
       "      <td>Conjunto Comercial/Sala</td>\n",
       "      <td>Barra da Tijuca</td>\n",
       "      <td>0</td>\n",
       "      <td>4</td>\n",
       "      <td>0</td>\n",
       "      <td>150</td>\n",
       "      <td>5200.0</td>\n",
       "      <td>4020.0</td>\n",
       "      <td>1111.0</td>\n",
       "    </tr>\n",
       "    <tr>\n",
       "      <th>3</th>\n",
       "      <td>Apartamento</td>\n",
       "      <td>Centro</td>\n",
       "      <td>1</td>\n",
       "      <td>0</td>\n",
       "      <td>0</td>\n",
       "      <td>15</td>\n",
       "      <td>800.0</td>\n",
       "      <td>390.0</td>\n",
       "      <td>20.0</td>\n",
       "    </tr>\n",
       "    <tr>\n",
       "      <th>4</th>\n",
       "      <td>Apartamento</td>\n",
       "      <td>Higienópolis</td>\n",
       "      <td>1</td>\n",
       "      <td>0</td>\n",
       "      <td>0</td>\n",
       "      <td>48</td>\n",
       "      <td>800.0</td>\n",
       "      <td>230.0</td>\n",
       "      <td>NaN</td>\n",
       "    </tr>\n",
       "  </tbody>\n",
       "</table>\n",
       "</div>"
      ],
      "text/plain": [
       "                      Tipo           Bairro  Quartos  Vagas  Suites  Area  \\\n",
       "0                Quitinete       Copacabana        1      0       0    40   \n",
       "1                     Casa  Jardim Botânico        2      0       1   100   \n",
       "2  Conjunto Comercial/Sala  Barra da Tijuca        0      4       0   150   \n",
       "3              Apartamento           Centro        1      0       0    15   \n",
       "4              Apartamento     Higienópolis        1      0       0    48   \n",
       "\n",
       "    Valor  Condominio    IPTU  \n",
       "0  1700.0       500.0    60.0  \n",
       "1  7000.0         NaN     NaN  \n",
       "2  5200.0      4020.0  1111.0  \n",
       "3   800.0       390.0    20.0  \n",
       "4   800.0       230.0     NaN  "
      ]
     },
     "execution_count": 10,
     "metadata": {},
     "output_type": "execute_result"
    }
   ],
   "source": [
    "dados.head()"
   ]
  },
  {
   "cell_type": "code",
   "execution_count": 11,
   "id": "261fa333",
   "metadata": {},
   "outputs": [
    {
     "data": {
      "text/plain": [
       "np.float64(12952.659715265761)"
      ]
     },
     "execution_count": 11,
     "metadata": {},
     "output_type": "execute_result"
    }
   ],
   "source": [
    "dados['Valor'].mean()"
   ]
  },
  {
   "cell_type": "code",
   "execution_count": 12,
   "id": "959e952f",
   "metadata": {},
   "outputs": [
    {
     "data": {
      "application/vnd.microsoft.datawrangler.viewer.v0+json": {
       "columns": [
        {
         "name": "Tipo",
         "rawType": "object",
         "type": "string"
        },
        {
         "name": "Quartos",
         "rawType": "float64",
         "type": "float"
        },
        {
         "name": "Vagas",
         "rawType": "float64",
         "type": "float"
        },
        {
         "name": "Suites",
         "rawType": "float64",
         "type": "float"
        },
        {
         "name": "Area",
         "rawType": "float64",
         "type": "float"
        },
        {
         "name": "Valor",
         "rawType": "float64",
         "type": "float"
        },
        {
         "name": "Condominio",
         "rawType": "float64",
         "type": "float"
        },
        {
         "name": "IPTU",
         "rawType": "float64",
         "type": "float"
        }
       ],
       "ref": "2992d19a-f6cd-4719-b9d3-2a307552c76f",
       "rows": [
        [
         "Apartamento",
         "2.481568707761622",
         "1.2323878763055498",
         "0.8759983616629121",
         "119.79049764489044",
         "4744.614647887324",
         "1722.6536967051684",
         "686.170412517781"
        ],
        [
         "Box/Garagem",
         "0.06097560975609756",
         "1.3048780487804879",
         "0.0",
         "17.524390243902438",
         "1899.7560975609756",
         "305.45",
         "125.84615384615384"
        ],
        [
         "Casa",
         "3.1334022750775596",
         "1.795243019648397",
         "1.2585315408479834",
         "250.5780765253361",
         "6793.454922279792",
         "931.2809523809524",
         "1582.5063938618925"
        ],
        [
         "Casa Comercial",
         "1.5622641509433963",
         "2.2037735849056603",
         "0.26037735849056604",
         "372.2415094339623",
         "14478.264150943396",
         "1935.7096774193549",
         "1707.3867403314916"
        ],
        [
         "Casa de Condomínio",
         "4.007028112449799",
         "3.1014056224899598",
         "2.8644578313253013",
         "456.1616465863454",
         "11952.06124497992",
         "1342.025527192009",
         "3252.517730496454"
        ],
        [
         "Casa de Vila",
         "1.927710843373494",
         "0.3895582329317269",
         "0.2289156626506024",
         "78.46987951807229",
         "1574.3694779116465",
         "138.76842105263157",
         "183.87878787878788"
        ],
        [
         "Chácara",
         "3.0",
         "0.0",
         "0.0",
         "0.0",
         "4900.0",
         null,
         null
        ],
        [
         "Conjunto Comercial/Sala",
         "0.04093910491562729",
         "2.5168011738811447",
         "0.010858400586940571",
         "214.47248716067497",
         "14715.045521292217",
         "4512.2180999689535",
         "1399.5965711805557"
        ],
        [
         "Flat",
         "1.415966386554622",
         "0.9621848739495799",
         "0.7542016806722689",
         "65.48319327731092",
         "4546.189075630252",
         "2027.7205542725173",
         "493.1666666666667"
        ],
        [
         "Galpão/Depósito/Armazém",
         "0.04333868378812199",
         "5.587479935794542",
         "0.0",
         "2514.8105939004818",
         "53407.06260032103",
         "10560.308823529413",
         "5050.465240641711"
        ],
        [
         "Hotel",
         "25.5",
         "2.5",
         "12.0",
         "885.5",
         "25000.0",
         null,
         "6202.0"
        ],
        [
         "Indústria",
         "0.0",
         "0.0",
         "0.0",
         "22.0",
         "120000.0",
         null,
         null
        ],
        [
         "Loft",
         "1.1176470588235294",
         "0.6666666666666666",
         "0.37254901960784315",
         "58.372549019607845",
         "2557.8823529411766",
         "869.2391304347826",
         "238.24324324324326"
        ],
        [
         "Loja Shopping/ Ct Comercial",
         "0.044534412955465584",
         "6.874493927125506",
         "0.008097165991902834",
         "88.10931174089069",
         "8126.178861788618",
         "1790.1090047393366",
         "1052.415458937198"
        ],
        [
         "Loja/Salão",
         "0.010518934081346423",
         "1.2173913043478262",
         "0.043478260869565216",
         "228.85203366058906",
         "13769.64676966292",
         "2605.6019536019535",
         "2670.3314087759813"
        ],
        [
         "Loteamento/Condomínio",
         "0.0",
         "0.0",
         "0.0",
         "2069.0",
         "22000.0",
         null,
         "4885.0"
        ],
        [
         "Pousada/Chalé",
         "23.0",
         "0.0",
         "23.0",
         "862.0",
         "1480.0",
         "295.0",
         null
        ],
        [
         "Prédio Inteiro",
         "0.33554817275747506",
         "11.199335548172758",
         "0.019933554817275746",
         "1773.8372093023256",
         "498637.23920265783",
         "55066.75",
         "165480.0224719101"
        ],
        [
         "Quitinete",
         "0.8349282296650717",
         "0.017942583732057416",
         "0.03708133971291866",
         "28.954545454545453",
         "1246.840909090909",
         "427.3419689119171",
         "75.79074074074074"
        ],
        [
         "Studio",
         "0.5",
         "0.25",
         "0.0",
         "103.25",
         "2400.0",
         "549.0",
         "151.25"
        ],
        [
         "Sítio",
         "5.1",
         "1.0",
         "3.8",
         "15217.0",
         "12499.0",
         null,
         "5848.8"
        ],
        [
         "Terreno Padrão",
         "0.04285714285714286",
         "0.05714285714285714",
         "0.0",
         "5044.814285714286",
         "32567.714285714286",
         "1.0",
         "5138.170731707317"
        ]
       ],
       "shape": {
        "columns": 7,
        "rows": 22
       }
      },
      "text/html": [
       "<div>\n",
       "<style scoped>\n",
       "    .dataframe tbody tr th:only-of-type {\n",
       "        vertical-align: middle;\n",
       "    }\n",
       "\n",
       "    .dataframe tbody tr th {\n",
       "        vertical-align: top;\n",
       "    }\n",
       "\n",
       "    .dataframe thead th {\n",
       "        text-align: right;\n",
       "    }\n",
       "</style>\n",
       "<table border=\"1\" class=\"dataframe\">\n",
       "  <thead>\n",
       "    <tr style=\"text-align: right;\">\n",
       "      <th></th>\n",
       "      <th>Quartos</th>\n",
       "      <th>Vagas</th>\n",
       "      <th>Suites</th>\n",
       "      <th>Area</th>\n",
       "      <th>Valor</th>\n",
       "      <th>Condominio</th>\n",
       "      <th>IPTU</th>\n",
       "    </tr>\n",
       "    <tr>\n",
       "      <th>Tipo</th>\n",
       "      <th></th>\n",
       "      <th></th>\n",
       "      <th></th>\n",
       "      <th></th>\n",
       "      <th></th>\n",
       "      <th></th>\n",
       "      <th></th>\n",
       "    </tr>\n",
       "  </thead>\n",
       "  <tbody>\n",
       "    <tr>\n",
       "      <th>Apartamento</th>\n",
       "      <td>2.481569</td>\n",
       "      <td>1.232388</td>\n",
       "      <td>0.875998</td>\n",
       "      <td>119.790498</td>\n",
       "      <td>4744.614648</td>\n",
       "      <td>1722.653697</td>\n",
       "      <td>686.170413</td>\n",
       "    </tr>\n",
       "    <tr>\n",
       "      <th>Box/Garagem</th>\n",
       "      <td>0.060976</td>\n",
       "      <td>1.304878</td>\n",
       "      <td>0.000000</td>\n",
       "      <td>17.524390</td>\n",
       "      <td>1899.756098</td>\n",
       "      <td>305.450000</td>\n",
       "      <td>125.846154</td>\n",
       "    </tr>\n",
       "    <tr>\n",
       "      <th>Casa</th>\n",
       "      <td>3.133402</td>\n",
       "      <td>1.795243</td>\n",
       "      <td>1.258532</td>\n",
       "      <td>250.578077</td>\n",
       "      <td>6793.454922</td>\n",
       "      <td>931.280952</td>\n",
       "      <td>1582.506394</td>\n",
       "    </tr>\n",
       "    <tr>\n",
       "      <th>Casa Comercial</th>\n",
       "      <td>1.562264</td>\n",
       "      <td>2.203774</td>\n",
       "      <td>0.260377</td>\n",
       "      <td>372.241509</td>\n",
       "      <td>14478.264151</td>\n",
       "      <td>1935.709677</td>\n",
       "      <td>1707.386740</td>\n",
       "    </tr>\n",
       "    <tr>\n",
       "      <th>Casa de Condomínio</th>\n",
       "      <td>4.007028</td>\n",
       "      <td>3.101406</td>\n",
       "      <td>2.864458</td>\n",
       "      <td>456.161647</td>\n",
       "      <td>11952.061245</td>\n",
       "      <td>1342.025527</td>\n",
       "      <td>3252.517730</td>\n",
       "    </tr>\n",
       "    <tr>\n",
       "      <th>Casa de Vila</th>\n",
       "      <td>1.927711</td>\n",
       "      <td>0.389558</td>\n",
       "      <td>0.228916</td>\n",
       "      <td>78.469880</td>\n",
       "      <td>1574.369478</td>\n",
       "      <td>138.768421</td>\n",
       "      <td>183.878788</td>\n",
       "    </tr>\n",
       "    <tr>\n",
       "      <th>Chácara</th>\n",
       "      <td>3.000000</td>\n",
       "      <td>0.000000</td>\n",
       "      <td>0.000000</td>\n",
       "      <td>0.000000</td>\n",
       "      <td>4900.000000</td>\n",
       "      <td>NaN</td>\n",
       "      <td>NaN</td>\n",
       "    </tr>\n",
       "    <tr>\n",
       "      <th>Conjunto Comercial/Sala</th>\n",
       "      <td>0.040939</td>\n",
       "      <td>2.516801</td>\n",
       "      <td>0.010858</td>\n",
       "      <td>214.472487</td>\n",
       "      <td>14715.045521</td>\n",
       "      <td>4512.218100</td>\n",
       "      <td>1399.596571</td>\n",
       "    </tr>\n",
       "    <tr>\n",
       "      <th>Flat</th>\n",
       "      <td>1.415966</td>\n",
       "      <td>0.962185</td>\n",
       "      <td>0.754202</td>\n",
       "      <td>65.483193</td>\n",
       "      <td>4546.189076</td>\n",
       "      <td>2027.720554</td>\n",
       "      <td>493.166667</td>\n",
       "    </tr>\n",
       "    <tr>\n",
       "      <th>Galpão/Depósito/Armazém</th>\n",
       "      <td>0.043339</td>\n",
       "      <td>5.587480</td>\n",
       "      <td>0.000000</td>\n",
       "      <td>2514.810594</td>\n",
       "      <td>53407.062600</td>\n",
       "      <td>10560.308824</td>\n",
       "      <td>5050.465241</td>\n",
       "    </tr>\n",
       "    <tr>\n",
       "      <th>Hotel</th>\n",
       "      <td>25.500000</td>\n",
       "      <td>2.500000</td>\n",
       "      <td>12.000000</td>\n",
       "      <td>885.500000</td>\n",
       "      <td>25000.000000</td>\n",
       "      <td>NaN</td>\n",
       "      <td>6202.000000</td>\n",
       "    </tr>\n",
       "    <tr>\n",
       "      <th>Indústria</th>\n",
       "      <td>0.000000</td>\n",
       "      <td>0.000000</td>\n",
       "      <td>0.000000</td>\n",
       "      <td>22.000000</td>\n",
       "      <td>120000.000000</td>\n",
       "      <td>NaN</td>\n",
       "      <td>NaN</td>\n",
       "    </tr>\n",
       "    <tr>\n",
       "      <th>Loft</th>\n",
       "      <td>1.117647</td>\n",
       "      <td>0.666667</td>\n",
       "      <td>0.372549</td>\n",
       "      <td>58.372549</td>\n",
       "      <td>2557.882353</td>\n",
       "      <td>869.239130</td>\n",
       "      <td>238.243243</td>\n",
       "    </tr>\n",
       "    <tr>\n",
       "      <th>Loja Shopping/ Ct Comercial</th>\n",
       "      <td>0.044534</td>\n",
       "      <td>6.874494</td>\n",
       "      <td>0.008097</td>\n",
       "      <td>88.109312</td>\n",
       "      <td>8126.178862</td>\n",
       "      <td>1790.109005</td>\n",
       "      <td>1052.415459</td>\n",
       "    </tr>\n",
       "    <tr>\n",
       "      <th>Loja/Salão</th>\n",
       "      <td>0.010519</td>\n",
       "      <td>1.217391</td>\n",
       "      <td>0.043478</td>\n",
       "      <td>228.852034</td>\n",
       "      <td>13769.646770</td>\n",
       "      <td>2605.601954</td>\n",
       "      <td>2670.331409</td>\n",
       "    </tr>\n",
       "    <tr>\n",
       "      <th>Loteamento/Condomínio</th>\n",
       "      <td>0.000000</td>\n",
       "      <td>0.000000</td>\n",
       "      <td>0.000000</td>\n",
       "      <td>2069.000000</td>\n",
       "      <td>22000.000000</td>\n",
       "      <td>NaN</td>\n",
       "      <td>4885.000000</td>\n",
       "    </tr>\n",
       "    <tr>\n",
       "      <th>Pousada/Chalé</th>\n",
       "      <td>23.000000</td>\n",
       "      <td>0.000000</td>\n",
       "      <td>23.000000</td>\n",
       "      <td>862.000000</td>\n",
       "      <td>1480.000000</td>\n",
       "      <td>295.000000</td>\n",
       "      <td>NaN</td>\n",
       "    </tr>\n",
       "    <tr>\n",
       "      <th>Prédio Inteiro</th>\n",
       "      <td>0.335548</td>\n",
       "      <td>11.199336</td>\n",
       "      <td>0.019934</td>\n",
       "      <td>1773.837209</td>\n",
       "      <td>498637.239203</td>\n",
       "      <td>55066.750000</td>\n",
       "      <td>165480.022472</td>\n",
       "    </tr>\n",
       "    <tr>\n",
       "      <th>Quitinete</th>\n",
       "      <td>0.834928</td>\n",
       "      <td>0.017943</td>\n",
       "      <td>0.037081</td>\n",
       "      <td>28.954545</td>\n",
       "      <td>1246.840909</td>\n",
       "      <td>427.341969</td>\n",
       "      <td>75.790741</td>\n",
       "    </tr>\n",
       "    <tr>\n",
       "      <th>Studio</th>\n",
       "      <td>0.500000</td>\n",
       "      <td>0.250000</td>\n",
       "      <td>0.000000</td>\n",
       "      <td>103.250000</td>\n",
       "      <td>2400.000000</td>\n",
       "      <td>549.000000</td>\n",
       "      <td>151.250000</td>\n",
       "    </tr>\n",
       "    <tr>\n",
       "      <th>Sítio</th>\n",
       "      <td>5.100000</td>\n",
       "      <td>1.000000</td>\n",
       "      <td>3.800000</td>\n",
       "      <td>15217.000000</td>\n",
       "      <td>12499.000000</td>\n",
       "      <td>NaN</td>\n",
       "      <td>5848.800000</td>\n",
       "    </tr>\n",
       "    <tr>\n",
       "      <th>Terreno Padrão</th>\n",
       "      <td>0.042857</td>\n",
       "      <td>0.057143</td>\n",
       "      <td>0.000000</td>\n",
       "      <td>5044.814286</td>\n",
       "      <td>32567.714286</td>\n",
       "      <td>1.000000</td>\n",
       "      <td>5138.170732</td>\n",
       "    </tr>\n",
       "  </tbody>\n",
       "</table>\n",
       "</div>"
      ],
      "text/plain": [
       "                               Quartos      Vagas     Suites          Area  \\\n",
       "Tipo                                                                         \n",
       "Apartamento                   2.481569   1.232388   0.875998    119.790498   \n",
       "Box/Garagem                   0.060976   1.304878   0.000000     17.524390   \n",
       "Casa                          3.133402   1.795243   1.258532    250.578077   \n",
       "Casa Comercial                1.562264   2.203774   0.260377    372.241509   \n",
       "Casa de Condomínio            4.007028   3.101406   2.864458    456.161647   \n",
       "Casa de Vila                  1.927711   0.389558   0.228916     78.469880   \n",
       "Chácara                       3.000000   0.000000   0.000000      0.000000   \n",
       "Conjunto Comercial/Sala       0.040939   2.516801   0.010858    214.472487   \n",
       "Flat                          1.415966   0.962185   0.754202     65.483193   \n",
       "Galpão/Depósito/Armazém       0.043339   5.587480   0.000000   2514.810594   \n",
       "Hotel                        25.500000   2.500000  12.000000    885.500000   \n",
       "Indústria                     0.000000   0.000000   0.000000     22.000000   \n",
       "Loft                          1.117647   0.666667   0.372549     58.372549   \n",
       "Loja Shopping/ Ct Comercial   0.044534   6.874494   0.008097     88.109312   \n",
       "Loja/Salão                    0.010519   1.217391   0.043478    228.852034   \n",
       "Loteamento/Condomínio         0.000000   0.000000   0.000000   2069.000000   \n",
       "Pousada/Chalé                23.000000   0.000000  23.000000    862.000000   \n",
       "Prédio Inteiro                0.335548  11.199336   0.019934   1773.837209   \n",
       "Quitinete                     0.834928   0.017943   0.037081     28.954545   \n",
       "Studio                        0.500000   0.250000   0.000000    103.250000   \n",
       "Sítio                         5.100000   1.000000   3.800000  15217.000000   \n",
       "Terreno Padrão                0.042857   0.057143   0.000000   5044.814286   \n",
       "\n",
       "                                     Valor    Condominio           IPTU  \n",
       "Tipo                                                                     \n",
       "Apartamento                    4744.614648   1722.653697     686.170413  \n",
       "Box/Garagem                    1899.756098    305.450000     125.846154  \n",
       "Casa                           6793.454922    931.280952    1582.506394  \n",
       "Casa Comercial                14478.264151   1935.709677    1707.386740  \n",
       "Casa de Condomínio            11952.061245   1342.025527    3252.517730  \n",
       "Casa de Vila                   1574.369478    138.768421     183.878788  \n",
       "Chácara                        4900.000000           NaN            NaN  \n",
       "Conjunto Comercial/Sala       14715.045521   4512.218100    1399.596571  \n",
       "Flat                           4546.189076   2027.720554     493.166667  \n",
       "Galpão/Depósito/Armazém       53407.062600  10560.308824    5050.465241  \n",
       "Hotel                         25000.000000           NaN    6202.000000  \n",
       "Indústria                    120000.000000           NaN            NaN  \n",
       "Loft                           2557.882353    869.239130     238.243243  \n",
       "Loja Shopping/ Ct Comercial    8126.178862   1790.109005    1052.415459  \n",
       "Loja/Salão                    13769.646770   2605.601954    2670.331409  \n",
       "Loteamento/Condomínio         22000.000000           NaN    4885.000000  \n",
       "Pousada/Chalé                  1480.000000    295.000000            NaN  \n",
       "Prédio Inteiro               498637.239203  55066.750000  165480.022472  \n",
       "Quitinete                      1246.840909    427.341969      75.790741  \n",
       "Studio                         2400.000000    549.000000     151.250000  \n",
       "Sítio                         12499.000000           NaN    5848.800000  \n",
       "Terreno Padrão                32567.714286      1.000000    5138.170732  "
      ]
     },
     "execution_count": 12,
     "metadata": {},
     "output_type": "execute_result"
    }
   ],
   "source": [
    "dados.groupby('Tipo').mean(numeric_only=True)"
   ]
  },
  {
   "cell_type": "code",
   "execution_count": 13,
   "id": "64e9ddb9",
   "metadata": {},
   "outputs": [
    {
     "data": {
      "application/vnd.microsoft.datawrangler.viewer.v0+json": {
       "columns": [
        {
         "name": "Tipo",
         "rawType": "object",
         "type": "string"
        },
        {
         "name": "Valor",
         "rawType": "float64",
         "type": "float"
        }
       ],
       "ref": "37a390ce-0235-4dc8-8daa-06a787bb1cfa",
       "rows": [
        [
         "Apartamento",
         "4744.614647887324"
        ],
        [
         "Box/Garagem",
         "1899.7560975609756"
        ],
        [
         "Casa",
         "6793.454922279792"
        ],
        [
         "Casa Comercial",
         "14478.264150943396"
        ],
        [
         "Casa de Condomínio",
         "11952.06124497992"
        ],
        [
         "Casa de Vila",
         "1574.3694779116465"
        ],
        [
         "Chácara",
         "4900.0"
        ],
        [
         "Conjunto Comercial/Sala",
         "14715.045521292217"
        ],
        [
         "Flat",
         "4546.189075630252"
        ],
        [
         "Galpão/Depósito/Armazém",
         "53407.06260032103"
        ],
        [
         "Hotel",
         "25000.0"
        ],
        [
         "Indústria",
         "120000.0"
        ],
        [
         "Loft",
         "2557.8823529411766"
        ],
        [
         "Loja Shopping/ Ct Comercial",
         "8126.178861788618"
        ],
        [
         "Loja/Salão",
         "13769.64676966292"
        ],
        [
         "Loteamento/Condomínio",
         "22000.0"
        ],
        [
         "Pousada/Chalé",
         "1480.0"
        ],
        [
         "Prédio Inteiro",
         "498637.23920265783"
        ],
        [
         "Quitinete",
         "1246.840909090909"
        ],
        [
         "Studio",
         "2400.0"
        ],
        [
         "Sítio",
         "12499.0"
        ],
        [
         "Terreno Padrão",
         "32567.714285714286"
        ]
       ],
       "shape": {
        "columns": 1,
        "rows": 22
       }
      },
      "text/plain": [
       "Tipo\n",
       "Apartamento                      4744.614648\n",
       "Box/Garagem                      1899.756098\n",
       "Casa                             6793.454922\n",
       "Casa Comercial                  14478.264151\n",
       "Casa de Condomínio              11952.061245\n",
       "Casa de Vila                     1574.369478\n",
       "Chácara                          4900.000000\n",
       "Conjunto Comercial/Sala         14715.045521\n",
       "Flat                             4546.189076\n",
       "Galpão/Depósito/Armazém         53407.062600\n",
       "Hotel                           25000.000000\n",
       "Indústria                      120000.000000\n",
       "Loft                             2557.882353\n",
       "Loja Shopping/ Ct Comercial      8126.178862\n",
       "Loja/Salão                      13769.646770\n",
       "Loteamento/Condomínio           22000.000000\n",
       "Pousada/Chalé                    1480.000000\n",
       "Prédio Inteiro                 498637.239203\n",
       "Quitinete                        1246.840909\n",
       "Studio                           2400.000000\n",
       "Sítio                           12499.000000\n",
       "Terreno Padrão                  32567.714286\n",
       "Name: Valor, dtype: float64"
      ]
     },
     "execution_count": 13,
     "metadata": {},
     "output_type": "execute_result"
    }
   ],
   "source": [
    "dados.groupby('Tipo')['Valor'].mean()"
   ]
  },
  {
   "cell_type": "code",
   "execution_count": 14,
   "id": "47688388",
   "metadata": {},
   "outputs": [
    {
     "data": {
      "application/vnd.microsoft.datawrangler.viewer.v0+json": {
       "columns": [
        {
         "name": "Tipo",
         "rawType": "object",
         "type": "string"
        },
        {
         "name": "Valor",
         "rawType": "float64",
         "type": "float"
        }
       ],
       "ref": "9af5ae28-cba1-43d7-b3de-e7b016ea0ccc",
       "rows": [
        [
         "Quitinete",
         "1246.840909090909"
        ],
        [
         "Pousada/Chalé",
         "1480.0"
        ],
        [
         "Casa de Vila",
         "1574.3694779116465"
        ],
        [
         "Box/Garagem",
         "1899.7560975609756"
        ],
        [
         "Studio",
         "2400.0"
        ],
        [
         "Loft",
         "2557.8823529411766"
        ],
        [
         "Flat",
         "4546.189075630252"
        ],
        [
         "Apartamento",
         "4744.614647887324"
        ],
        [
         "Chácara",
         "4900.0"
        ],
        [
         "Casa",
         "6793.454922279792"
        ],
        [
         "Loja Shopping/ Ct Comercial",
         "8126.178861788618"
        ],
        [
         "Casa de Condomínio",
         "11952.06124497992"
        ],
        [
         "Sítio",
         "12499.0"
        ],
        [
         "Loja/Salão",
         "13769.64676966292"
        ],
        [
         "Casa Comercial",
         "14478.264150943396"
        ],
        [
         "Conjunto Comercial/Sala",
         "14715.045521292217"
        ],
        [
         "Loteamento/Condomínio",
         "22000.0"
        ],
        [
         "Hotel",
         "25000.0"
        ],
        [
         "Terreno Padrão",
         "32567.714285714286"
        ],
        [
         "Galpão/Depósito/Armazém",
         "53407.06260032103"
        ],
        [
         "Indústria",
         "120000.0"
        ],
        [
         "Prédio Inteiro",
         "498637.23920265783"
        ]
       ],
       "shape": {
        "columns": 1,
        "rows": 22
       }
      },
      "text/html": [
       "<div>\n",
       "<style scoped>\n",
       "    .dataframe tbody tr th:only-of-type {\n",
       "        vertical-align: middle;\n",
       "    }\n",
       "\n",
       "    .dataframe tbody tr th {\n",
       "        vertical-align: top;\n",
       "    }\n",
       "\n",
       "    .dataframe thead th {\n",
       "        text-align: right;\n",
       "    }\n",
       "</style>\n",
       "<table border=\"1\" class=\"dataframe\">\n",
       "  <thead>\n",
       "    <tr style=\"text-align: right;\">\n",
       "      <th></th>\n",
       "      <th>Valor</th>\n",
       "    </tr>\n",
       "    <tr>\n",
       "      <th>Tipo</th>\n",
       "      <th></th>\n",
       "    </tr>\n",
       "  </thead>\n",
       "  <tbody>\n",
       "    <tr>\n",
       "      <th>Quitinete</th>\n",
       "      <td>1246.840909</td>\n",
       "    </tr>\n",
       "    <tr>\n",
       "      <th>Pousada/Chalé</th>\n",
       "      <td>1480.000000</td>\n",
       "    </tr>\n",
       "    <tr>\n",
       "      <th>Casa de Vila</th>\n",
       "      <td>1574.369478</td>\n",
       "    </tr>\n",
       "    <tr>\n",
       "      <th>Box/Garagem</th>\n",
       "      <td>1899.756098</td>\n",
       "    </tr>\n",
       "    <tr>\n",
       "      <th>Studio</th>\n",
       "      <td>2400.000000</td>\n",
       "    </tr>\n",
       "    <tr>\n",
       "      <th>Loft</th>\n",
       "      <td>2557.882353</td>\n",
       "    </tr>\n",
       "    <tr>\n",
       "      <th>Flat</th>\n",
       "      <td>4546.189076</td>\n",
       "    </tr>\n",
       "    <tr>\n",
       "      <th>Apartamento</th>\n",
       "      <td>4744.614648</td>\n",
       "    </tr>\n",
       "    <tr>\n",
       "      <th>Chácara</th>\n",
       "      <td>4900.000000</td>\n",
       "    </tr>\n",
       "    <tr>\n",
       "      <th>Casa</th>\n",
       "      <td>6793.454922</td>\n",
       "    </tr>\n",
       "    <tr>\n",
       "      <th>Loja Shopping/ Ct Comercial</th>\n",
       "      <td>8126.178862</td>\n",
       "    </tr>\n",
       "    <tr>\n",
       "      <th>Casa de Condomínio</th>\n",
       "      <td>11952.061245</td>\n",
       "    </tr>\n",
       "    <tr>\n",
       "      <th>Sítio</th>\n",
       "      <td>12499.000000</td>\n",
       "    </tr>\n",
       "    <tr>\n",
       "      <th>Loja/Salão</th>\n",
       "      <td>13769.646770</td>\n",
       "    </tr>\n",
       "    <tr>\n",
       "      <th>Casa Comercial</th>\n",
       "      <td>14478.264151</td>\n",
       "    </tr>\n",
       "    <tr>\n",
       "      <th>Conjunto Comercial/Sala</th>\n",
       "      <td>14715.045521</td>\n",
       "    </tr>\n",
       "    <tr>\n",
       "      <th>Loteamento/Condomínio</th>\n",
       "      <td>22000.000000</td>\n",
       "    </tr>\n",
       "    <tr>\n",
       "      <th>Hotel</th>\n",
       "      <td>25000.000000</td>\n",
       "    </tr>\n",
       "    <tr>\n",
       "      <th>Terreno Padrão</th>\n",
       "      <td>32567.714286</td>\n",
       "    </tr>\n",
       "    <tr>\n",
       "      <th>Galpão/Depósito/Armazém</th>\n",
       "      <td>53407.062600</td>\n",
       "    </tr>\n",
       "    <tr>\n",
       "      <th>Indústria</th>\n",
       "      <td>120000.000000</td>\n",
       "    </tr>\n",
       "    <tr>\n",
       "      <th>Prédio Inteiro</th>\n",
       "      <td>498637.239203</td>\n",
       "    </tr>\n",
       "  </tbody>\n",
       "</table>\n",
       "</div>"
      ],
      "text/plain": [
       "                                     Valor\n",
       "Tipo                                      \n",
       "Quitinete                      1246.840909\n",
       "Pousada/Chalé                  1480.000000\n",
       "Casa de Vila                   1574.369478\n",
       "Box/Garagem                    1899.756098\n",
       "Studio                         2400.000000\n",
       "Loft                           2557.882353\n",
       "Flat                           4546.189076\n",
       "Apartamento                    4744.614648\n",
       "Chácara                        4900.000000\n",
       "Casa                           6793.454922\n",
       "Loja Shopping/ Ct Comercial    8126.178862\n",
       "Casa de Condomínio            11952.061245\n",
       "Sítio                         12499.000000\n",
       "Loja/Salão                    13769.646770\n",
       "Casa Comercial                14478.264151\n",
       "Conjunto Comercial/Sala       14715.045521\n",
       "Loteamento/Condomínio         22000.000000\n",
       "Hotel                         25000.000000\n",
       "Terreno Padrão                32567.714286\n",
       "Galpão/Depósito/Armazém       53407.062600\n",
       "Indústria                    120000.000000\n",
       "Prédio Inteiro               498637.239203"
      ]
     },
     "execution_count": 14,
     "metadata": {},
     "output_type": "execute_result"
    }
   ],
   "source": [
    "dados.groupby('Tipo')[['Valor']].mean().sort_values('Valor')"
   ]
  },
  {
   "cell_type": "code",
   "execution_count": 15,
   "id": "9bedb6f5",
   "metadata": {},
   "outputs": [
    {
     "data": {
      "text/plain": [
       "<Axes: ylabel='Tipo'>"
      ]
     },
     "execution_count": 15,
     "metadata": {},
     "output_type": "execute_result"
    },
    {
     "data": {
      "image/png": "[encoded data removed]",
      "text/plain": [
       "<Figure size 1000x600 with 1 Axes>"
      ]
     },
     "metadata": {},
     "output_type": "display_data"
    }
   ],
   "source": [
    "df_preco_tipo = dados.groupby('Tipo')[['Valor']].mean().sort_values('Valor')\n",
    "df_preco_tipo.plot(kind='barh', figsize=(10, 6), color='purple')"
   ]
  },
  {
   "cell_type": "markdown",
   "id": "ba083fd0",
   "metadata": {},
   "source": [
    "## Removendo os imoveis comerciais"
   ]
  },
  {
   "cell_type": "code",
   "execution_count": 16,
   "id": "6417e048",
   "metadata": {},
   "outputs": [
    {
     "data": {
      "text/plain": [
       "array(['Quitinete', 'Casa', 'Conjunto Comercial/Sala', 'Apartamento',\n",
       "       'Casa de Condomínio', 'Prédio Inteiro', 'Flat', 'Loja/Salão',\n",
       "       'Galpão/Depósito/Armazém', 'Casa Comercial', 'Casa de Vila',\n",
       "       'Terreno Padrão', 'Box/Garagem', 'Loft',\n",
       "       'Loja Shopping/ Ct Comercial', 'Chácara', 'Loteamento/Condomínio',\n",
       "       'Sítio', 'Pousada/Chalé', 'Studio', 'Hotel', 'Indústria'],\n",
       "      dtype=object)"
      ]
     },
     "execution_count": 16,
     "metadata": {},
     "output_type": "execute_result"
    }
   ],
   "source": [
    "dados.Tipo.unique()"
   ]
  },
  {
   "cell_type": "code",
   "execution_count": 17,
   "id": "97dfc8d2",
   "metadata": {},
   "outputs": [],
   "source": [
    "imoveis_comerciais = ['Conjunto Comercial/Sala', \n",
    "                      'Prédio Inteiro', 'Loja/Salão', \n",
    "                      'Galpão/Depósito/Armazém', \n",
    "                      'Casa Comercial', 'Terreno Padrão',\n",
    "                      'Loja Shopping/ Ct Comercial',\n",
    "                      'Box/Garagem', 'Chácara',\n",
    "                      'Loteamento/Condomínio', 'Sítio',\n",
    "                      'Pousada/Chalé', 'Hotel', 'Indústria']\n",
    "                                            "
   ]
  },
  {
   "cell_type": "code",
   "execution_count": 18,
   "id": "2dcddd60",
   "metadata": {},
   "outputs": [
    {
     "data": {
      "application/vnd.microsoft.datawrangler.viewer.v0+json": {
       "columns": [
        {
         "name": "index",
         "rawType": "int64",
         "type": "integer"
        },
        {
         "name": "Tipo",
         "rawType": "object",
         "type": "string"
        },
        {
         "name": "Bairro",
         "rawType": "object",
         "type": "string"
        },
        {
         "name": "Quartos",
         "rawType": "int64",
         "type": "integer"
        },
        {
         "name": "Vagas",
         "rawType": "int64",
         "type": "integer"
        },
        {
         "name": "Suites",
         "rawType": "int64",
         "type": "integer"
        },
        {
         "name": "Area",
         "rawType": "int64",
         "type": "integer"
        },
        {
         "name": "Valor",
         "rawType": "float64",
         "type": "float"
        },
        {
         "name": "Condominio",
         "rawType": "float64",
         "type": "float"
        },
        {
         "name": "IPTU",
         "rawType": "float64",
         "type": "float"
        }
       ],
       "ref": "42a4e605-bcf0-4c23-8906-45e9070674db",
       "rows": [
        [
         "2",
         "Conjunto Comercial/Sala",
         "Barra da Tijuca",
         "0",
         "4",
         "0",
         "150",
         "5200.0",
         "4020.0",
         "1111.0"
        ],
        [
         "9",
         "Conjunto Comercial/Sala",
         "Centro",
         "0",
         "3",
         "0",
         "695",
         "35000.0",
         "19193.0",
         "3030.0"
        ],
        [
         "16",
         "Prédio Inteiro",
         "Botafogo",
         "0",
         "0",
         "0",
         "536",
         "28000.0",
         null,
         "3563.0"
        ],
        [
         "26",
         "Conjunto Comercial/Sala",
         "São Cristóvão",
         "0",
         "1",
         "0",
         "25",
         "1100.0",
         "600.0",
         null
        ],
        [
         "29",
         "Loja/Salão",
         "Campo Grande",
         "0",
         "1",
         "0",
         "35",
         "1300.0",
         "950.0",
         null
        ],
        [
         "35",
         "Conjunto Comercial/Sala",
         "Barra da Tijuca",
         "0",
         "1",
         "0",
         "22",
         "700.0",
         null,
         null
        ],
        [
         "38",
         "Conjunto Comercial/Sala",
         "Centro",
         "0",
         "5",
         "0",
         "1306",
         "117540.0",
         "19486.0",
         null
        ],
        [
         "42",
         "Conjunto Comercial/Sala",
         "Recreio dos Bandeirantes",
         "0",
         "1",
         "0",
         "50",
         "1500.0",
         "250.0",
         null
        ],
        [
         "45",
         "Conjunto Comercial/Sala",
         "Centro",
         "0",
         "0",
         "0",
         "460",
         "7500.0",
         "4797.0",
         "2019.0"
        ],
        [
         "46",
         "Conjunto Comercial/Sala",
         "Centro",
         "0",
         "0",
         "0",
         "1170",
         "140456.0",
         "23409.0",
         "5852.0"
        ],
        [
         "52",
         "Conjunto Comercial/Sala",
         "Centro",
         "0",
         "1",
         "0",
         "70",
         "1900.0",
         "1080.0",
         "251.0"
        ],
        [
         "53",
         "Conjunto Comercial/Sala",
         "Jardim Botânico",
         "0",
         "1",
         "0",
         "50",
         "4000.0",
         "1160.0",
         "200.0"
        ],
        [
         "58",
         "Loja/Salão",
         "Copacabana",
         "0",
         "0",
         "0",
         "34",
         "2000.0",
         "735.0",
         null
        ],
        [
         "61",
         "Conjunto Comercial/Sala",
         "Recreio dos Bandeirantes",
         "0",
         "0",
         "0",
         "84",
         "1500.0",
         "1546.0",
         null
        ],
        [
         "69",
         "Conjunto Comercial/Sala",
         "Méier",
         "0",
         "0",
         "0",
         "32",
         "700.0",
         "380.0",
         "56.0"
        ],
        [
         "72",
         "Conjunto Comercial/Sala",
         "Centro",
         "0",
         "0",
         "0",
         "1",
         "2850.0",
         "2050.0",
         null
        ],
        [
         "78",
         "Conjunto Comercial/Sala",
         "Barra da Tijuca",
         "0",
         "1",
         "0",
         "33",
         "700.0",
         "1010.0",
         "56.0"
        ],
        [
         "79",
         "Conjunto Comercial/Sala",
         "Jardim Botânico",
         "0",
         "1",
         "0",
         "24",
         "2500.0",
         "682.0",
         "112.0"
        ],
        [
         "80",
         "Galpão/Depósito/Armazém",
         "Vargem Grande",
         "0",
         "6",
         "0",
         "2236",
         "40000.0",
         null,
         null
        ],
        [
         "81",
         "Conjunto Comercial/Sala",
         "Barra da Tijuca",
         "0",
         "1",
         "0",
         "32",
         "850.0",
         "719.0",
         null
        ],
        [
         "83",
         "Casa Comercial",
         "Botafogo",
         "0",
         "0",
         "0",
         "140",
         "7000.0",
         null,
         "137.0"
        ],
        [
         "84",
         "Galpão/Depósito/Armazém",
         "Maria da Graça",
         "0",
         "3",
         "0",
         "1000",
         "9800.0",
         null,
         "820.0"
        ],
        [
         "86",
         "Conjunto Comercial/Sala",
         "Centro",
         "0",
         "1",
         "0",
         "390",
         "25397.0",
         "12090.0",
         "1318.0"
        ],
        [
         "87",
         "Conjunto Comercial/Sala",
         "Centro",
         "0",
         "0",
         "0",
         "320",
         "12000.0",
         "3740.0",
         "1541.0"
        ],
        [
         "103",
         "Loja/Salão",
         "Barra da Tijuca",
         "0",
         "0",
         "0",
         "36",
         "5300.0",
         "2114.0",
         "839.0"
        ],
        [
         "105",
         "Conjunto Comercial/Sala",
         "Centro",
         "0",
         "0",
         "0",
         "95",
         "3800.0",
         "1688.0",
         "392.0"
        ],
        [
         "108",
         "Conjunto Comercial/Sala",
         "Centro",
         "0",
         "0",
         "0",
         "310",
         "17050.0",
         "5950.0",
         "1917.0"
        ],
        [
         "112",
         "Conjunto Comercial/Sala",
         "Barra da Tijuca",
         "0",
         "4",
         "0",
         "145",
         "9000.0",
         "6400.0",
         null
        ],
        [
         "115",
         "Conjunto Comercial/Sala",
         "Barra da Tijuca",
         "0",
         "2",
         "0",
         "142",
         "4000.0",
         "5024.0",
         "12415.0"
        ],
        [
         "116",
         "Conjunto Comercial/Sala",
         "Botafogo",
         "0",
         "3",
         "0",
         "241",
         "22000.0",
         "9384.0",
         null
        ],
        [
         "120",
         "Galpão/Depósito/Armazém",
         "Bonsucesso",
         "0",
         "10",
         "0",
         "13010",
         "100000.0",
         null,
         "12000.0"
        ],
        [
         "127",
         "Conjunto Comercial/Sala",
         "Centro",
         "0",
         "0",
         "0",
         "40",
         "1500.0",
         "637.0",
         "84.0"
        ],
        [
         "128",
         "Conjunto Comercial/Sala",
         "Centro",
         "0",
         "0",
         "0",
         "48",
         "1400.0",
         "729.0",
         "157.0"
        ],
        [
         "129",
         "Conjunto Comercial/Sala",
         "Santo Cristo",
         "0",
         "64",
         "0",
         "4800",
         "312000.0",
         "92000.0",
         null
        ],
        [
         "130",
         "Conjunto Comercial/Sala",
         "Largo do Machado",
         "0",
         "0",
         "0",
         "30",
         "800.0",
         "592.0",
         "162.0"
        ],
        [
         "136",
         "Conjunto Comercial/Sala",
         "Centro",
         "0",
         "0",
         "0",
         "55",
         "900.0",
         "1240.0",
         "240.0"
        ],
        [
         "144",
         "Conjunto Comercial/Sala",
         "Centro",
         "0",
         "0",
         "0",
         "212",
         "13000.0",
         "4700.0",
         "1350.0"
        ],
        [
         "145",
         "Conjunto Comercial/Sala",
         "Freguesia (Jacarepaguá)",
         "0",
         "0",
         "0",
         "22",
         "490.0",
         "450.0",
         "525.0"
        ],
        [
         "146",
         "Conjunto Comercial/Sala",
         "Barra da Tijuca",
         "0",
         "1",
         "0",
         "20",
         "445.0",
         "791.0",
         "1041.0"
        ],
        [
         "149",
         "Galpão/Depósito/Armazém",
         "Quintino Bocaiúva",
         "0",
         "0",
         "0",
         "550",
         "4300.0",
         null,
         null
        ],
        [
         "150",
         "Conjunto Comercial/Sala",
         "Campo Grande",
         "0",
         "0",
         "0",
         "20",
         "800.0",
         null,
         null
        ],
        [
         "151",
         "Conjunto Comercial/Sala",
         "São Francisco Xavier",
         "0",
         "1",
         "0",
         "27",
         "1500.0",
         "580.0",
         null
        ],
        [
         "155",
         "Conjunto Comercial/Sala",
         "Barra da Tijuca",
         "0",
         "1",
         "0",
         "32",
         "1300.0",
         "935.0",
         "217.0"
        ],
        [
         "156",
         "Conjunto Comercial/Sala",
         "Barra da Tijuca",
         "0",
         "0",
         "0",
         "28",
         "800.0",
         "550.0",
         null
        ],
        [
         "157",
         "Conjunto Comercial/Sala",
         "Barra da Tijuca",
         "0",
         "1",
         "0",
         "45",
         "1600.0",
         "1100.0",
         "350.0"
        ],
        [
         "159",
         "Terreno Padrão",
         "Barra da Tijuca",
         "0",
         "0",
         "0",
         "1110",
         "140000.0",
         null,
         null
        ],
        [
         "161",
         "Conjunto Comercial/Sala",
         "Centro",
         "0",
         "0",
         "0",
         "154",
         "3900.0",
         "5100.0",
         "559.0"
        ],
        [
         "168",
         "Conjunto Comercial/Sala",
         "Barra da Tijuca",
         "0",
         "0",
         "0",
         "21",
         "1200.0",
         "588.0",
         null
        ],
        [
         "169",
         "Conjunto Comercial/Sala",
         "Freguesia (Jacarepaguá)",
         "0",
         "0",
         "0",
         "22",
         "500.0",
         "600.0",
         "85.0"
        ],
        [
         "171",
         "Conjunto Comercial/Sala",
         "Recreio dos Bandeirantes",
         "0",
         "1",
         "0",
         "48",
         "2000.0",
         "1064.0",
         null
        ]
       ],
       "shape": {
        "columns": 9,
        "rows": 9849
       }
      },
      "text/html": [
       "<div>\n",
       "<style scoped>\n",
       "    .dataframe tbody tr th:only-of-type {\n",
       "        vertical-align: middle;\n",
       "    }\n",
       "\n",
       "    .dataframe tbody tr th {\n",
       "        vertical-align: top;\n",
       "    }\n",
       "\n",
       "    .dataframe thead th {\n",
       "        text-align: right;\n",
       "    }\n",
       "</style>\n",
       "<table border=\"1\" class=\"dataframe\">\n",
       "  <thead>\n",
       "    <tr style=\"text-align: right;\">\n",
       "      <th></th>\n",
       "      <th>Tipo</th>\n",
       "      <th>Bairro</th>\n",
       "      <th>Quartos</th>\n",
       "      <th>Vagas</th>\n",
       "      <th>Suites</th>\n",
       "      <th>Area</th>\n",
       "      <th>Valor</th>\n",
       "      <th>Condominio</th>\n",
       "      <th>IPTU</th>\n",
       "    </tr>\n",
       "  </thead>\n",
       "  <tbody>\n",
       "    <tr>\n",
       "      <th>2</th>\n",
       "      <td>Conjunto Comercial/Sala</td>\n",
       "      <td>Barra da Tijuca</td>\n",
       "      <td>0</td>\n",
       "      <td>4</td>\n",
       "      <td>0</td>\n",
       "      <td>150</td>\n",
       "      <td>5200.0</td>\n",
       "      <td>4020.0</td>\n",
       "      <td>1111.0</td>\n",
       "    </tr>\n",
       "    <tr>\n",
       "      <th>9</th>\n",
       "      <td>Conjunto Comercial/Sala</td>\n",
       "      <td>Centro</td>\n",
       "      <td>0</td>\n",
       "      <td>3</td>\n",
       "      <td>0</td>\n",
       "      <td>695</td>\n",
       "      <td>35000.0</td>\n",
       "      <td>19193.0</td>\n",
       "      <td>3030.0</td>\n",
       "    </tr>\n",
       "    <tr>\n",
       "      <th>16</th>\n",
       "      <td>Prédio Inteiro</td>\n",
       "      <td>Botafogo</td>\n",
       "      <td>0</td>\n",
       "      <td>0</td>\n",
       "      <td>0</td>\n",
       "      <td>536</td>\n",
       "      <td>28000.0</td>\n",
       "      <td>NaN</td>\n",
       "      <td>3563.0</td>\n",
       "    </tr>\n",
       "    <tr>\n",
       "      <th>26</th>\n",
       "      <td>Conjunto Comercial/Sala</td>\n",
       "      <td>São Cristóvão</td>\n",
       "      <td>0</td>\n",
       "      <td>1</td>\n",
       "      <td>0</td>\n",
       "      <td>25</td>\n",
       "      <td>1100.0</td>\n",
       "      <td>600.0</td>\n",
       "      <td>NaN</td>\n",
       "    </tr>\n",
       "    <tr>\n",
       "      <th>29</th>\n",
       "      <td>Loja/Salão</td>\n",
       "      <td>Campo Grande</td>\n",
       "      <td>0</td>\n",
       "      <td>1</td>\n",
       "      <td>0</td>\n",
       "      <td>35</td>\n",
       "      <td>1300.0</td>\n",
       "      <td>950.0</td>\n",
       "      <td>NaN</td>\n",
       "    </tr>\n",
       "    <tr>\n",
       "      <th>...</th>\n",
       "      <td>...</td>\n",
       "      <td>...</td>\n",
       "      <td>...</td>\n",
       "      <td>...</td>\n",
       "      <td>...</td>\n",
       "      <td>...</td>\n",
       "      <td>...</td>\n",
       "      <td>...</td>\n",
       "      <td>...</td>\n",
       "    </tr>\n",
       "    <tr>\n",
       "      <th>32942</th>\n",
       "      <td>Conjunto Comercial/Sala</td>\n",
       "      <td>Barra da Tijuca</td>\n",
       "      <td>0</td>\n",
       "      <td>1</td>\n",
       "      <td>0</td>\n",
       "      <td>55</td>\n",
       "      <td>2000.0</td>\n",
       "      <td>1096.0</td>\n",
       "      <td>NaN</td>\n",
       "    </tr>\n",
       "    <tr>\n",
       "      <th>32946</th>\n",
       "      <td>Conjunto Comercial/Sala</td>\n",
       "      <td>Centro</td>\n",
       "      <td>0</td>\n",
       "      <td>0</td>\n",
       "      <td>0</td>\n",
       "      <td>140</td>\n",
       "      <td>4000.0</td>\n",
       "      <td>1412.0</td>\n",
       "      <td>496.0</td>\n",
       "    </tr>\n",
       "    <tr>\n",
       "      <th>32948</th>\n",
       "      <td>Conjunto Comercial/Sala</td>\n",
       "      <td>Centro</td>\n",
       "      <td>0</td>\n",
       "      <td>0</td>\n",
       "      <td>0</td>\n",
       "      <td>32</td>\n",
       "      <td>600.0</td>\n",
       "      <td>1035.0</td>\n",
       "      <td>83.0</td>\n",
       "    </tr>\n",
       "    <tr>\n",
       "      <th>32954</th>\n",
       "      <td>Box/Garagem</td>\n",
       "      <td>Centro</td>\n",
       "      <td>0</td>\n",
       "      <td>0</td>\n",
       "      <td>0</td>\n",
       "      <td>755</td>\n",
       "      <td>14000.0</td>\n",
       "      <td>NaN</td>\n",
       "      <td>NaN</td>\n",
       "    </tr>\n",
       "    <tr>\n",
       "      <th>32959</th>\n",
       "      <td>Conjunto Comercial/Sala</td>\n",
       "      <td>Centro</td>\n",
       "      <td>0</td>\n",
       "      <td>0</td>\n",
       "      <td>0</td>\n",
       "      <td>250</td>\n",
       "      <td>6500.0</td>\n",
       "      <td>4206.0</td>\n",
       "      <td>1109.0</td>\n",
       "    </tr>\n",
       "  </tbody>\n",
       "</table>\n",
       "<p>9849 rows × 9 columns</p>\n",
       "</div>"
      ],
      "text/plain": [
       "                          Tipo           Bairro  Quartos  Vagas  Suites  Area  \\\n",
       "2      Conjunto Comercial/Sala  Barra da Tijuca        0      4       0   150   \n",
       "9      Conjunto Comercial/Sala           Centro        0      3       0   695   \n",
       "16              Prédio Inteiro         Botafogo        0      0       0   536   \n",
       "26     Conjunto Comercial/Sala    São Cristóvão        0      1       0    25   \n",
       "29                  Loja/Salão     Campo Grande        0      1       0    35   \n",
       "...                        ...              ...      ...    ...     ...   ...   \n",
       "32942  Conjunto Comercial/Sala  Barra da Tijuca        0      1       0    55   \n",
       "32946  Conjunto Comercial/Sala           Centro        0      0       0   140   \n",
       "32948  Conjunto Comercial/Sala           Centro        0      0       0    32   \n",
       "32954              Box/Garagem           Centro        0      0       0   755   \n",
       "32959  Conjunto Comercial/Sala           Centro        0      0       0   250   \n",
       "\n",
       "         Valor  Condominio    IPTU  \n",
       "2       5200.0      4020.0  1111.0  \n",
       "9      35000.0     19193.0  3030.0  \n",
       "16     28000.0         NaN  3563.0  \n",
       "26      1100.0       600.0     NaN  \n",
       "29      1300.0       950.0     NaN  \n",
       "...        ...         ...     ...  \n",
       "32942   2000.0      1096.0     NaN  \n",
       "32946   4000.0      1412.0   496.0  \n",
       "32948    600.0      1035.0    83.0  \n",
       "32954  14000.0         NaN     NaN  \n",
       "32959   6500.0      4206.0  1109.0  \n",
       "\n",
       "[9849 rows x 9 columns]"
      ]
     },
     "execution_count": 18,
     "metadata": {},
     "output_type": "execute_result"
    }
   ],
   "source": [
    "dados.query('@imoveis_comerciais in Tipo')"
   ]
  },
  {
   "cell_type": "code",
   "execution_count": 19,
   "id": "4a7c99da",
   "metadata": {},
   "outputs": [
    {
     "data": {
      "application/vnd.microsoft.datawrangler.viewer.v0+json": {
       "columns": [
        {
         "name": "index",
         "rawType": "int64",
         "type": "integer"
        },
        {
         "name": "Tipo",
         "rawType": "object",
         "type": "string"
        },
        {
         "name": "Bairro",
         "rawType": "object",
         "type": "string"
        },
        {
         "name": "Quartos",
         "rawType": "int64",
         "type": "integer"
        },
        {
         "name": "Vagas",
         "rawType": "int64",
         "type": "integer"
        },
        {
         "name": "Suites",
         "rawType": "int64",
         "type": "integer"
        },
        {
         "name": "Area",
         "rawType": "int64",
         "type": "integer"
        },
        {
         "name": "Valor",
         "rawType": "float64",
         "type": "float"
        },
        {
         "name": "Condominio",
         "rawType": "float64",
         "type": "float"
        },
        {
         "name": "IPTU",
         "rawType": "float64",
         "type": "float"
        }
       ],
       "ref": "a851b066-1e0b-44d1-9e08-7228f35c53bf",
       "rows": [
        [
         "0",
         "Quitinete",
         "Copacabana",
         "1",
         "0",
         "0",
         "40",
         "1700.0",
         "500.0",
         "60.0"
        ],
        [
         "1",
         "Casa",
         "Jardim Botânico",
         "2",
         "0",
         "1",
         "100",
         "7000.0",
         null,
         null
        ],
        [
         "3",
         "Apartamento",
         "Centro",
         "1",
         "0",
         "0",
         "15",
         "800.0",
         "390.0",
         "20.0"
        ],
        [
         "4",
         "Apartamento",
         "Higienópolis",
         "1",
         "0",
         "0",
         "48",
         "800.0",
         "230.0",
         null
        ],
        [
         "5",
         "Apartamento",
         "Vista Alegre",
         "3",
         "1",
         "0",
         "70",
         "1200.0",
         null,
         null
        ],
        [
         "6",
         "Apartamento",
         "Cachambi",
         "2",
         "0",
         "0",
         "50",
         "1300.0",
         "301.0",
         "17.0"
        ],
        [
         "7",
         "Casa de Condomínio",
         "Barra da Tijuca",
         "5",
         "4",
         "5",
         "750",
         "22000.0",
         null,
         null
        ],
        [
         "8",
         "Casa de Condomínio",
         "Ramos",
         "2",
         "2",
         "0",
         "65",
         "1000.0",
         null,
         null
        ],
        [
         "10",
         "Apartamento",
         "Centro",
         "1",
         "0",
         "0",
         "36",
         "1200.0",
         null,
         null
        ],
        [
         "11",
         "Apartamento",
         "Grajaú",
         "2",
         "1",
         "0",
         "70",
         "1500.0",
         "642.0",
         "74.0"
        ],
        [
         "12",
         "Apartamento",
         "Lins de Vasconcelos",
         "3",
         "1",
         "1",
         "90",
         "1500.0",
         "455.0",
         "14.0"
        ],
        [
         "13",
         "Apartamento",
         "Copacabana",
         "1",
         "0",
         "1",
         "40",
         "2000.0",
         "561.0",
         "50.0"
        ],
        [
         "14",
         "Quitinete",
         "Copacabana",
         "1",
         "0",
         "0",
         "27",
         "1800.0",
         "501.0",
         null
        ],
        [
         "15",
         "Apartamento",
         "Copacabana",
         "4",
         "3",
         "1",
         "243",
         "13000.0",
         "2000.0",
         "803.0"
        ],
        [
         "17",
         "Flat",
         "Botafogo",
         "3",
         "1",
         "1",
         "80",
         "3800.0",
         "1040.0",
         null
        ],
        [
         "18",
         "Casa de Condomínio",
         "Taquara",
         "3",
         "1",
         "1",
         "115",
         "2000.0",
         null,
         null
        ],
        [
         "19",
         "Apartamento",
         "Freguesia (Jacarepaguá)",
         "3",
         "0",
         "0",
         "54",
         "950.0",
         "300.0",
         "28.0"
        ],
        [
         "20",
         "Apartamento",
         "Barra da Tijuca",
         "2",
         "1",
         "1",
         "67",
         "1700.0",
         "589.0",
         "147.0"
        ],
        [
         "21",
         "Apartamento",
         "Tijuca",
         "2",
         "1",
         "0",
         "110",
         "1900.0",
         "700.0",
         "138.0"
        ],
        [
         "22",
         "Casa de Condomínio",
         "Barra da Tijuca",
         "4",
         "3",
         "2",
         "466",
         "7500.0",
         "2695.0",
         null
        ],
        [
         "23",
         "Apartamento",
         "Olaria",
         "3",
         "1",
         "0",
         "68",
         "1000.0",
         "670.0",
         null
        ],
        [
         "24",
         "Apartamento",
         "Tijuca",
         "2",
         "1",
         "0",
         "78",
         "2000.0",
         "700.0",
         null
        ],
        [
         "25",
         "Flat",
         "Leblon",
         "1",
         "0",
         "0",
         "56",
         "4500.0",
         "1900.0",
         "1500.0"
        ],
        [
         "27",
         "Apartamento",
         "Ipanema",
         "3",
         "1",
         "1",
         "125",
         "7000.0",
         "2100.0",
         "463.0"
        ],
        [
         "28",
         "Apartamento",
         "Tijuca",
         "1",
         "0",
         "0",
         "48",
         "750.0",
         "772.0",
         "25.0"
        ],
        [
         "30",
         "Apartamento",
         "Barra da Tijuca",
         "3",
         "3",
         "1",
         "175",
         "4200.0",
         "1500.0",
         "500.0"
        ],
        [
         "31",
         "Casa",
         "Campo Grande",
         "4",
         "1",
         "2",
         "400",
         "12000.0",
         null,
         null
        ],
        [
         "32",
         "Apartamento",
         "Botafogo",
         "2",
         "1",
         "0",
         "76",
         "2500.0",
         "740.0",
         null
        ],
        [
         "33",
         "Apartamento",
         "Copacabana",
         "3",
         "1",
         "2",
         "378",
         "10000.0",
         "2150.0",
         "700.0"
        ],
        [
         "34",
         "Apartamento",
         "Copacabana",
         "3",
         "0",
         "0",
         "180",
         "5500.0",
         "1780.0",
         "420.0"
        ],
        [
         "36",
         "Apartamento",
         "Recreio dos Bandeirantes",
         "3",
         "1",
         "1",
         "105",
         "2300.0",
         "648.0",
         null
        ],
        [
         "37",
         "Apartamento",
         "Leblon",
         "3",
         "1",
         "0",
         "110",
         "3900.0",
         "1500.0",
         "120.0"
        ],
        [
         "39",
         "Quitinete",
         "Copacabana",
         "1",
         "0",
         "0",
         "27",
         "1300.0",
         "380.0",
         "53.0"
        ],
        [
         "40",
         "Apartamento",
         "Jardim Oceânico",
         "3",
         "3",
         "1",
         "200",
         "3500.0",
         "1780.0",
         "496.0"
        ],
        [
         "41",
         "Apartamento",
         "Barra da Tijuca",
         "3",
         "1",
         "2",
         "70",
         "1800.0",
         "1095.0",
         "140.0"
        ],
        [
         "43",
         "Apartamento",
         "Copacabana",
         "4",
         "1",
         "0",
         "244",
         "5000.0",
         "2500.0",
         "4100.0"
        ],
        [
         "44",
         "Apartamento",
         "Barra da Tijuca",
         "3",
         "2",
         "1",
         "110",
         "4500.0",
         "2000.0",
         "450.0"
        ],
        [
         "47",
         "Apartamento",
         "Recreio dos Bandeirantes",
         "2",
         "2",
         "2",
         "90",
         "3000.0",
         "1340.0",
         null
        ],
        [
         "48",
         "Apartamento",
         "Recreio dos Bandeirantes",
         "3",
         "2",
         "2",
         "100",
         "2600.0",
         "380.0",
         null
        ],
        [
         "49",
         "Apartamento",
         "Barra da Tijuca",
         "3",
         "1",
         "1",
         "72",
         "2350.0",
         "600.0",
         "70.0"
        ],
        [
         "50",
         "Apartamento",
         "Humaitá",
         "2",
         "2",
         "1",
         "180",
         "4000.0",
         "2500.0",
         "300.0"
        ],
        [
         "51",
         "Apartamento",
         "Recreio dos Bandeirantes",
         "3",
         "1",
         "2",
         "92",
         "2300.0",
         "840.0",
         "200.0"
        ],
        [
         "54",
         "Apartamento",
         "Centro",
         "1",
         "0",
         "0",
         "27",
         "750.0",
         "371.0",
         "19.0"
        ],
        [
         "55",
         "Apartamento",
         "Ipanema",
         "1",
         "0",
         "0",
         "35",
         "2000.0",
         "650.0",
         "75.0"
        ],
        [
         "56",
         "Apartamento",
         "Ipanema",
         "1",
         "0",
         "0",
         "38",
         "1400.0",
         "530.0",
         "77.0"
        ],
        [
         "57",
         "Apartamento",
         "Recreio dos Bandeirantes",
         "2",
         "1",
         "2",
         "83",
         "1600.0",
         "1160.0",
         "157.0"
        ],
        [
         "59",
         "Casa de Condomínio",
         "Barra da Tijuca",
         "5",
         "10",
         "5",
         "1600",
         "25000.0",
         "1600.0",
         null
        ],
        [
         "60",
         "Apartamento",
         "Barra da Tijuca",
         "4",
         "3",
         "3",
         "153",
         "6500.0",
         "2300.0",
         "434.0"
        ],
        [
         "62",
         "Apartamento",
         "Península",
         "4",
         "3",
         "4",
         "267",
         "18000.0",
         "3100.0",
         "400.0"
        ],
        [
         "63",
         "Apartamento",
         "Ipanema",
         "3",
         "1",
         "0",
         "87",
         "3200.0",
         "1305.0",
         "217.0"
        ]
       ],
       "shape": {
        "columns": 9,
        "rows": 23111
       }
      },
      "text/html": [
       "<div>\n",
       "<style scoped>\n",
       "    .dataframe tbody tr th:only-of-type {\n",
       "        vertical-align: middle;\n",
       "    }\n",
       "\n",
       "    .dataframe tbody tr th {\n",
       "        vertical-align: top;\n",
       "    }\n",
       "\n",
       "    .dataframe thead th {\n",
       "        text-align: right;\n",
       "    }\n",
       "</style>\n",
       "<table border=\"1\" class=\"dataframe\">\n",
       "  <thead>\n",
       "    <tr style=\"text-align: right;\">\n",
       "      <th></th>\n",
       "      <th>Tipo</th>\n",
       "      <th>Bairro</th>\n",
       "      <th>Quartos</th>\n",
       "      <th>Vagas</th>\n",
       "      <th>Suites</th>\n",
       "      <th>Area</th>\n",
       "      <th>Valor</th>\n",
       "      <th>Condominio</th>\n",
       "      <th>IPTU</th>\n",
       "    </tr>\n",
       "  </thead>\n",
       "  <tbody>\n",
       "    <tr>\n",
       "      <th>0</th>\n",
       "      <td>Quitinete</td>\n",
       "      <td>Copacabana</td>\n",
       "      <td>1</td>\n",
       "      <td>0</td>\n",
       "      <td>0</td>\n",
       "      <td>40</td>\n",
       "      <td>1700.0</td>\n",
       "      <td>500.0</td>\n",
       "      <td>60.0</td>\n",
       "    </tr>\n",
       "    <tr>\n",
       "      <th>1</th>\n",
       "      <td>Casa</td>\n",
       "      <td>Jardim Botânico</td>\n",
       "      <td>2</td>\n",
       "      <td>0</td>\n",
       "      <td>1</td>\n",
       "      <td>100</td>\n",
       "      <td>7000.0</td>\n",
       "      <td>NaN</td>\n",
       "      <td>NaN</td>\n",
       "    </tr>\n",
       "    <tr>\n",
       "      <th>3</th>\n",
       "      <td>Apartamento</td>\n",
       "      <td>Centro</td>\n",
       "      <td>1</td>\n",
       "      <td>0</td>\n",
       "      <td>0</td>\n",
       "      <td>15</td>\n",
       "      <td>800.0</td>\n",
       "      <td>390.0</td>\n",
       "      <td>20.0</td>\n",
       "    </tr>\n",
       "    <tr>\n",
       "      <th>4</th>\n",
       "      <td>Apartamento</td>\n",
       "      <td>Higienópolis</td>\n",
       "      <td>1</td>\n",
       "      <td>0</td>\n",
       "      <td>0</td>\n",
       "      <td>48</td>\n",
       "      <td>800.0</td>\n",
       "      <td>230.0</td>\n",
       "      <td>NaN</td>\n",
       "    </tr>\n",
       "    <tr>\n",
       "      <th>5</th>\n",
       "      <td>Apartamento</td>\n",
       "      <td>Vista Alegre</td>\n",
       "      <td>3</td>\n",
       "      <td>1</td>\n",
       "      <td>0</td>\n",
       "      <td>70</td>\n",
       "      <td>1200.0</td>\n",
       "      <td>NaN</td>\n",
       "      <td>NaN</td>\n",
       "    </tr>\n",
       "    <tr>\n",
       "      <th>...</th>\n",
       "      <td>...</td>\n",
       "      <td>...</td>\n",
       "      <td>...</td>\n",
       "      <td>...</td>\n",
       "      <td>...</td>\n",
       "      <td>...</td>\n",
       "      <td>...</td>\n",
       "      <td>...</td>\n",
       "      <td>...</td>\n",
       "    </tr>\n",
       "    <tr>\n",
       "      <th>32953</th>\n",
       "      <td>Apartamento</td>\n",
       "      <td>Méier</td>\n",
       "      <td>2</td>\n",
       "      <td>0</td>\n",
       "      <td>0</td>\n",
       "      <td>70</td>\n",
       "      <td>900.0</td>\n",
       "      <td>490.0</td>\n",
       "      <td>48.0</td>\n",
       "    </tr>\n",
       "    <tr>\n",
       "      <th>32955</th>\n",
       "      <td>Quitinete</td>\n",
       "      <td>Centro</td>\n",
       "      <td>0</td>\n",
       "      <td>0</td>\n",
       "      <td>0</td>\n",
       "      <td>27</td>\n",
       "      <td>800.0</td>\n",
       "      <td>350.0</td>\n",
       "      <td>25.0</td>\n",
       "    </tr>\n",
       "    <tr>\n",
       "      <th>32956</th>\n",
       "      <td>Apartamento</td>\n",
       "      <td>Jacarepaguá</td>\n",
       "      <td>3</td>\n",
       "      <td>1</td>\n",
       "      <td>2</td>\n",
       "      <td>78</td>\n",
       "      <td>1800.0</td>\n",
       "      <td>800.0</td>\n",
       "      <td>40.0</td>\n",
       "    </tr>\n",
       "    <tr>\n",
       "      <th>32957</th>\n",
       "      <td>Apartamento</td>\n",
       "      <td>São Francisco Xavier</td>\n",
       "      <td>2</td>\n",
       "      <td>1</td>\n",
       "      <td>0</td>\n",
       "      <td>48</td>\n",
       "      <td>1400.0</td>\n",
       "      <td>509.0</td>\n",
       "      <td>37.0</td>\n",
       "    </tr>\n",
       "    <tr>\n",
       "      <th>32958</th>\n",
       "      <td>Apartamento</td>\n",
       "      <td>Leblon</td>\n",
       "      <td>2</td>\n",
       "      <td>0</td>\n",
       "      <td>0</td>\n",
       "      <td>70</td>\n",
       "      <td>3000.0</td>\n",
       "      <td>760.0</td>\n",
       "      <td>NaN</td>\n",
       "    </tr>\n",
       "  </tbody>\n",
       "</table>\n",
       "<p>23111 rows × 9 columns</p>\n",
       "</div>"
      ],
      "text/plain": [
       "              Tipo                Bairro  Quartos  Vagas  Suites  Area  \\\n",
       "0        Quitinete            Copacabana        1      0       0    40   \n",
       "1             Casa       Jardim Botânico        2      0       1   100   \n",
       "3      Apartamento                Centro        1      0       0    15   \n",
       "4      Apartamento          Higienópolis        1      0       0    48   \n",
       "5      Apartamento          Vista Alegre        3      1       0    70   \n",
       "...            ...                   ...      ...    ...     ...   ...   \n",
       "32953  Apartamento                 Méier        2      0       0    70   \n",
       "32955    Quitinete                Centro        0      0       0    27   \n",
       "32956  Apartamento           Jacarepaguá        3      1       2    78   \n",
       "32957  Apartamento  São Francisco Xavier        2      1       0    48   \n",
       "32958  Apartamento                Leblon        2      0       0    70   \n",
       "\n",
       "        Valor  Condominio  IPTU  \n",
       "0      1700.0       500.0  60.0  \n",
       "1      7000.0         NaN   NaN  \n",
       "3       800.0       390.0  20.0  \n",
       "4       800.0       230.0   NaN  \n",
       "5      1200.0         NaN   NaN  \n",
       "...       ...         ...   ...  \n",
       "32953   900.0       490.0  48.0  \n",
       "32955   800.0       350.0  25.0  \n",
       "32956  1800.0       800.0  40.0  \n",
       "32957  1400.0       509.0  37.0  \n",
       "32958  3000.0       760.0   NaN  \n",
       "\n",
       "[23111 rows x 9 columns]"
      ]
     },
     "execution_count": 19,
     "metadata": {},
     "output_type": "execute_result"
    }
   ],
   "source": [
    "dados.query('@imoveis_comerciais not in Tipo')"
   ]
  },
  {
   "cell_type": "code",
   "execution_count": 20,
   "id": "5f7fcbce",
   "metadata": {},
   "outputs": [],
   "source": [
    "df = dados.query('@imoveis_comerciais not in Tipo')\n"
   ]
  },
  {
   "cell_type": "code",
   "execution_count": 21,
   "id": "aaf5d8b6",
   "metadata": {},
   "outputs": [
    {
     "data": {
      "text/plain": [
       "array(['Quitinete', 'Casa', 'Apartamento', 'Casa de Condomínio', 'Flat',\n",
       "       'Casa de Vila', 'Loft', 'Studio'], dtype=object)"
      ]
     },
     "execution_count": 21,
     "metadata": {},
     "output_type": "execute_result"
    }
   ],
   "source": [
    "df.Tipo.unique()"
   ]
  },
  {
   "cell_type": "code",
   "execution_count": 22,
   "id": "a442ce0c",
   "metadata": {},
   "outputs": [
    {
     "data": {
      "text/plain": [
       "<Axes: ylabel='Tipo'>"
      ]
     },
     "execution_count": 22,
     "metadata": {},
     "output_type": "execute_result"
    },
    {
     "data": {
      "image/png": "[encoded data removed]",
      "text/plain": [
       "<Figure size 1000x600 with 1 Axes>"
      ]
     },
     "metadata": {},
     "output_type": "display_data"
    }
   ],
   "source": [
    "df_preco_tipo = df.groupby('Tipo')[['Valor']].mean().sort_values('Valor')\n",
    "df_preco_tipo.plot(kind='barh', figsize=(10, 6), color='purple')"
   ]
  },
  {
   "cell_type": "code",
   "execution_count": 23,
   "id": "fabc25a3",
   "metadata": {},
   "outputs": [
    {
     "data": {
      "text/plain": [
       "array(['Quitinete', 'Casa', 'Apartamento', 'Casa de Condomínio', 'Flat',\n",
       "       'Casa de Vila', 'Loft', 'Studio'], dtype=object)"
      ]
     },
     "execution_count": 23,
     "metadata": {},
     "output_type": "execute_result"
    }
   ],
   "source": [
    "df.Tipo.unique()"
   ]
  },
  {
   "cell_type": "code",
   "execution_count": 24,
   "id": "171df31b",
   "metadata": {},
   "outputs": [
    {
     "data": {
      "application/vnd.microsoft.datawrangler.viewer.v0+json": {
       "columns": [
        {
         "name": "Tipo",
         "rawType": "object",
         "type": "string"
        },
        {
         "name": "count",
         "rawType": "int64",
         "type": "integer"
        }
       ],
       "ref": "04ce1624-ba6a-4c08-9a77-d51547d5092e",
       "rows": [
        [
         "Apartamento",
         "19532"
        ],
        [
         "Casa de Condomínio",
         "996"
        ],
        [
         "Casa",
         "967"
        ],
        [
         "Quitinete",
         "836"
        ],
        [
         "Flat",
         "476"
        ],
        [
         "Casa de Vila",
         "249"
        ],
        [
         "Loft",
         "51"
        ],
        [
         "Studio",
         "4"
        ]
       ],
       "shape": {
        "columns": 1,
        "rows": 8
       }
      },
      "text/plain": [
       "Tipo\n",
       "Apartamento           19532\n",
       "Casa de Condomínio      996\n",
       "Casa                    967\n",
       "Quitinete               836\n",
       "Flat                    476\n",
       "Casa de Vila            249\n",
       "Loft                     51\n",
       "Studio                    4\n",
       "Name: count, dtype: int64"
      ]
     },
     "execution_count": 24,
     "metadata": {},
     "output_type": "execute_result"
    }
   ],
   "source": [
    "df.Tipo.value_counts()"
   ]
  },
  {
   "cell_type": "code",
   "execution_count": 25,
   "id": "947f90cc",
   "metadata": {},
   "outputs": [
    {
     "data": {
      "application/vnd.microsoft.datawrangler.viewer.v0+json": {
       "columns": [
        {
         "name": "Tipo",
         "rawType": "object",
         "type": "string"
        },
        {
         "name": "proportion",
         "rawType": "float64",
         "type": "float"
        }
       ],
       "ref": "fd9564b3-bfdf-41bb-95cb-142f1746dbee",
       "rows": [
        [
         "Apartamento",
         "0.8451386785513392"
        ],
        [
         "Casa de Condomínio",
         "0.04309636104019731"
        ],
        [
         "Casa",
         "0.041841547315131324"
        ],
        [
         "Quitinete",
         "0.036173250832936696"
        ],
        [
         "Flat",
         "0.02059625286660032"
        ],
        [
         "Casa de Vila",
         "0.010774090260049328"
        ],
        [
         "Loft",
         "0.00220674137856432"
        ],
        [
         "Studio",
         "0.0001730777551815153"
        ]
       ],
       "shape": {
        "columns": 1,
        "rows": 8
       }
      },
      "text/plain": [
       "Tipo\n",
       "Apartamento           0.845139\n",
       "Casa de Condomínio    0.043096\n",
       "Casa                  0.041842\n",
       "Quitinete             0.036173\n",
       "Flat                  0.020596\n",
       "Casa de Vila          0.010774\n",
       "Loft                  0.002207\n",
       "Studio                0.000173\n",
       "Name: proportion, dtype: float64"
      ]
     },
     "execution_count": 25,
     "metadata": {},
     "output_type": "execute_result"
    }
   ],
   "source": [
    "df.Tipo.value_counts(normalize=True)"
   ]
  },
  {
   "cell_type": "code",
   "execution_count": 26,
   "id": "4e8bb5d1",
   "metadata": {},
   "outputs": [
    {
     "data": {
      "application/vnd.microsoft.datawrangler.viewer.v0+json": {
       "columns": [
        {
         "name": "Tipo",
         "rawType": "object",
         "type": "string"
        },
        {
         "name": "proportion",
         "rawType": "float64",
         "type": "float"
        }
       ],
       "ref": "6b06b109-52aa-4355-ac2f-fc58248ff2d8",
       "rows": [
        [
         "Apartamento",
         "0.8451386785513392"
        ],
        [
         "Casa",
         "0.041841547315131324"
        ],
        [
         "Casa de Condomínio",
         "0.04309636104019731"
        ],
        [
         "Casa de Vila",
         "0.010774090260049328"
        ],
        [
         "Flat",
         "0.02059625286660032"
        ],
        [
         "Loft",
         "0.00220674137856432"
        ],
        [
         "Quitinete",
         "0.036173250832936696"
        ],
        [
         "Studio",
         "0.0001730777551815153"
        ]
       ],
       "shape": {
        "columns": 1,
        "rows": 8
       }
      },
      "text/html": [
       "<div>\n",
       "<style scoped>\n",
       "    .dataframe tbody tr th:only-of-type {\n",
       "        vertical-align: middle;\n",
       "    }\n",
       "\n",
       "    .dataframe tbody tr th {\n",
       "        vertical-align: top;\n",
       "    }\n",
       "\n",
       "    .dataframe thead th {\n",
       "        text-align: right;\n",
       "    }\n",
       "</style>\n",
       "<table border=\"1\" class=\"dataframe\">\n",
       "  <thead>\n",
       "    <tr style=\"text-align: right;\">\n",
       "      <th></th>\n",
       "      <th>proportion</th>\n",
       "    </tr>\n",
       "    <tr>\n",
       "      <th>Tipo</th>\n",
       "      <th></th>\n",
       "    </tr>\n",
       "  </thead>\n",
       "  <tbody>\n",
       "    <tr>\n",
       "      <th>Apartamento</th>\n",
       "      <td>0.845139</td>\n",
       "    </tr>\n",
       "    <tr>\n",
       "      <th>Casa</th>\n",
       "      <td>0.041842</td>\n",
       "    </tr>\n",
       "    <tr>\n",
       "      <th>Casa de Condomínio</th>\n",
       "      <td>0.043096</td>\n",
       "    </tr>\n",
       "    <tr>\n",
       "      <th>Casa de Vila</th>\n",
       "      <td>0.010774</td>\n",
       "    </tr>\n",
       "    <tr>\n",
       "      <th>Flat</th>\n",
       "      <td>0.020596</td>\n",
       "    </tr>\n",
       "    <tr>\n",
       "      <th>Loft</th>\n",
       "      <td>0.002207</td>\n",
       "    </tr>\n",
       "    <tr>\n",
       "      <th>Quitinete</th>\n",
       "      <td>0.036173</td>\n",
       "    </tr>\n",
       "    <tr>\n",
       "      <th>Studio</th>\n",
       "      <td>0.000173</td>\n",
       "    </tr>\n",
       "  </tbody>\n",
       "</table>\n",
       "</div>"
      ],
      "text/plain": [
       "                    proportion\n",
       "Tipo                          \n",
       "Apartamento           0.845139\n",
       "Casa                  0.041842\n",
       "Casa de Condomínio    0.043096\n",
       "Casa de Vila          0.010774\n",
       "Flat                  0.020596\n",
       "Loft                  0.002207\n",
       "Quitinete             0.036173\n",
       "Studio                0.000173"
      ]
     },
     "execution_count": 26,
     "metadata": {},
     "output_type": "execute_result"
    }
   ],
   "source": [
    "df.Tipo.value_counts(normalize=True).to_frame().sort_values('Tipo')"
   ]
  },
  {
   "cell_type": "code",
   "execution_count": 27,
   "id": "84376a6e",
   "metadata": {},
   "outputs": [
    {
     "data": {
      "text/plain": [
       "<Axes: xlabel='Tipo', ylabel='Percentual'>"
      ]
     },
     "execution_count": 27,
     "metadata": {},
     "output_type": "execute_result"
    },
    {
     "data": {
      "image/png": "[encoded data removed]",
      "text/plain": [
       "<Figure size 1000x600 with 1 Axes>"
      ]
     },
     "metadata": {},
     "output_type": "display_data"
    }
   ],
   "source": [
    "df_percentual_tipo = df.Tipo.value_counts(normalize=True).to_frame().sort_values('Tipo', ascending=False)\n",
    "df_percentual_tipo.plot(kind='bar', figsize=(10, 6), color='green',\n",
    "                        xlabel='Tipo', ylabel='Percentual',)"
   ]
  },
  {
   "cell_type": "markdown",
   "id": "5d37be17",
   "metadata": {},
   "source": [
    "## Selecionando apenas os imoveis do tipo apartamento"
   ]
  },
  {
   "cell_type": "code",
   "execution_count": 28,
   "id": "cc634524",
   "metadata": {},
   "outputs": [
    {
     "data": {
      "application/vnd.microsoft.datawrangler.viewer.v0+json": {
       "columns": [
        {
         "name": "index",
         "rawType": "int64",
         "type": "integer"
        },
        {
         "name": "Tipo",
         "rawType": "object",
         "type": "string"
        },
        {
         "name": "Bairro",
         "rawType": "object",
         "type": "string"
        },
        {
         "name": "Quartos",
         "rawType": "int64",
         "type": "integer"
        },
        {
         "name": "Vagas",
         "rawType": "int64",
         "type": "integer"
        },
        {
         "name": "Suites",
         "rawType": "int64",
         "type": "integer"
        },
        {
         "name": "Area",
         "rawType": "int64",
         "type": "integer"
        },
        {
         "name": "Valor",
         "rawType": "float64",
         "type": "float"
        },
        {
         "name": "Condominio",
         "rawType": "float64",
         "type": "float"
        },
        {
         "name": "IPTU",
         "rawType": "float64",
         "type": "float"
        }
       ],
       "ref": "8fe0e743-3e16-4dac-8901-41c61e7bcad8",
       "rows": [
        [
         "3",
         "Apartamento",
         "Centro",
         "1",
         "0",
         "0",
         "15",
         "800.0",
         "390.0",
         "20.0"
        ],
        [
         "4",
         "Apartamento",
         "Higienópolis",
         "1",
         "0",
         "0",
         "48",
         "800.0",
         "230.0",
         null
        ],
        [
         "5",
         "Apartamento",
         "Vista Alegre",
         "3",
         "1",
         "0",
         "70",
         "1200.0",
         null,
         null
        ],
        [
         "6",
         "Apartamento",
         "Cachambi",
         "2",
         "0",
         "0",
         "50",
         "1300.0",
         "301.0",
         "17.0"
        ],
        [
         "10",
         "Apartamento",
         "Centro",
         "1",
         "0",
         "0",
         "36",
         "1200.0",
         null,
         null
        ],
        [
         "11",
         "Apartamento",
         "Grajaú",
         "2",
         "1",
         "0",
         "70",
         "1500.0",
         "642.0",
         "74.0"
        ],
        [
         "12",
         "Apartamento",
         "Lins de Vasconcelos",
         "3",
         "1",
         "1",
         "90",
         "1500.0",
         "455.0",
         "14.0"
        ],
        [
         "13",
         "Apartamento",
         "Copacabana",
         "1",
         "0",
         "1",
         "40",
         "2000.0",
         "561.0",
         "50.0"
        ],
        [
         "15",
         "Apartamento",
         "Copacabana",
         "4",
         "3",
         "1",
         "243",
         "13000.0",
         "2000.0",
         "803.0"
        ],
        [
         "19",
         "Apartamento",
         "Freguesia (Jacarepaguá)",
         "3",
         "0",
         "0",
         "54",
         "950.0",
         "300.0",
         "28.0"
        ],
        [
         "20",
         "Apartamento",
         "Barra da Tijuca",
         "2",
         "1",
         "1",
         "67",
         "1700.0",
         "589.0",
         "147.0"
        ],
        [
         "21",
         "Apartamento",
         "Tijuca",
         "2",
         "1",
         "0",
         "110",
         "1900.0",
         "700.0",
         "138.0"
        ],
        [
         "23",
         "Apartamento",
         "Olaria",
         "3",
         "1",
         "0",
         "68",
         "1000.0",
         "670.0",
         null
        ],
        [
         "24",
         "Apartamento",
         "Tijuca",
         "2",
         "1",
         "0",
         "78",
         "2000.0",
         "700.0",
         null
        ],
        [
         "27",
         "Apartamento",
         "Ipanema",
         "3",
         "1",
         "1",
         "125",
         "7000.0",
         "2100.0",
         "463.0"
        ],
        [
         "28",
         "Apartamento",
         "Tijuca",
         "1",
         "0",
         "0",
         "48",
         "750.0",
         "772.0",
         "25.0"
        ],
        [
         "30",
         "Apartamento",
         "Barra da Tijuca",
         "3",
         "3",
         "1",
         "175",
         "4200.0",
         "1500.0",
         "500.0"
        ],
        [
         "32",
         "Apartamento",
         "Botafogo",
         "2",
         "1",
         "0",
         "76",
         "2500.0",
         "740.0",
         null
        ],
        [
         "33",
         "Apartamento",
         "Copacabana",
         "3",
         "1",
         "2",
         "378",
         "10000.0",
         "2150.0",
         "700.0"
        ],
        [
         "34",
         "Apartamento",
         "Copacabana",
         "3",
         "0",
         "0",
         "180",
         "5500.0",
         "1780.0",
         "420.0"
        ],
        [
         "36",
         "Apartamento",
         "Recreio dos Bandeirantes",
         "3",
         "1",
         "1",
         "105",
         "2300.0",
         "648.0",
         null
        ],
        [
         "37",
         "Apartamento",
         "Leblon",
         "3",
         "1",
         "0",
         "110",
         "3900.0",
         "1500.0",
         "120.0"
        ],
        [
         "40",
         "Apartamento",
         "Jardim Oceânico",
         "3",
         "3",
         "1",
         "200",
         "3500.0",
         "1780.0",
         "496.0"
        ],
        [
         "41",
         "Apartamento",
         "Barra da Tijuca",
         "3",
         "1",
         "2",
         "70",
         "1800.0",
         "1095.0",
         "140.0"
        ],
        [
         "43",
         "Apartamento",
         "Copacabana",
         "4",
         "1",
         "0",
         "244",
         "5000.0",
         "2500.0",
         "4100.0"
        ],
        [
         "44",
         "Apartamento",
         "Barra da Tijuca",
         "3",
         "2",
         "1",
         "110",
         "4500.0",
         "2000.0",
         "450.0"
        ],
        [
         "47",
         "Apartamento",
         "Recreio dos Bandeirantes",
         "2",
         "2",
         "2",
         "90",
         "3000.0",
         "1340.0",
         null
        ],
        [
         "48",
         "Apartamento",
         "Recreio dos Bandeirantes",
         "3",
         "2",
         "2",
         "100",
         "2600.0",
         "380.0",
         null
        ],
        [
         "49",
         "Apartamento",
         "Barra da Tijuca",
         "3",
         "1",
         "1",
         "72",
         "2350.0",
         "600.0",
         "70.0"
        ],
        [
         "50",
         "Apartamento",
         "Humaitá",
         "2",
         "2",
         "1",
         "180",
         "4000.0",
         "2500.0",
         "300.0"
        ],
        [
         "51",
         "Apartamento",
         "Recreio dos Bandeirantes",
         "3",
         "1",
         "2",
         "92",
         "2300.0",
         "840.0",
         "200.0"
        ],
        [
         "54",
         "Apartamento",
         "Centro",
         "1",
         "0",
         "0",
         "27",
         "750.0",
         "371.0",
         "19.0"
        ],
        [
         "55",
         "Apartamento",
         "Ipanema",
         "1",
         "0",
         "0",
         "35",
         "2000.0",
         "650.0",
         "75.0"
        ],
        [
         "56",
         "Apartamento",
         "Ipanema",
         "1",
         "0",
         "0",
         "38",
         "1400.0",
         "530.0",
         "77.0"
        ],
        [
         "57",
         "Apartamento",
         "Recreio dos Bandeirantes",
         "2",
         "1",
         "2",
         "83",
         "1600.0",
         "1160.0",
         "157.0"
        ],
        [
         "60",
         "Apartamento",
         "Barra da Tijuca",
         "4",
         "3",
         "3",
         "153",
         "6500.0",
         "2300.0",
         "434.0"
        ],
        [
         "62",
         "Apartamento",
         "Península",
         "4",
         "3",
         "4",
         "267",
         "18000.0",
         "3100.0",
         "400.0"
        ],
        [
         "63",
         "Apartamento",
         "Ipanema",
         "3",
         "1",
         "0",
         "87",
         "3200.0",
         "1305.0",
         "217.0"
        ],
        [
         "64",
         "Apartamento",
         "Méier",
         "3",
         "1",
         "0",
         "90",
         "1550.0",
         "844.0",
         "80.0"
        ],
        [
         "65",
         "Apartamento",
         "Vargem Pequena",
         "3",
         "1",
         "0",
         "53",
         "1400.0",
         "385.0",
         "28.0"
        ],
        [
         "66",
         "Apartamento",
         "Botafogo",
         "3",
         "1",
         "1",
         "108",
         "5950.0",
         "1405.0",
         "289.0"
        ],
        [
         "67",
         "Apartamento",
         "Maracanã",
         "2",
         "0",
         "0",
         "86",
         "1800.0",
         "600.0",
         "82.0"
        ],
        [
         "68",
         "Apartamento",
         "Recreio dos Bandeirantes",
         "2",
         "1",
         "1",
         "74",
         "1850.0",
         "675.0",
         "200.0"
        ],
        [
         "70",
         "Apartamento",
         "Jacarepaguá",
         "3",
         "1",
         "1",
         "74",
         "1900.0",
         "556.0",
         "98.0"
        ],
        [
         "71",
         "Apartamento",
         "Ipanema",
         "3",
         "2",
         "1",
         "150",
         "8000.0",
         "2400.0",
         null
        ],
        [
         "73",
         "Apartamento",
         "Ipanema",
         "3",
         "1",
         "1",
         "140",
         "7900.0",
         "2900.0",
         "500.0"
        ],
        [
         "75",
         "Apartamento",
         "Jardim Botânico",
         "2",
         "2",
         "0",
         "95",
         "4000.0",
         "1170.0",
         null
        ],
        [
         "76",
         "Apartamento",
         "Barra da Tijuca",
         "2",
         "1",
         "1",
         "70",
         null,
         "970.0",
         "68.0"
        ],
        [
         "77",
         "Apartamento",
         "Cachambi",
         "2",
         "0",
         "0",
         "60",
         "1000.0",
         "380.0",
         "280.0"
        ],
        [
         "88",
         "Apartamento",
         "Leblon",
         "2",
         "1",
         "1",
         "80",
         "3500.0",
         "990.0",
         "245.0"
        ]
       ],
       "shape": {
        "columns": 9,
        "rows": 19532
       }
      },
      "text/html": [
       "<div>\n",
       "<style scoped>\n",
       "    .dataframe tbody tr th:only-of-type {\n",
       "        vertical-align: middle;\n",
       "    }\n",
       "\n",
       "    .dataframe tbody tr th {\n",
       "        vertical-align: top;\n",
       "    }\n",
       "\n",
       "    .dataframe thead th {\n",
       "        text-align: right;\n",
       "    }\n",
       "</style>\n",
       "<table border=\"1\" class=\"dataframe\">\n",
       "  <thead>\n",
       "    <tr style=\"text-align: right;\">\n",
       "      <th></th>\n",
       "      <th>Tipo</th>\n",
       "      <th>Bairro</th>\n",
       "      <th>Quartos</th>\n",
       "      <th>Vagas</th>\n",
       "      <th>Suites</th>\n",
       "      <th>Area</th>\n",
       "      <th>Valor</th>\n",
       "      <th>Condominio</th>\n",
       "      <th>IPTU</th>\n",
       "    </tr>\n",
       "  </thead>\n",
       "  <tbody>\n",
       "    <tr>\n",
       "      <th>3</th>\n",
       "      <td>Apartamento</td>\n",
       "      <td>Centro</td>\n",
       "      <td>1</td>\n",
       "      <td>0</td>\n",
       "      <td>0</td>\n",
       "      <td>15</td>\n",
       "      <td>800.0</td>\n",
       "      <td>390.0</td>\n",
       "      <td>20.0</td>\n",
       "    </tr>\n",
       "    <tr>\n",
       "      <th>4</th>\n",
       "      <td>Apartamento</td>\n",
       "      <td>Higienópolis</td>\n",
       "      <td>1</td>\n",
       "      <td>0</td>\n",
       "      <td>0</td>\n",
       "      <td>48</td>\n",
       "      <td>800.0</td>\n",
       "      <td>230.0</td>\n",
       "      <td>NaN</td>\n",
       "    </tr>\n",
       "    <tr>\n",
       "      <th>5</th>\n",
       "      <td>Apartamento</td>\n",
       "      <td>Vista Alegre</td>\n",
       "      <td>3</td>\n",
       "      <td>1</td>\n",
       "      <td>0</td>\n",
       "      <td>70</td>\n",
       "      <td>1200.0</td>\n",
       "      <td>NaN</td>\n",
       "      <td>NaN</td>\n",
       "    </tr>\n",
       "    <tr>\n",
       "      <th>6</th>\n",
       "      <td>Apartamento</td>\n",
       "      <td>Cachambi</td>\n",
       "      <td>2</td>\n",
       "      <td>0</td>\n",
       "      <td>0</td>\n",
       "      <td>50</td>\n",
       "      <td>1300.0</td>\n",
       "      <td>301.0</td>\n",
       "      <td>17.0</td>\n",
       "    </tr>\n",
       "    <tr>\n",
       "      <th>10</th>\n",
       "      <td>Apartamento</td>\n",
       "      <td>Centro</td>\n",
       "      <td>1</td>\n",
       "      <td>0</td>\n",
       "      <td>0</td>\n",
       "      <td>36</td>\n",
       "      <td>1200.0</td>\n",
       "      <td>NaN</td>\n",
       "      <td>NaN</td>\n",
       "    </tr>\n",
       "    <tr>\n",
       "      <th>...</th>\n",
       "      <td>...</td>\n",
       "      <td>...</td>\n",
       "      <td>...</td>\n",
       "      <td>...</td>\n",
       "      <td>...</td>\n",
       "      <td>...</td>\n",
       "      <td>...</td>\n",
       "      <td>...</td>\n",
       "      <td>...</td>\n",
       "    </tr>\n",
       "    <tr>\n",
       "      <th>32951</th>\n",
       "      <td>Apartamento</td>\n",
       "      <td>Vila Valqueire</td>\n",
       "      <td>2</td>\n",
       "      <td>0</td>\n",
       "      <td>0</td>\n",
       "      <td>52</td>\n",
       "      <td>1000.0</td>\n",
       "      <td>550.0</td>\n",
       "      <td>NaN</td>\n",
       "    </tr>\n",
       "    <tr>\n",
       "      <th>32953</th>\n",
       "      <td>Apartamento</td>\n",
       "      <td>Méier</td>\n",
       "      <td>2</td>\n",
       "      <td>0</td>\n",
       "      <td>0</td>\n",
       "      <td>70</td>\n",
       "      <td>900.0</td>\n",
       "      <td>490.0</td>\n",
       "      <td>48.0</td>\n",
       "    </tr>\n",
       "    <tr>\n",
       "      <th>32956</th>\n",
       "      <td>Apartamento</td>\n",
       "      <td>Jacarepaguá</td>\n",
       "      <td>3</td>\n",
       "      <td>1</td>\n",
       "      <td>2</td>\n",
       "      <td>78</td>\n",
       "      <td>1800.0</td>\n",
       "      <td>800.0</td>\n",
       "      <td>40.0</td>\n",
       "    </tr>\n",
       "    <tr>\n",
       "      <th>32957</th>\n",
       "      <td>Apartamento</td>\n",
       "      <td>São Francisco Xavier</td>\n",
       "      <td>2</td>\n",
       "      <td>1</td>\n",
       "      <td>0</td>\n",
       "      <td>48</td>\n",
       "      <td>1400.0</td>\n",
       "      <td>509.0</td>\n",
       "      <td>37.0</td>\n",
       "    </tr>\n",
       "    <tr>\n",
       "      <th>32958</th>\n",
       "      <td>Apartamento</td>\n",
       "      <td>Leblon</td>\n",
       "      <td>2</td>\n",
       "      <td>0</td>\n",
       "      <td>0</td>\n",
       "      <td>70</td>\n",
       "      <td>3000.0</td>\n",
       "      <td>760.0</td>\n",
       "      <td>NaN</td>\n",
       "    </tr>\n",
       "  </tbody>\n",
       "</table>\n",
       "<p>19532 rows × 9 columns</p>\n",
       "</div>"
      ],
      "text/plain": [
       "              Tipo                Bairro  Quartos  Vagas  Suites  Area  \\\n",
       "3      Apartamento                Centro        1      0       0    15   \n",
       "4      Apartamento          Higienópolis        1      0       0    48   \n",
       "5      Apartamento          Vista Alegre        3      1       0    70   \n",
       "6      Apartamento              Cachambi        2      0       0    50   \n",
       "10     Apartamento                Centro        1      0       0    36   \n",
       "...            ...                   ...      ...    ...     ...   ...   \n",
       "32951  Apartamento        Vila Valqueire        2      0       0    52   \n",
       "32953  Apartamento                 Méier        2      0       0    70   \n",
       "32956  Apartamento           Jacarepaguá        3      1       2    78   \n",
       "32957  Apartamento  São Francisco Xavier        2      1       0    48   \n",
       "32958  Apartamento                Leblon        2      0       0    70   \n",
       "\n",
       "        Valor  Condominio  IPTU  \n",
       "3       800.0       390.0  20.0  \n",
       "4       800.0       230.0   NaN  \n",
       "5      1200.0         NaN   NaN  \n",
       "6      1300.0       301.0  17.0  \n",
       "10     1200.0         NaN   NaN  \n",
       "...       ...         ...   ...  \n",
       "32951  1000.0       550.0   NaN  \n",
       "32953   900.0       490.0  48.0  \n",
       "32956  1800.0       800.0  40.0  \n",
       "32957  1400.0       509.0  37.0  \n",
       "32958  3000.0       760.0   NaN  \n",
       "\n",
       "[19532 rows x 9 columns]"
      ]
     },
     "execution_count": 28,
     "metadata": {},
     "output_type": "execute_result"
    }
   ],
   "source": [
    "df.query('Tipo == \"Apartamento\"')"
   ]
  },
  {
   "cell_type": "code",
   "execution_count": 29,
   "id": "1b34958e",
   "metadata": {},
   "outputs": [
    {
     "data": {
      "application/vnd.microsoft.datawrangler.viewer.v0+json": {
       "columns": [
        {
         "name": "index",
         "rawType": "int64",
         "type": "integer"
        },
        {
         "name": "Tipo",
         "rawType": "object",
         "type": "string"
        },
        {
         "name": "Bairro",
         "rawType": "object",
         "type": "string"
        },
        {
         "name": "Quartos",
         "rawType": "int64",
         "type": "integer"
        },
        {
         "name": "Vagas",
         "rawType": "int64",
         "type": "integer"
        },
        {
         "name": "Suites",
         "rawType": "int64",
         "type": "integer"
        },
        {
         "name": "Area",
         "rawType": "int64",
         "type": "integer"
        },
        {
         "name": "Valor",
         "rawType": "float64",
         "type": "float"
        },
        {
         "name": "Condominio",
         "rawType": "float64",
         "type": "float"
        },
        {
         "name": "IPTU",
         "rawType": "float64",
         "type": "float"
        }
       ],
       "ref": "6dbcec85-84a8-4b82-a22a-507c00652916",
       "rows": [
        [
         "3",
         "Apartamento",
         "Centro",
         "1",
         "0",
         "0",
         "15",
         "800.0",
         "390.0",
         "20.0"
        ],
        [
         "4",
         "Apartamento",
         "Higienópolis",
         "1",
         "0",
         "0",
         "48",
         "800.0",
         "230.0",
         null
        ],
        [
         "5",
         "Apartamento",
         "Vista Alegre",
         "3",
         "1",
         "0",
         "70",
         "1200.0",
         null,
         null
        ],
        [
         "6",
         "Apartamento",
         "Cachambi",
         "2",
         "0",
         "0",
         "50",
         "1300.0",
         "301.0",
         "17.0"
        ],
        [
         "10",
         "Apartamento",
         "Centro",
         "1",
         "0",
         "0",
         "36",
         "1200.0",
         null,
         null
        ]
       ],
       "shape": {
        "columns": 9,
        "rows": 5
       }
      },
      "text/html": [
       "<div>\n",
       "<style scoped>\n",
       "    .dataframe tbody tr th:only-of-type {\n",
       "        vertical-align: middle;\n",
       "    }\n",
       "\n",
       "    .dataframe tbody tr th {\n",
       "        vertical-align: top;\n",
       "    }\n",
       "\n",
       "    .dataframe thead th {\n",
       "        text-align: right;\n",
       "    }\n",
       "</style>\n",
       "<table border=\"1\" class=\"dataframe\">\n",
       "  <thead>\n",
       "    <tr style=\"text-align: right;\">\n",
       "      <th></th>\n",
       "      <th>Tipo</th>\n",
       "      <th>Bairro</th>\n",
       "      <th>Quartos</th>\n",
       "      <th>Vagas</th>\n",
       "      <th>Suites</th>\n",
       "      <th>Area</th>\n",
       "      <th>Valor</th>\n",
       "      <th>Condominio</th>\n",
       "      <th>IPTU</th>\n",
       "    </tr>\n",
       "  </thead>\n",
       "  <tbody>\n",
       "    <tr>\n",
       "      <th>3</th>\n",
       "      <td>Apartamento</td>\n",
       "      <td>Centro</td>\n",
       "      <td>1</td>\n",
       "      <td>0</td>\n",
       "      <td>0</td>\n",
       "      <td>15</td>\n",
       "      <td>800.0</td>\n",
       "      <td>390.0</td>\n",
       "      <td>20.0</td>\n",
       "    </tr>\n",
       "    <tr>\n",
       "      <th>4</th>\n",
       "      <td>Apartamento</td>\n",
       "      <td>Higienópolis</td>\n",
       "      <td>1</td>\n",
       "      <td>0</td>\n",
       "      <td>0</td>\n",
       "      <td>48</td>\n",
       "      <td>800.0</td>\n",
       "      <td>230.0</td>\n",
       "      <td>NaN</td>\n",
       "    </tr>\n",
       "    <tr>\n",
       "      <th>5</th>\n",
       "      <td>Apartamento</td>\n",
       "      <td>Vista Alegre</td>\n",
       "      <td>3</td>\n",
       "      <td>1</td>\n",
       "      <td>0</td>\n",
       "      <td>70</td>\n",
       "      <td>1200.0</td>\n",
       "      <td>NaN</td>\n",
       "      <td>NaN</td>\n",
       "    </tr>\n",
       "    <tr>\n",
       "      <th>6</th>\n",
       "      <td>Apartamento</td>\n",
       "      <td>Cachambi</td>\n",
       "      <td>2</td>\n",
       "      <td>0</td>\n",
       "      <td>0</td>\n",
       "      <td>50</td>\n",
       "      <td>1300.0</td>\n",
       "      <td>301.0</td>\n",
       "      <td>17.0</td>\n",
       "    </tr>\n",
       "    <tr>\n",
       "      <th>10</th>\n",
       "      <td>Apartamento</td>\n",
       "      <td>Centro</td>\n",
       "      <td>1</td>\n",
       "      <td>0</td>\n",
       "      <td>0</td>\n",
       "      <td>36</td>\n",
       "      <td>1200.0</td>\n",
       "      <td>NaN</td>\n",
       "      <td>NaN</td>\n",
       "    </tr>\n",
       "  </tbody>\n",
       "</table>\n",
       "</div>"
      ],
      "text/plain": [
       "           Tipo        Bairro  Quartos  Vagas  Suites  Area   Valor  \\\n",
       "3   Apartamento        Centro        1      0       0    15   800.0   \n",
       "4   Apartamento  Higienópolis        1      0       0    48   800.0   \n",
       "5   Apartamento  Vista Alegre        3      1       0    70  1200.0   \n",
       "6   Apartamento      Cachambi        2      0       0    50  1300.0   \n",
       "10  Apartamento        Centro        1      0       0    36  1200.0   \n",
       "\n",
       "    Condominio  IPTU  \n",
       "3        390.0  20.0  \n",
       "4        230.0   NaN  \n",
       "5          NaN   NaN  \n",
       "6        301.0  17.0  \n",
       "10         NaN   NaN  "
      ]
     },
     "execution_count": 29,
     "metadata": {},
     "output_type": "execute_result"
    }
   ],
   "source": [
    "df = df.query('Tipo == \"Apartamento\"')\n",
    "df.head()"
   ]
  },
  {
   "cell_type": "markdown",
   "id": "6cb93cd7",
   "metadata": {},
   "source": [
    "# Tratando e filtrando os dados"
   ]
  },
  {
   "cell_type": "markdown",
   "id": "c3a96cd0",
   "metadata": {},
   "source": [
    "## Lidando com dados nulos"
   ]
  },
  {
   "cell_type": "code",
   "execution_count": 30,
   "id": "8971ad13",
   "metadata": {},
   "outputs": [
    {
     "data": {
      "application/vnd.microsoft.datawrangler.viewer.v0+json": {
       "columns": [
        {
         "name": "index",
         "rawType": "int64",
         "type": "integer"
        },
        {
         "name": "Tipo",
         "rawType": "bool",
         "type": "boolean"
        },
        {
         "name": "Bairro",
         "rawType": "bool",
         "type": "boolean"
        },
        {
         "name": "Quartos",
         "rawType": "bool",
         "type": "boolean"
        },
        {
         "name": "Vagas",
         "rawType": "bool",
         "type": "boolean"
        },
        {
         "name": "Suites",
         "rawType": "bool",
         "type": "boolean"
        },
        {
         "name": "Area",
         "rawType": "bool",
         "type": "boolean"
        },
        {
         "name": "Valor",
         "rawType": "bool",
         "type": "boolean"
        },
        {
         "name": "Condominio",
         "rawType": "bool",
         "type": "boolean"
        },
        {
         "name": "IPTU",
         "rawType": "bool",
         "type": "boolean"
        }
       ],
       "ref": "a4ba1cac-6247-48b5-a64f-d7fd41aa08c0",
       "rows": [
        [
         "3",
         "False",
         "False",
         "False",
         "False",
         "False",
         "False",
         "False",
         "False",
         "False"
        ],
        [
         "4",
         "False",
         "False",
         "False",
         "False",
         "False",
         "False",
         "False",
         "False",
         "True"
        ],
        [
         "5",
         "False",
         "False",
         "False",
         "False",
         "False",
         "False",
         "False",
         "True",
         "True"
        ],
        [
         "6",
         "False",
         "False",
         "False",
         "False",
         "False",
         "False",
         "False",
         "False",
         "False"
        ],
        [
         "10",
         "False",
         "False",
         "False",
         "False",
         "False",
         "False",
         "False",
         "True",
         "True"
        ],
        [
         "11",
         "False",
         "False",
         "False",
         "False",
         "False",
         "False",
         "False",
         "False",
         "False"
        ],
        [
         "12",
         "False",
         "False",
         "False",
         "False",
         "False",
         "False",
         "False",
         "False",
         "False"
        ],
        [
         "13",
         "False",
         "False",
         "False",
         "False",
         "False",
         "False",
         "False",
         "False",
         "False"
        ],
        [
         "15",
         "False",
         "False",
         "False",
         "False",
         "False",
         "False",
         "False",
         "False",
         "False"
        ],
        [
         "19",
         "False",
         "False",
         "False",
         "False",
         "False",
         "False",
         "False",
         "False",
         "False"
        ],
        [
         "20",
         "False",
         "False",
         "False",
         "False",
         "False",
         "False",
         "False",
         "False",
         "False"
        ],
        [
         "21",
         "False",
         "False",
         "False",
         "False",
         "False",
         "False",
         "False",
         "False",
         "False"
        ],
        [
         "23",
         "False",
         "False",
         "False",
         "False",
         "False",
         "False",
         "False",
         "False",
         "True"
        ],
        [
         "24",
         "False",
         "False",
         "False",
         "False",
         "False",
         "False",
         "False",
         "False",
         "True"
        ],
        [
         "27",
         "False",
         "False",
         "False",
         "False",
         "False",
         "False",
         "False",
         "False",
         "False"
        ],
        [
         "28",
         "False",
         "False",
         "False",
         "False",
         "False",
         "False",
         "False",
         "False",
         "False"
        ],
        [
         "30",
         "False",
         "False",
         "False",
         "False",
         "False",
         "False",
         "False",
         "False",
         "False"
        ],
        [
         "32",
         "False",
         "False",
         "False",
         "False",
         "False",
         "False",
         "False",
         "False",
         "True"
        ],
        [
         "33",
         "False",
         "False",
         "False",
         "False",
         "False",
         "False",
         "False",
         "False",
         "False"
        ],
        [
         "34",
         "False",
         "False",
         "False",
         "False",
         "False",
         "False",
         "False",
         "False",
         "False"
        ],
        [
         "36",
         "False",
         "False",
         "False",
         "False",
         "False",
         "False",
         "False",
         "False",
         "True"
        ],
        [
         "37",
         "False",
         "False",
         "False",
         "False",
         "False",
         "False",
         "False",
         "False",
         "False"
        ],
        [
         "40",
         "False",
         "False",
         "False",
         "False",
         "False",
         "False",
         "False",
         "False",
         "False"
        ],
        [
         "41",
         "False",
         "False",
         "False",
         "False",
         "False",
         "False",
         "False",
         "False",
         "False"
        ],
        [
         "43",
         "False",
         "False",
         "False",
         "False",
         "False",
         "False",
         "False",
         "False",
         "False"
        ],
        [
         "44",
         "False",
         "False",
         "False",
         "False",
         "False",
         "False",
         "False",
         "False",
         "False"
        ],
        [
         "47",
         "False",
         "False",
         "False",
         "False",
         "False",
         "False",
         "False",
         "False",
         "True"
        ],
        [
         "48",
         "False",
         "False",
         "False",
         "False",
         "False",
         "False",
         "False",
         "False",
         "True"
        ],
        [
         "49",
         "False",
         "False",
         "False",
         "False",
         "False",
         "False",
         "False",
         "False",
         "False"
        ],
        [
         "50",
         "False",
         "False",
         "False",
         "False",
         "False",
         "False",
         "False",
         "False",
         "False"
        ],
        [
         "51",
         "False",
         "False",
         "False",
         "False",
         "False",
         "False",
         "False",
         "False",
         "False"
        ],
        [
         "54",
         "False",
         "False",
         "False",
         "False",
         "False",
         "False",
         "False",
         "False",
         "False"
        ],
        [
         "55",
         "False",
         "False",
         "False",
         "False",
         "False",
         "False",
         "False",
         "False",
         "False"
        ],
        [
         "56",
         "False",
         "False",
         "False",
         "False",
         "False",
         "False",
         "False",
         "False",
         "False"
        ],
        [
         "57",
         "False",
         "False",
         "False",
         "False",
         "False",
         "False",
         "False",
         "False",
         "False"
        ],
        [
         "60",
         "False",
         "False",
         "False",
         "False",
         "False",
         "False",
         "False",
         "False",
         "False"
        ],
        [
         "62",
         "False",
         "False",
         "False",
         "False",
         "False",
         "False",
         "False",
         "False",
         "False"
        ],
        [
         "63",
         "False",
         "False",
         "False",
         "False",
         "False",
         "False",
         "False",
         "False",
         "False"
        ],
        [
         "64",
         "False",
         "False",
         "False",
         "False",
         "False",
         "False",
         "False",
         "False",
         "False"
        ],
        [
         "65",
         "False",
         "False",
         "False",
         "False",
         "False",
         "False",
         "False",
         "False",
         "False"
        ],
        [
         "66",
         "False",
         "False",
         "False",
         "False",
         "False",
         "False",
         "False",
         "False",
         "False"
        ],
        [
         "67",
         "False",
         "False",
         "False",
         "False",
         "False",
         "False",
         "False",
         "False",
         "False"
        ],
        [
         "68",
         "False",
         "False",
         "False",
         "False",
         "False",
         "False",
         "False",
         "False",
         "False"
        ],
        [
         "70",
         "False",
         "False",
         "False",
         "False",
         "False",
         "False",
         "False",
         "False",
         "False"
        ],
        [
         "71",
         "False",
         "False",
         "False",
         "False",
         "False",
         "False",
         "False",
         "False",
         "True"
        ],
        [
         "73",
         "False",
         "False",
         "False",
         "False",
         "False",
         "False",
         "False",
         "False",
         "False"
        ],
        [
         "75",
         "False",
         "False",
         "False",
         "False",
         "False",
         "False",
         "False",
         "False",
         "True"
        ],
        [
         "76",
         "False",
         "False",
         "False",
         "False",
         "False",
         "False",
         "True",
         "False",
         "False"
        ],
        [
         "77",
         "False",
         "False",
         "False",
         "False",
         "False",
         "False",
         "False",
         "False",
         "False"
        ],
        [
         "88",
         "False",
         "False",
         "False",
         "False",
         "False",
         "False",
         "False",
         "False",
         "False"
        ]
       ],
       "shape": {
        "columns": 9,
        "rows": 19532
       }
      },
      "text/html": [
       "<div>\n",
       "<style scoped>\n",
       "    .dataframe tbody tr th:only-of-type {\n",
       "        vertical-align: middle;\n",
       "    }\n",
       "\n",
       "    .dataframe tbody tr th {\n",
       "        vertical-align: top;\n",
       "    }\n",
       "\n",
       "    .dataframe thead th {\n",
       "        text-align: right;\n",
       "    }\n",
       "</style>\n",
       "<table border=\"1\" class=\"dataframe\">\n",
       "  <thead>\n",
       "    <tr style=\"text-align: right;\">\n",
       "      <th></th>\n",
       "      <th>Tipo</th>\n",
       "      <th>Bairro</th>\n",
       "      <th>Quartos</th>\n",
       "      <th>Vagas</th>\n",
       "      <th>Suites</th>\n",
       "      <th>Area</th>\n",
       "      <th>Valor</th>\n",
       "      <th>Condominio</th>\n",
       "      <th>IPTU</th>\n",
       "    </tr>\n",
       "  </thead>\n",
       "  <tbody>\n",
       "    <tr>\n",
       "      <th>3</th>\n",
       "      <td>False</td>\n",
       "      <td>False</td>\n",
       "      <td>False</td>\n",
       "      <td>False</td>\n",
       "      <td>False</td>\n",
       "      <td>False</td>\n",
       "      <td>False</td>\n",
       "      <td>False</td>\n",
       "      <td>False</td>\n",
       "    </tr>\n",
       "    <tr>\n",
       "      <th>4</th>\n",
       "      <td>False</td>\n",
       "      <td>False</td>\n",
       "      <td>False</td>\n",
       "      <td>False</td>\n",
       "      <td>False</td>\n",
       "      <td>False</td>\n",
       "      <td>False</td>\n",
       "      <td>False</td>\n",
       "      <td>True</td>\n",
       "    </tr>\n",
       "    <tr>\n",
       "      <th>5</th>\n",
       "      <td>False</td>\n",
       "      <td>False</td>\n",
       "      <td>False</td>\n",
       "      <td>False</td>\n",
       "      <td>False</td>\n",
       "      <td>False</td>\n",
       "      <td>False</td>\n",
       "      <td>True</td>\n",
       "      <td>True</td>\n",
       "    </tr>\n",
       "    <tr>\n",
       "      <th>6</th>\n",
       "      <td>False</td>\n",
       "      <td>False</td>\n",
       "      <td>False</td>\n",
       "      <td>False</td>\n",
       "      <td>False</td>\n",
       "      <td>False</td>\n",
       "      <td>False</td>\n",
       "      <td>False</td>\n",
       "      <td>False</td>\n",
       "    </tr>\n",
       "    <tr>\n",
       "      <th>10</th>\n",
       "      <td>False</td>\n",
       "      <td>False</td>\n",
       "      <td>False</td>\n",
       "      <td>False</td>\n",
       "      <td>False</td>\n",
       "      <td>False</td>\n",
       "      <td>False</td>\n",
       "      <td>True</td>\n",
       "      <td>True</td>\n",
       "    </tr>\n",
       "    <tr>\n",
       "      <th>...</th>\n",
       "      <td>...</td>\n",
       "      <td>...</td>\n",
       "      <td>...</td>\n",
       "      <td>...</td>\n",
       "      <td>...</td>\n",
       "      <td>...</td>\n",
       "      <td>...</td>\n",
       "      <td>...</td>\n",
       "      <td>...</td>\n",
       "    </tr>\n",
       "    <tr>\n",
       "      <th>32951</th>\n",
       "      <td>False</td>\n",
       "      <td>False</td>\n",
       "      <td>False</td>\n",
       "      <td>False</td>\n",
       "      <td>False</td>\n",
       "      <td>False</td>\n",
       "      <td>False</td>\n",
       "      <td>False</td>\n",
       "      <td>True</td>\n",
       "    </tr>\n",
       "    <tr>\n",
       "      <th>32953</th>\n",
       "      <td>False</td>\n",
       "      <td>False</td>\n",
       "      <td>False</td>\n",
       "      <td>False</td>\n",
       "      <td>False</td>\n",
       "      <td>False</td>\n",
       "      <td>False</td>\n",
       "      <td>False</td>\n",
       "      <td>False</td>\n",
       "    </tr>\n",
       "    <tr>\n",
       "      <th>32956</th>\n",
       "      <td>False</td>\n",
       "      <td>False</td>\n",
       "      <td>False</td>\n",
       "      <td>False</td>\n",
       "      <td>False</td>\n",
       "      <td>False</td>\n",
       "      <td>False</td>\n",
       "      <td>False</td>\n",
       "      <td>False</td>\n",
       "    </tr>\n",
       "    <tr>\n",
       "      <th>32957</th>\n",
       "      <td>False</td>\n",
       "      <td>False</td>\n",
       "      <td>False</td>\n",
       "      <td>False</td>\n",
       "      <td>False</td>\n",
       "      <td>False</td>\n",
       "      <td>False</td>\n",
       "      <td>False</td>\n",
       "      <td>False</td>\n",
       "    </tr>\n",
       "    <tr>\n",
       "      <th>32958</th>\n",
       "      <td>False</td>\n",
       "      <td>False</td>\n",
       "      <td>False</td>\n",
       "      <td>False</td>\n",
       "      <td>False</td>\n",
       "      <td>False</td>\n",
       "      <td>False</td>\n",
       "      <td>False</td>\n",
       "      <td>True</td>\n",
       "    </tr>\n",
       "  </tbody>\n",
       "</table>\n",
       "<p>19532 rows × 9 columns</p>\n",
       "</div>"
      ],
      "text/plain": [
       "        Tipo  Bairro  Quartos  Vagas  Suites   Area  Valor  Condominio   IPTU\n",
       "3      False   False    False  False   False  False  False       False  False\n",
       "4      False   False    False  False   False  False  False       False   True\n",
       "5      False   False    False  False   False  False  False        True   True\n",
       "6      False   False    False  False   False  False  False       False  False\n",
       "10     False   False    False  False   False  False  False        True   True\n",
       "...      ...     ...      ...    ...     ...    ...    ...         ...    ...\n",
       "32951  False   False    False  False   False  False  False       False   True\n",
       "32953  False   False    False  False   False  False  False       False  False\n",
       "32956  False   False    False  False   False  False  False       False  False\n",
       "32957  False   False    False  False   False  False  False       False  False\n",
       "32958  False   False    False  False   False  False  False       False   True\n",
       "\n",
       "[19532 rows x 9 columns]"
      ]
     },
     "execution_count": 30,
     "metadata": {},
     "output_type": "execute_result"
    }
   ],
   "source": [
    "df.isnull()"
   ]
  },
  {
   "cell_type": "code",
   "execution_count": 31,
   "id": "6d6de6c9",
   "metadata": {},
   "outputs": [
    {
     "data": {
      "application/vnd.microsoft.datawrangler.viewer.v0+json": {
       "columns": [
        {
         "name": "index",
         "rawType": "object",
         "type": "string"
        },
        {
         "name": "0",
         "rawType": "int64",
         "type": "integer"
        }
       ],
       "ref": "ac39f141-cef0-4a40-abc8-04a732900bc4",
       "rows": [
        [
         "Tipo",
         "0"
        ],
        [
         "Bairro",
         "0"
        ],
        [
         "Quartos",
         "0"
        ],
        [
         "Vagas",
         "0"
        ],
        [
         "Suites",
         "0"
        ],
        [
         "Area",
         "0"
        ],
        [
         "Valor",
         "7"
        ],
        [
         "Condominio",
         "745"
        ],
        [
         "IPTU",
         "5472"
        ]
       ],
       "shape": {
        "columns": 1,
        "rows": 9
       }
      },
      "text/plain": [
       "Tipo             0\n",
       "Bairro           0\n",
       "Quartos          0\n",
       "Vagas            0\n",
       "Suites           0\n",
       "Area             0\n",
       "Valor            7\n",
       "Condominio     745\n",
       "IPTU          5472\n",
       "dtype: int64"
      ]
     },
     "execution_count": 31,
     "metadata": {},
     "output_type": "execute_result"
    }
   ],
   "source": [
    "df.isnull().sum()"
   ]
  },
  {
   "cell_type": "code",
   "execution_count": 32,
   "id": "8c2bd5ec",
   "metadata": {},
   "outputs": [
    {
     "data": {
      "application/vnd.microsoft.datawrangler.viewer.v0+json": {
       "columns": [
        {
         "name": "index",
         "rawType": "int64",
         "type": "integer"
        },
        {
         "name": "Tipo",
         "rawType": "object",
         "type": "string"
        },
        {
         "name": "Bairro",
         "rawType": "object",
         "type": "string"
        },
        {
         "name": "Quartos",
         "rawType": "int64",
         "type": "integer"
        },
        {
         "name": "Vagas",
         "rawType": "int64",
         "type": "integer"
        },
        {
         "name": "Suites",
         "rawType": "int64",
         "type": "integer"
        },
        {
         "name": "Area",
         "rawType": "int64",
         "type": "integer"
        },
        {
         "name": "Valor",
         "rawType": "float64",
         "type": "float"
        },
        {
         "name": "Condominio",
         "rawType": "float64",
         "type": "float"
        },
        {
         "name": "IPTU",
         "rawType": "float64",
         "type": "float"
        }
       ],
       "ref": "b568ea49-9329-4353-b6b8-4ceac276a883",
       "rows": [
        [
         "3",
         "Apartamento",
         "Centro",
         "1",
         "0",
         "0",
         "15",
         "800.0",
         "390.0",
         "20.0"
        ],
        [
         "4",
         "Apartamento",
         "Higienópolis",
         "1",
         "0",
         "0",
         "48",
         "800.0",
         "230.0",
         "0.0"
        ],
        [
         "5",
         "Apartamento",
         "Vista Alegre",
         "3",
         "1",
         "0",
         "70",
         "1200.0",
         "0.0",
         "0.0"
        ],
        [
         "6",
         "Apartamento",
         "Cachambi",
         "2",
         "0",
         "0",
         "50",
         "1300.0",
         "301.0",
         "17.0"
        ],
        [
         "10",
         "Apartamento",
         "Centro",
         "1",
         "0",
         "0",
         "36",
         "1200.0",
         "0.0",
         "0.0"
        ],
        [
         "11",
         "Apartamento",
         "Grajaú",
         "2",
         "1",
         "0",
         "70",
         "1500.0",
         "642.0",
         "74.0"
        ],
        [
         "12",
         "Apartamento",
         "Lins de Vasconcelos",
         "3",
         "1",
         "1",
         "90",
         "1500.0",
         "455.0",
         "14.0"
        ],
        [
         "13",
         "Apartamento",
         "Copacabana",
         "1",
         "0",
         "1",
         "40",
         "2000.0",
         "561.0",
         "50.0"
        ],
        [
         "15",
         "Apartamento",
         "Copacabana",
         "4",
         "3",
         "1",
         "243",
         "13000.0",
         "2000.0",
         "803.0"
        ],
        [
         "19",
         "Apartamento",
         "Freguesia (Jacarepaguá)",
         "3",
         "0",
         "0",
         "54",
         "950.0",
         "300.0",
         "28.0"
        ],
        [
         "20",
         "Apartamento",
         "Barra da Tijuca",
         "2",
         "1",
         "1",
         "67",
         "1700.0",
         "589.0",
         "147.0"
        ],
        [
         "21",
         "Apartamento",
         "Tijuca",
         "2",
         "1",
         "0",
         "110",
         "1900.0",
         "700.0",
         "138.0"
        ],
        [
         "23",
         "Apartamento",
         "Olaria",
         "3",
         "1",
         "0",
         "68",
         "1000.0",
         "670.0",
         "0.0"
        ],
        [
         "24",
         "Apartamento",
         "Tijuca",
         "2",
         "1",
         "0",
         "78",
         "2000.0",
         "700.0",
         "0.0"
        ],
        [
         "27",
         "Apartamento",
         "Ipanema",
         "3",
         "1",
         "1",
         "125",
         "7000.0",
         "2100.0",
         "463.0"
        ],
        [
         "28",
         "Apartamento",
         "Tijuca",
         "1",
         "0",
         "0",
         "48",
         "750.0",
         "772.0",
         "25.0"
        ],
        [
         "30",
         "Apartamento",
         "Barra da Tijuca",
         "3",
         "3",
         "1",
         "175",
         "4200.0",
         "1500.0",
         "500.0"
        ],
        [
         "32",
         "Apartamento",
         "Botafogo",
         "2",
         "1",
         "0",
         "76",
         "2500.0",
         "740.0",
         "0.0"
        ],
        [
         "33",
         "Apartamento",
         "Copacabana",
         "3",
         "1",
         "2",
         "378",
         "10000.0",
         "2150.0",
         "700.0"
        ],
        [
         "34",
         "Apartamento",
         "Copacabana",
         "3",
         "0",
         "0",
         "180",
         "5500.0",
         "1780.0",
         "420.0"
        ],
        [
         "36",
         "Apartamento",
         "Recreio dos Bandeirantes",
         "3",
         "1",
         "1",
         "105",
         "2300.0",
         "648.0",
         "0.0"
        ],
        [
         "37",
         "Apartamento",
         "Leblon",
         "3",
         "1",
         "0",
         "110",
         "3900.0",
         "1500.0",
         "120.0"
        ],
        [
         "40",
         "Apartamento",
         "Jardim Oceânico",
         "3",
         "3",
         "1",
         "200",
         "3500.0",
         "1780.0",
         "496.0"
        ],
        [
         "41",
         "Apartamento",
         "Barra da Tijuca",
         "3",
         "1",
         "2",
         "70",
         "1800.0",
         "1095.0",
         "140.0"
        ],
        [
         "43",
         "Apartamento",
         "Copacabana",
         "4",
         "1",
         "0",
         "244",
         "5000.0",
         "2500.0",
         "4100.0"
        ],
        [
         "44",
         "Apartamento",
         "Barra da Tijuca",
         "3",
         "2",
         "1",
         "110",
         "4500.0",
         "2000.0",
         "450.0"
        ],
        [
         "47",
         "Apartamento",
         "Recreio dos Bandeirantes",
         "2",
         "2",
         "2",
         "90",
         "3000.0",
         "1340.0",
         "0.0"
        ],
        [
         "48",
         "Apartamento",
         "Recreio dos Bandeirantes",
         "3",
         "2",
         "2",
         "100",
         "2600.0",
         "380.0",
         "0.0"
        ],
        [
         "49",
         "Apartamento",
         "Barra da Tijuca",
         "3",
         "1",
         "1",
         "72",
         "2350.0",
         "600.0",
         "70.0"
        ],
        [
         "50",
         "Apartamento",
         "Humaitá",
         "2",
         "2",
         "1",
         "180",
         "4000.0",
         "2500.0",
         "300.0"
        ],
        [
         "51",
         "Apartamento",
         "Recreio dos Bandeirantes",
         "3",
         "1",
         "2",
         "92",
         "2300.0",
         "840.0",
         "200.0"
        ],
        [
         "54",
         "Apartamento",
         "Centro",
         "1",
         "0",
         "0",
         "27",
         "750.0",
         "371.0",
         "19.0"
        ],
        [
         "55",
         "Apartamento",
         "Ipanema",
         "1",
         "0",
         "0",
         "35",
         "2000.0",
         "650.0",
         "75.0"
        ],
        [
         "56",
         "Apartamento",
         "Ipanema",
         "1",
         "0",
         "0",
         "38",
         "1400.0",
         "530.0",
         "77.0"
        ],
        [
         "57",
         "Apartamento",
         "Recreio dos Bandeirantes",
         "2",
         "1",
         "2",
         "83",
         "1600.0",
         "1160.0",
         "157.0"
        ],
        [
         "60",
         "Apartamento",
         "Barra da Tijuca",
         "4",
         "3",
         "3",
         "153",
         "6500.0",
         "2300.0",
         "434.0"
        ],
        [
         "62",
         "Apartamento",
         "Península",
         "4",
         "3",
         "4",
         "267",
         "18000.0",
         "3100.0",
         "400.0"
        ],
        [
         "63",
         "Apartamento",
         "Ipanema",
         "3",
         "1",
         "0",
         "87",
         "3200.0",
         "1305.0",
         "217.0"
        ],
        [
         "64",
         "Apartamento",
         "Méier",
         "3",
         "1",
         "0",
         "90",
         "1550.0",
         "844.0",
         "80.0"
        ],
        [
         "65",
         "Apartamento",
         "Vargem Pequena",
         "3",
         "1",
         "0",
         "53",
         "1400.0",
         "385.0",
         "28.0"
        ],
        [
         "66",
         "Apartamento",
         "Botafogo",
         "3",
         "1",
         "1",
         "108",
         "5950.0",
         "1405.0",
         "289.0"
        ],
        [
         "67",
         "Apartamento",
         "Maracanã",
         "2",
         "0",
         "0",
         "86",
         "1800.0",
         "600.0",
         "82.0"
        ],
        [
         "68",
         "Apartamento",
         "Recreio dos Bandeirantes",
         "2",
         "1",
         "1",
         "74",
         "1850.0",
         "675.0",
         "200.0"
        ],
        [
         "70",
         "Apartamento",
         "Jacarepaguá",
         "3",
         "1",
         "1",
         "74",
         "1900.0",
         "556.0",
         "98.0"
        ],
        [
         "71",
         "Apartamento",
         "Ipanema",
         "3",
         "2",
         "1",
         "150",
         "8000.0",
         "2400.0",
         "0.0"
        ],
        [
         "73",
         "Apartamento",
         "Ipanema",
         "3",
         "1",
         "1",
         "140",
         "7900.0",
         "2900.0",
         "500.0"
        ],
        [
         "75",
         "Apartamento",
         "Jardim Botânico",
         "2",
         "2",
         "0",
         "95",
         "4000.0",
         "1170.0",
         "0.0"
        ],
        [
         "76",
         "Apartamento",
         "Barra da Tijuca",
         "2",
         "1",
         "1",
         "70",
         "0.0",
         "970.0",
         "68.0"
        ],
        [
         "77",
         "Apartamento",
         "Cachambi",
         "2",
         "0",
         "0",
         "60",
         "1000.0",
         "380.0",
         "280.0"
        ],
        [
         "88",
         "Apartamento",
         "Leblon",
         "2",
         "1",
         "1",
         "80",
         "3500.0",
         "990.0",
         "245.0"
        ]
       ],
       "shape": {
        "columns": 9,
        "rows": 19532
       }
      },
      "text/html": [
       "<div>\n",
       "<style scoped>\n",
       "    .dataframe tbody tr th:only-of-type {\n",
       "        vertical-align: middle;\n",
       "    }\n",
       "\n",
       "    .dataframe tbody tr th {\n",
       "        vertical-align: top;\n",
       "    }\n",
       "\n",
       "    .dataframe thead th {\n",
       "        text-align: right;\n",
       "    }\n",
       "</style>\n",
       "<table border=\"1\" class=\"dataframe\">\n",
       "  <thead>\n",
       "    <tr style=\"text-align: right;\">\n",
       "      <th></th>\n",
       "      <th>Tipo</th>\n",
       "      <th>Bairro</th>\n",
       "      <th>Quartos</th>\n",
       "      <th>Vagas</th>\n",
       "      <th>Suites</th>\n",
       "      <th>Area</th>\n",
       "      <th>Valor</th>\n",
       "      <th>Condominio</th>\n",
       "      <th>IPTU</th>\n",
       "    </tr>\n",
       "  </thead>\n",
       "  <tbody>\n",
       "    <tr>\n",
       "      <th>3</th>\n",
       "      <td>Apartamento</td>\n",
       "      <td>Centro</td>\n",
       "      <td>1</td>\n",
       "      <td>0</td>\n",
       "      <td>0</td>\n",
       "      <td>15</td>\n",
       "      <td>800.0</td>\n",
       "      <td>390.0</td>\n",
       "      <td>20.0</td>\n",
       "    </tr>\n",
       "    <tr>\n",
       "      <th>4</th>\n",
       "      <td>Apartamento</td>\n",
       "      <td>Higienópolis</td>\n",
       "      <td>1</td>\n",
       "      <td>0</td>\n",
       "      <td>0</td>\n",
       "      <td>48</td>\n",
       "      <td>800.0</td>\n",
       "      <td>230.0</td>\n",
       "      <td>0.0</td>\n",
       "    </tr>\n",
       "    <tr>\n",
       "      <th>5</th>\n",
       "      <td>Apartamento</td>\n",
       "      <td>Vista Alegre</td>\n",
       "      <td>3</td>\n",
       "      <td>1</td>\n",
       "      <td>0</td>\n",
       "      <td>70</td>\n",
       "      <td>1200.0</td>\n",
       "      <td>0.0</td>\n",
       "      <td>0.0</td>\n",
       "    </tr>\n",
       "    <tr>\n",
       "      <th>6</th>\n",
       "      <td>Apartamento</td>\n",
       "      <td>Cachambi</td>\n",
       "      <td>2</td>\n",
       "      <td>0</td>\n",
       "      <td>0</td>\n",
       "      <td>50</td>\n",
       "      <td>1300.0</td>\n",
       "      <td>301.0</td>\n",
       "      <td>17.0</td>\n",
       "    </tr>\n",
       "    <tr>\n",
       "      <th>10</th>\n",
       "      <td>Apartamento</td>\n",
       "      <td>Centro</td>\n",
       "      <td>1</td>\n",
       "      <td>0</td>\n",
       "      <td>0</td>\n",
       "      <td>36</td>\n",
       "      <td>1200.0</td>\n",
       "      <td>0.0</td>\n",
       "      <td>0.0</td>\n",
       "    </tr>\n",
       "    <tr>\n",
       "      <th>...</th>\n",
       "      <td>...</td>\n",
       "      <td>...</td>\n",
       "      <td>...</td>\n",
       "      <td>...</td>\n",
       "      <td>...</td>\n",
       "      <td>...</td>\n",
       "      <td>...</td>\n",
       "      <td>...</td>\n",
       "      <td>...</td>\n",
       "    </tr>\n",
       "    <tr>\n",
       "      <th>32951</th>\n",
       "      <td>Apartamento</td>\n",
       "      <td>Vila Valqueire</td>\n",
       "      <td>2</td>\n",
       "      <td>0</td>\n",
       "      <td>0</td>\n",
       "      <td>52</td>\n",
       "      <td>1000.0</td>\n",
       "      <td>550.0</td>\n",
       "      <td>0.0</td>\n",
       "    </tr>\n",
       "    <tr>\n",
       "      <th>32953</th>\n",
       "      <td>Apartamento</td>\n",
       "      <td>Méier</td>\n",
       "      <td>2</td>\n",
       "      <td>0</td>\n",
       "      <td>0</td>\n",
       "      <td>70</td>\n",
       "      <td>900.0</td>\n",
       "      <td>490.0</td>\n",
       "      <td>48.0</td>\n",
       "    </tr>\n",
       "    <tr>\n",
       "      <th>32956</th>\n",
       "      <td>Apartamento</td>\n",
       "      <td>Jacarepaguá</td>\n",
       "      <td>3</td>\n",
       "      <td>1</td>\n",
       "      <td>2</td>\n",
       "      <td>78</td>\n",
       "      <td>1800.0</td>\n",
       "      <td>800.0</td>\n",
       "      <td>40.0</td>\n",
       "    </tr>\n",
       "    <tr>\n",
       "      <th>32957</th>\n",
       "      <td>Apartamento</td>\n",
       "      <td>São Francisco Xavier</td>\n",
       "      <td>2</td>\n",
       "      <td>1</td>\n",
       "      <td>0</td>\n",
       "      <td>48</td>\n",
       "      <td>1400.0</td>\n",
       "      <td>509.0</td>\n",
       "      <td>37.0</td>\n",
       "    </tr>\n",
       "    <tr>\n",
       "      <th>32958</th>\n",
       "      <td>Apartamento</td>\n",
       "      <td>Leblon</td>\n",
       "      <td>2</td>\n",
       "      <td>0</td>\n",
       "      <td>0</td>\n",
       "      <td>70</td>\n",
       "      <td>3000.0</td>\n",
       "      <td>760.0</td>\n",
       "      <td>0.0</td>\n",
       "    </tr>\n",
       "  </tbody>\n",
       "</table>\n",
       "<p>19532 rows × 9 columns</p>\n",
       "</div>"
      ],
      "text/plain": [
       "              Tipo                Bairro  Quartos  Vagas  Suites  Area  \\\n",
       "3      Apartamento                Centro        1      0       0    15   \n",
       "4      Apartamento          Higienópolis        1      0       0    48   \n",
       "5      Apartamento          Vista Alegre        3      1       0    70   \n",
       "6      Apartamento              Cachambi        2      0       0    50   \n",
       "10     Apartamento                Centro        1      0       0    36   \n",
       "...            ...                   ...      ...    ...     ...   ...   \n",
       "32951  Apartamento        Vila Valqueire        2      0       0    52   \n",
       "32953  Apartamento                 Méier        2      0       0    70   \n",
       "32956  Apartamento           Jacarepaguá        3      1       2    78   \n",
       "32957  Apartamento  São Francisco Xavier        2      1       0    48   \n",
       "32958  Apartamento                Leblon        2      0       0    70   \n",
       "\n",
       "        Valor  Condominio  IPTU  \n",
       "3       800.0       390.0  20.0  \n",
       "4       800.0       230.0   0.0  \n",
       "5      1200.0         0.0   0.0  \n",
       "6      1300.0       301.0  17.0  \n",
       "10     1200.0         0.0   0.0  \n",
       "...       ...         ...   ...  \n",
       "32951  1000.0       550.0   0.0  \n",
       "32953   900.0       490.0  48.0  \n",
       "32956  1800.0       800.0  40.0  \n",
       "32957  1400.0       509.0  37.0  \n",
       "32958  3000.0       760.0   0.0  \n",
       "\n",
       "[19532 rows x 9 columns]"
      ]
     },
     "execution_count": 32,
     "metadata": {},
     "output_type": "execute_result"
    }
   ],
   "source": [
    "df.fillna(0)"
   ]
  },
  {
   "cell_type": "code",
   "execution_count": 33,
   "id": "4e37b5aa",
   "metadata": {},
   "outputs": [
    {
     "data": {
      "application/vnd.microsoft.datawrangler.viewer.v0+json": {
       "columns": [
        {
         "name": "index",
         "rawType": "object",
         "type": "string"
        },
        {
         "name": "0",
         "rawType": "int64",
         "type": "integer"
        }
       ],
       "ref": "bc099770-153e-4ad0-a0e3-ba0a02b0f620",
       "rows": [
        [
         "Tipo",
         "0"
        ],
        [
         "Bairro",
         "0"
        ],
        [
         "Quartos",
         "0"
        ],
        [
         "Vagas",
         "0"
        ],
        [
         "Suites",
         "0"
        ],
        [
         "Area",
         "0"
        ],
        [
         "Valor",
         "0"
        ],
        [
         "Condominio",
         "0"
        ],
        [
         "IPTU",
         "0"
        ]
       ],
       "shape": {
        "columns": 1,
        "rows": 9
       }
      },
      "text/plain": [
       "Tipo          0\n",
       "Bairro        0\n",
       "Quartos       0\n",
       "Vagas         0\n",
       "Suites        0\n",
       "Area          0\n",
       "Valor         0\n",
       "Condominio    0\n",
       "IPTU          0\n",
       "dtype: int64"
      ]
     },
     "execution_count": 33,
     "metadata": {},
     "output_type": "execute_result"
    }
   ],
   "source": [
    "df = df.fillna(0)\n",
    "df.isnull().sum()"
   ]
  },
  {
   "cell_type": "markdown",
   "id": "0286dc2e",
   "metadata": {},
   "source": [
    "## Removendo registros"
   ]
  },
  {
   "cell_type": "code",
   "execution_count": 40,
   "id": "ff46172a",
   "metadata": {},
   "outputs": [
    {
     "data": {
      "application/vnd.microsoft.datawrangler.viewer.v0+json": {
       "columns": [
        {
         "name": "index",
         "rawType": "int64",
         "type": "integer"
        },
        {
         "name": "Tipo",
         "rawType": "object",
         "type": "string"
        },
        {
         "name": "Bairro",
         "rawType": "object",
         "type": "string"
        },
        {
         "name": "Quartos",
         "rawType": "int64",
         "type": "integer"
        },
        {
         "name": "Vagas",
         "rawType": "int64",
         "type": "integer"
        },
        {
         "name": "Suites",
         "rawType": "int64",
         "type": "integer"
        },
        {
         "name": "Area",
         "rawType": "int64",
         "type": "integer"
        },
        {
         "name": "Valor",
         "rawType": "float64",
         "type": "float"
        },
        {
         "name": "Condominio",
         "rawType": "float64",
         "type": "float"
        },
        {
         "name": "IPTU",
         "rawType": "float64",
         "type": "float"
        }
       ],
       "ref": "2738d9dc-e041-4877-8a4d-bd4845b3aa3e",
       "rows": [],
       "shape": {
        "columns": 9,
        "rows": 0
       }
      },
      "text/html": [
       "<div>\n",
       "<style scoped>\n",
       "    .dataframe tbody tr th:only-of-type {\n",
       "        vertical-align: middle;\n",
       "    }\n",
       "\n",
       "    .dataframe tbody tr th {\n",
       "        vertical-align: top;\n",
       "    }\n",
       "\n",
       "    .dataframe thead th {\n",
       "        text-align: right;\n",
       "    }\n",
       "</style>\n",
       "<table border=\"1\" class=\"dataframe\">\n",
       "  <thead>\n",
       "    <tr style=\"text-align: right;\">\n",
       "      <th></th>\n",
       "      <th>Tipo</th>\n",
       "      <th>Bairro</th>\n",
       "      <th>Quartos</th>\n",
       "      <th>Vagas</th>\n",
       "      <th>Suites</th>\n",
       "      <th>Area</th>\n",
       "      <th>Valor</th>\n",
       "      <th>Condominio</th>\n",
       "      <th>IPTU</th>\n",
       "    </tr>\n",
       "  </thead>\n",
       "  <tbody>\n",
       "  </tbody>\n",
       "</table>\n",
       "</div>"
      ],
      "text/plain": [
       "Empty DataFrame\n",
       "Columns: [Tipo, Bairro, Quartos, Vagas, Suites, Area, Valor, Condominio, IPTU]\n",
       "Index: []"
      ]
     },
     "execution_count": 40,
     "metadata": {},
     "output_type": "execute_result"
    }
   ],
   "source": [
    "df.query('Valor == 0 | Condominio == 0')"
   ]
  },
  {
   "cell_type": "code",
   "execution_count": 39,
   "id": "98944964",
   "metadata": {},
   "outputs": [
    {
     "data": {
      "text/plain": [
       "Index([], dtype='int64')"
      ]
     },
     "execution_count": 39,
     "metadata": {},
     "output_type": "execute_result"
    }
   ],
   "source": [
    "df.query('Valor == 0 | Condominio == 0').index"
   ]
  },
  {
   "cell_type": "code",
   "execution_count": 37,
   "id": "bc0adb2e",
   "metadata": {},
   "outputs": [],
   "source": [
    "registros_a_remover = df.query('Valor == 0 | Condominio == 0').index"
   ]
  },
  {
   "cell_type": "code",
   "execution_count": 38,
   "id": "c8eb4305",
   "metadata": {},
   "outputs": [],
   "source": [
    "df.drop(registros_a_remover, axis=0, inplace=True)"
   ]
  },
  {
   "cell_type": "code",
   "execution_count": 41,
   "id": "6e3901cf",
   "metadata": {},
   "outputs": [
    {
     "data": {
      "application/vnd.microsoft.datawrangler.viewer.v0+json": {
       "columns": [
        {
         "name": "index",
         "rawType": "int64",
         "type": "integer"
        },
        {
         "name": "Tipo",
         "rawType": "object",
         "type": "string"
        },
        {
         "name": "Bairro",
         "rawType": "object",
         "type": "string"
        },
        {
         "name": "Quartos",
         "rawType": "int64",
         "type": "integer"
        },
        {
         "name": "Vagas",
         "rawType": "int64",
         "type": "integer"
        },
        {
         "name": "Suites",
         "rawType": "int64",
         "type": "integer"
        },
        {
         "name": "Area",
         "rawType": "int64",
         "type": "integer"
        },
        {
         "name": "Valor",
         "rawType": "float64",
         "type": "float"
        },
        {
         "name": "Condominio",
         "rawType": "float64",
         "type": "float"
        },
        {
         "name": "IPTU",
         "rawType": "float64",
         "type": "float"
        }
       ],
       "ref": "f81f6062-dbfc-4434-a32b-b4d511342207",
       "rows": [
        [
         "3",
         "Apartamento",
         "Centro",
         "1",
         "0",
         "0",
         "15",
         "800.0",
         "390.0",
         "20.0"
        ],
        [
         "4",
         "Apartamento",
         "Higienópolis",
         "1",
         "0",
         "0",
         "48",
         "800.0",
         "230.0",
         "0.0"
        ],
        [
         "6",
         "Apartamento",
         "Cachambi",
         "2",
         "0",
         "0",
         "50",
         "1300.0",
         "301.0",
         "17.0"
        ],
        [
         "11",
         "Apartamento",
         "Grajaú",
         "2",
         "1",
         "0",
         "70",
         "1500.0",
         "642.0",
         "74.0"
        ],
        [
         "12",
         "Apartamento",
         "Lins de Vasconcelos",
         "3",
         "1",
         "1",
         "90",
         "1500.0",
         "455.0",
         "14.0"
        ]
       ],
       "shape": {
        "columns": 9,
        "rows": 5
       }
      },
      "text/html": [
       "<div>\n",
       "<style scoped>\n",
       "    .dataframe tbody tr th:only-of-type {\n",
       "        vertical-align: middle;\n",
       "    }\n",
       "\n",
       "    .dataframe tbody tr th {\n",
       "        vertical-align: top;\n",
       "    }\n",
       "\n",
       "    .dataframe thead th {\n",
       "        text-align: right;\n",
       "    }\n",
       "</style>\n",
       "<table border=\"1\" class=\"dataframe\">\n",
       "  <thead>\n",
       "    <tr style=\"text-align: right;\">\n",
       "      <th></th>\n",
       "      <th>Tipo</th>\n",
       "      <th>Bairro</th>\n",
       "      <th>Quartos</th>\n",
       "      <th>Vagas</th>\n",
       "      <th>Suites</th>\n",
       "      <th>Area</th>\n",
       "      <th>Valor</th>\n",
       "      <th>Condominio</th>\n",
       "      <th>IPTU</th>\n",
       "    </tr>\n",
       "  </thead>\n",
       "  <tbody>\n",
       "    <tr>\n",
       "      <th>3</th>\n",
       "      <td>Apartamento</td>\n",
       "      <td>Centro</td>\n",
       "      <td>1</td>\n",
       "      <td>0</td>\n",
       "      <td>0</td>\n",
       "      <td>15</td>\n",
       "      <td>800.0</td>\n",
       "      <td>390.0</td>\n",
       "      <td>20.0</td>\n",
       "    </tr>\n",
       "    <tr>\n",
       "      <th>4</th>\n",
       "      <td>Apartamento</td>\n",
       "      <td>Higienópolis</td>\n",
       "      <td>1</td>\n",
       "      <td>0</td>\n",
       "      <td>0</td>\n",
       "      <td>48</td>\n",
       "      <td>800.0</td>\n",
       "      <td>230.0</td>\n",
       "      <td>0.0</td>\n",
       "    </tr>\n",
       "    <tr>\n",
       "      <th>6</th>\n",
       "      <td>Apartamento</td>\n",
       "      <td>Cachambi</td>\n",
       "      <td>2</td>\n",
       "      <td>0</td>\n",
       "      <td>0</td>\n",
       "      <td>50</td>\n",
       "      <td>1300.0</td>\n",
       "      <td>301.0</td>\n",
       "      <td>17.0</td>\n",
       "    </tr>\n",
       "    <tr>\n",
       "      <th>11</th>\n",
       "      <td>Apartamento</td>\n",
       "      <td>Grajaú</td>\n",
       "      <td>2</td>\n",
       "      <td>1</td>\n",
       "      <td>0</td>\n",
       "      <td>70</td>\n",
       "      <td>1500.0</td>\n",
       "      <td>642.0</td>\n",
       "      <td>74.0</td>\n",
       "    </tr>\n",
       "    <tr>\n",
       "      <th>12</th>\n",
       "      <td>Apartamento</td>\n",
       "      <td>Lins de Vasconcelos</td>\n",
       "      <td>3</td>\n",
       "      <td>1</td>\n",
       "      <td>1</td>\n",
       "      <td>90</td>\n",
       "      <td>1500.0</td>\n",
       "      <td>455.0</td>\n",
       "      <td>14.0</td>\n",
       "    </tr>\n",
       "  </tbody>\n",
       "</table>\n",
       "</div>"
      ],
      "text/plain": [
       "           Tipo               Bairro  Quartos  Vagas  Suites  Area   Valor  \\\n",
       "3   Apartamento               Centro        1      0       0    15   800.0   \n",
       "4   Apartamento         Higienópolis        1      0       0    48   800.0   \n",
       "6   Apartamento             Cachambi        2      0       0    50  1300.0   \n",
       "11  Apartamento               Grajaú        2      1       0    70  1500.0   \n",
       "12  Apartamento  Lins de Vasconcelos        3      1       1    90  1500.0   \n",
       "\n",
       "    Condominio  IPTU  \n",
       "3        390.0  20.0  \n",
       "4        230.0   0.0  \n",
       "6        301.0  17.0  \n",
       "11       642.0  74.0  \n",
       "12       455.0  14.0  "
      ]
     },
     "execution_count": 41,
     "metadata": {},
     "output_type": "execute_result"
    }
   ],
   "source": [
    "df.head()"
   ]
  },
  {
   "cell_type": "code",
   "execution_count": 42,
   "id": "d3df8d99",
   "metadata": {},
   "outputs": [
    {
     "data": {
      "text/plain": [
       "array(['Apartamento'], dtype=object)"
      ]
     },
     "execution_count": 42,
     "metadata": {},
     "output_type": "execute_result"
    }
   ],
   "source": [
    "df.Tipo.unique()"
   ]
  },
  {
   "cell_type": "code",
   "execution_count": 43,
   "id": "7805919f",
   "metadata": {},
   "outputs": [],
   "source": [
    "df.drop('Tipo', axis=1, inplace=True)"
   ]
  },
  {
   "cell_type": "code",
   "execution_count": 44,
   "id": "4de2f60c",
   "metadata": {},
   "outputs": [
    {
     "data": {
      "application/vnd.microsoft.datawrangler.viewer.v0+json": {
       "columns": [
        {
         "name": "index",
         "rawType": "int64",
         "type": "integer"
        },
        {
         "name": "Bairro",
         "rawType": "object",
         "type": "string"
        },
        {
         "name": "Quartos",
         "rawType": "int64",
         "type": "integer"
        },
        {
         "name": "Vagas",
         "rawType": "int64",
         "type": "integer"
        },
        {
         "name": "Suites",
         "rawType": "int64",
         "type": "integer"
        },
        {
         "name": "Area",
         "rawType": "int64",
         "type": "integer"
        },
        {
         "name": "Valor",
         "rawType": "float64",
         "type": "float"
        },
        {
         "name": "Condominio",
         "rawType": "float64",
         "type": "float"
        },
        {
         "name": "IPTU",
         "rawType": "float64",
         "type": "float"
        }
       ],
       "ref": "0bbc1c26-1c31-4b97-86a0-7c0e5d167285",
       "rows": [
        [
         "3",
         "Centro",
         "1",
         "0",
         "0",
         "15",
         "800.0",
         "390.0",
         "20.0"
        ],
        [
         "4",
         "Higienópolis",
         "1",
         "0",
         "0",
         "48",
         "800.0",
         "230.0",
         "0.0"
        ],
        [
         "6",
         "Cachambi",
         "2",
         "0",
         "0",
         "50",
         "1300.0",
         "301.0",
         "17.0"
        ],
        [
         "11",
         "Grajaú",
         "2",
         "1",
         "0",
         "70",
         "1500.0",
         "642.0",
         "74.0"
        ],
        [
         "12",
         "Lins de Vasconcelos",
         "3",
         "1",
         "1",
         "90",
         "1500.0",
         "455.0",
         "14.0"
        ]
       ],
       "shape": {
        "columns": 8,
        "rows": 5
       }
      },
      "text/html": [
       "<div>\n",
       "<style scoped>\n",
       "    .dataframe tbody tr th:only-of-type {\n",
       "        vertical-align: middle;\n",
       "    }\n",
       "\n",
       "    .dataframe tbody tr th {\n",
       "        vertical-align: top;\n",
       "    }\n",
       "\n",
       "    .dataframe thead th {\n",
       "        text-align: right;\n",
       "    }\n",
       "</style>\n",
       "<table border=\"1\" class=\"dataframe\">\n",
       "  <thead>\n",
       "    <tr style=\"text-align: right;\">\n",
       "      <th></th>\n",
       "      <th>Bairro</th>\n",
       "      <th>Quartos</th>\n",
       "      <th>Vagas</th>\n",
       "      <th>Suites</th>\n",
       "      <th>Area</th>\n",
       "      <th>Valor</th>\n",
       "      <th>Condominio</th>\n",
       "      <th>IPTU</th>\n",
       "    </tr>\n",
       "  </thead>\n",
       "  <tbody>\n",
       "    <tr>\n",
       "      <th>3</th>\n",
       "      <td>Centro</td>\n",
       "      <td>1</td>\n",
       "      <td>0</td>\n",
       "      <td>0</td>\n",
       "      <td>15</td>\n",
       "      <td>800.0</td>\n",
       "      <td>390.0</td>\n",
       "      <td>20.0</td>\n",
       "    </tr>\n",
       "    <tr>\n",
       "      <th>4</th>\n",
       "      <td>Higienópolis</td>\n",
       "      <td>1</td>\n",
       "      <td>0</td>\n",
       "      <td>0</td>\n",
       "      <td>48</td>\n",
       "      <td>800.0</td>\n",
       "      <td>230.0</td>\n",
       "      <td>0.0</td>\n",
       "    </tr>\n",
       "    <tr>\n",
       "      <th>6</th>\n",
       "      <td>Cachambi</td>\n",
       "      <td>2</td>\n",
       "      <td>0</td>\n",
       "      <td>0</td>\n",
       "      <td>50</td>\n",
       "      <td>1300.0</td>\n",
       "      <td>301.0</td>\n",
       "      <td>17.0</td>\n",
       "    </tr>\n",
       "    <tr>\n",
       "      <th>11</th>\n",
       "      <td>Grajaú</td>\n",
       "      <td>2</td>\n",
       "      <td>1</td>\n",
       "      <td>0</td>\n",
       "      <td>70</td>\n",
       "      <td>1500.0</td>\n",
       "      <td>642.0</td>\n",
       "      <td>74.0</td>\n",
       "    </tr>\n",
       "    <tr>\n",
       "      <th>12</th>\n",
       "      <td>Lins de Vasconcelos</td>\n",
       "      <td>3</td>\n",
       "      <td>1</td>\n",
       "      <td>1</td>\n",
       "      <td>90</td>\n",
       "      <td>1500.0</td>\n",
       "      <td>455.0</td>\n",
       "      <td>14.0</td>\n",
       "    </tr>\n",
       "  </tbody>\n",
       "</table>\n",
       "</div>"
      ],
      "text/plain": [
       "                 Bairro  Quartos  Vagas  Suites  Area   Valor  Condominio  \\\n",
       "3                Centro        1      0       0    15   800.0       390.0   \n",
       "4          Higienópolis        1      0       0    48   800.0       230.0   \n",
       "6              Cachambi        2      0       0    50  1300.0       301.0   \n",
       "11               Grajaú        2      1       0    70  1500.0       642.0   \n",
       "12  Lins de Vasconcelos        3      1       1    90  1500.0       455.0   \n",
       "\n",
       "    IPTU  \n",
       "3   20.0  \n",
       "4    0.0  \n",
       "6   17.0  \n",
       "11  74.0  \n",
       "12  14.0  "
      ]
     },
     "execution_count": 44,
     "metadata": {},
     "output_type": "execute_result"
    }
   ],
   "source": [
    "df.head()"
   ]
  },
  {
   "cell_type": "markdown",
   "id": "afd657e4",
   "metadata": {},
   "source": [
    "## Filtros"
   ]
  },
  {
   "cell_type": "markdown",
   "id": "67b3cd0a",
   "metadata": {},
   "source": [
    "### 1. Apartamentos que possuem 1 quarto e aluguem menor que 1200"
   ]
  },
  {
   "cell_type": "code",
   "execution_count": 45,
   "id": "a9c8b0f8",
   "metadata": {},
   "outputs": [
    {
     "data": {
      "application/vnd.microsoft.datawrangler.viewer.v0+json": {
       "columns": [
        {
         "name": "index",
         "rawType": "int64",
         "type": "integer"
        },
        {
         "name": "Quartos",
         "rawType": "bool",
         "type": "boolean"
        }
       ],
       "ref": "63c66d96-ee54-4dc5-95e9-45ed1589505a",
       "rows": [
        [
         "3",
         "True"
        ],
        [
         "4",
         "True"
        ],
        [
         "6",
         "False"
        ],
        [
         "11",
         "False"
        ],
        [
         "12",
         "False"
        ],
        [
         "13",
         "True"
        ],
        [
         "15",
         "False"
        ],
        [
         "19",
         "False"
        ],
        [
         "20",
         "False"
        ],
        [
         "21",
         "False"
        ],
        [
         "23",
         "False"
        ],
        [
         "24",
         "False"
        ],
        [
         "27",
         "False"
        ],
        [
         "28",
         "True"
        ],
        [
         "30",
         "False"
        ],
        [
         "32",
         "False"
        ],
        [
         "33",
         "False"
        ],
        [
         "34",
         "False"
        ],
        [
         "36",
         "False"
        ],
        [
         "37",
         "False"
        ],
        [
         "40",
         "False"
        ],
        [
         "41",
         "False"
        ],
        [
         "43",
         "False"
        ],
        [
         "44",
         "False"
        ],
        [
         "47",
         "False"
        ],
        [
         "48",
         "False"
        ],
        [
         "49",
         "False"
        ],
        [
         "50",
         "False"
        ],
        [
         "51",
         "False"
        ],
        [
         "54",
         "True"
        ],
        [
         "55",
         "True"
        ],
        [
         "56",
         "True"
        ],
        [
         "57",
         "False"
        ],
        [
         "60",
         "False"
        ],
        [
         "62",
         "False"
        ],
        [
         "63",
         "False"
        ],
        [
         "64",
         "False"
        ],
        [
         "65",
         "False"
        ],
        [
         "66",
         "False"
        ],
        [
         "67",
         "False"
        ],
        [
         "68",
         "False"
        ],
        [
         "70",
         "False"
        ],
        [
         "71",
         "False"
        ],
        [
         "73",
         "False"
        ],
        [
         "75",
         "False"
        ],
        [
         "77",
         "False"
        ],
        [
         "88",
         "False"
        ],
        [
         "89",
         "False"
        ],
        [
         "90",
         "False"
        ],
        [
         "91",
         "False"
        ]
       ],
       "shape": {
        "columns": 1,
        "rows": 18780
       }
      },
      "text/plain": [
       "3         True\n",
       "4         True\n",
       "6        False\n",
       "11       False\n",
       "12       False\n",
       "         ...  \n",
       "32951    False\n",
       "32953    False\n",
       "32956    False\n",
       "32957    False\n",
       "32958    False\n",
       "Name: Quartos, Length: 18780, dtype: bool"
      ]
     },
     "execution_count": 45,
     "metadata": {},
     "output_type": "execute_result"
    }
   ],
   "source": [
    "df['Quartos'] == 1"
   ]
  },
  {
   "cell_type": "code",
   "execution_count": 46,
   "id": "ea891336",
   "metadata": {},
   "outputs": [
    {
     "data": {
      "application/vnd.microsoft.datawrangler.viewer.v0+json": {
       "columns": [
        {
         "name": "index",
         "rawType": "int64",
         "type": "integer"
        },
        {
         "name": "Bairro",
         "rawType": "object",
         "type": "string"
        },
        {
         "name": "Quartos",
         "rawType": "int64",
         "type": "integer"
        },
        {
         "name": "Vagas",
         "rawType": "int64",
         "type": "integer"
        },
        {
         "name": "Suites",
         "rawType": "int64",
         "type": "integer"
        },
        {
         "name": "Area",
         "rawType": "int64",
         "type": "integer"
        },
        {
         "name": "Valor",
         "rawType": "float64",
         "type": "float"
        },
        {
         "name": "Condominio",
         "rawType": "float64",
         "type": "float"
        },
        {
         "name": "IPTU",
         "rawType": "float64",
         "type": "float"
        }
       ],
       "ref": "3073131b-4b66-438c-8135-6996b598a534",
       "rows": [
        [
         "3",
         "Centro",
         "1",
         "0",
         "0",
         "15",
         "800.0",
         "390.0",
         "20.0"
        ],
        [
         "4",
         "Higienópolis",
         "1",
         "0",
         "0",
         "48",
         "800.0",
         "230.0",
         "0.0"
        ],
        [
         "13",
         "Copacabana",
         "1",
         "0",
         "1",
         "40",
         "2000.0",
         "561.0",
         "50.0"
        ],
        [
         "28",
         "Tijuca",
         "1",
         "0",
         "0",
         "48",
         "750.0",
         "772.0",
         "25.0"
        ],
        [
         "54",
         "Centro",
         "1",
         "0",
         "0",
         "27",
         "750.0",
         "371.0",
         "19.0"
        ],
        [
         "55",
         "Ipanema",
         "1",
         "0",
         "0",
         "35",
         "2000.0",
         "650.0",
         "75.0"
        ],
        [
         "56",
         "Ipanema",
         "1",
         "0",
         "0",
         "38",
         "1400.0",
         "530.0",
         "77.0"
        ],
        [
         "94",
         "Centro",
         "1",
         "1",
         "0",
         "37",
         "1100.0",
         "540.0",
         "900.0"
        ],
        [
         "111",
         "Barra da Tijuca",
         "1",
         "1",
         "1",
         "70",
         "1700.0",
         "870.0",
         "143.0"
        ],
        [
         "148",
         "Vila Isabel",
         "1",
         "0",
         "0",
         "37",
         "1000.0",
         "285.0",
         "24.0"
        ],
        [
         "191",
         "Botafogo",
         "1",
         "0",
         "0",
         "35",
         "1500.0",
         "470.0",
         "50.0"
        ],
        [
         "206",
         "Flamengo",
         "1",
         "0",
         "0",
         "40",
         "1900.0",
         "430.0",
         "54.0"
        ],
        [
         "224",
         "Tijuca",
         "1",
         "0",
         "0",
         "65",
         "1200.0",
         "320.0",
         "0.0"
        ],
        [
         "256",
         "Recreio dos Bandeirantes",
         "1",
         "1",
         "1",
         "102",
         "1900.0",
         "688.0",
         "0.0"
        ],
        [
         "270",
         "Centro",
         "1",
         "0",
         "0",
         "35",
         "1350.0",
         "420.0",
         "24.0"
        ],
        [
         "281",
         "Barra da Tijuca",
         "1",
         "1",
         "1",
         "60",
         "2200.0",
         "1600.0",
         "350.0"
        ],
        [
         "293",
         "Botafogo",
         "1",
         "0",
         "0",
         "35",
         "1000.0",
         "293.0",
         "86.0"
        ],
        [
         "299",
         "Tijuca",
         "1",
         "0",
         "0",
         "36",
         "1300.0",
         "295.0",
         "24.0"
        ],
        [
         "310",
         "Humaitá",
         "1",
         "0",
         "0",
         "57",
         "3990.0",
         "860.0",
         "100.0"
        ],
        [
         "322",
         "Flamengo",
         "1",
         "1",
         "0",
         "48",
         "2100.0",
         "580.0",
         "70.0"
        ],
        [
         "341",
         "Lagoa",
         "1",
         "1",
         "0",
         "75",
         "2800.0",
         "800.0",
         "210.0"
        ],
        [
         "355",
         "Engenho Novo",
         "1",
         "1",
         "0",
         "63",
         "700.0",
         "625.0",
         "36.0"
        ],
        [
         "385",
         "Maracanã",
         "1",
         "1",
         "1",
         "120",
         "1000.0",
         "985.0",
         "150.0"
        ],
        [
         "418",
         "Copacabana",
         "1",
         "0",
         "0",
         "43",
         "1600.0",
         "452.0",
         "242.0"
        ],
        [
         "426",
         "Copacabana",
         "1",
         "0",
         "0",
         "45",
         "2800.0",
         "450.0",
         "30.0"
        ],
        [
         "438",
         "Copacabana",
         "1",
         "0",
         "1",
         "37",
         "2500.0",
         "447.0",
         "20.0"
        ],
        [
         "451",
         "Catete",
         "1",
         "0",
         "0",
         "45",
         "1600.0",
         "500.0",
         "55.0"
        ],
        [
         "472",
         "Centro",
         "1",
         "0",
         "0",
         "42",
         "2200.0",
         "619.0",
         "202.0"
        ],
        [
         "484",
         "Copacabana",
         "1",
         "0",
         "0",
         "43",
         "1800.0",
         "639.0",
         "76.0"
        ],
        [
         "495",
         "Ipanema",
         "1",
         "0",
         "1",
         "50",
         "2400.0",
         "897.0",
         "26.0"
        ],
        [
         "517",
         "Urca",
         "1",
         "0",
         "0",
         "53",
         "2800.0",
         "770.0",
         "0.0"
        ],
        [
         "525",
         "Copacabana",
         "1",
         "0",
         "0",
         "60",
         "2800.0",
         "620.0",
         "128.0"
        ],
        [
         "534",
         "Tijuca",
         "1",
         "1",
         "1",
         "84",
         "2000.0",
         "718.0",
         "120.0"
        ],
        [
         "537",
         "Flamengo",
         "1",
         "0",
         "0",
         "30",
         "1490.0",
         "315.0",
         "55.0"
        ],
        [
         "541",
         "Copacabana",
         "1",
         "1",
         "0",
         "150",
         "3000.0",
         "1200.0",
         "390.0"
        ],
        [
         "547",
         "Flamengo",
         "1",
         "0",
         "1",
         "38",
         "1450.0",
         "690.0",
         "55.0"
        ],
        [
         "576",
         "Freguesia (Jacarepaguá)",
         "1",
         "1",
         "0",
         "49",
         "1050.0",
         "580.0",
         "36.0"
        ],
        [
         "597",
         "Leme",
         "1",
         "0",
         "0",
         "31",
         "1140.0",
         "420.0",
         "24.0"
        ],
        [
         "607",
         "Glória",
         "1",
         "0",
         "0",
         "48",
         "1400.0",
         "480.0",
         "20.0"
        ],
        [
         "616",
         "Grajaú",
         "1",
         "0",
         "0",
         "30",
         "800.0",
         "283.0",
         "187.0"
        ],
        [
         "622",
         "Botafogo",
         "1",
         "0",
         "0",
         "17",
         "1100.0",
         "330.0",
         "15.0"
        ],
        [
         "629",
         "Flamengo",
         "1",
         "0",
         "0",
         "49",
         "1700.0",
         "440.0",
         "68.0"
        ],
        [
         "631",
         "Méier",
         "1",
         "0",
         "0",
         "53",
         "900.0",
         "484.0",
         "37.0"
        ],
        [
         "641",
         "Flamengo",
         "1",
         "0",
         "0",
         "37",
         "2300.0",
         "485.0",
         "56.0"
        ],
        [
         "642",
         "Curicica",
         "1",
         "1",
         "0",
         "45",
         "700.0",
         "356.0",
         "126.0"
        ],
        [
         "645",
         "Barra da Tijuca",
         "1",
         "1",
         "1",
         "80",
         "1700.0",
         "980.0",
         "250.0"
        ],
        [
         "654",
         "Tijuca",
         "1",
         "1",
         "1",
         "87",
         "1400.0",
         "1057.0",
         "162.0"
        ],
        [
         "658",
         "Méier",
         "1",
         "0",
         "0",
         "50",
         "1000.0",
         "390.0",
         "16.0"
        ],
        [
         "672",
         "Andaraí",
         "1",
         "0",
         "1",
         "30",
         "1100.0",
         "580.0",
         "0.0"
        ],
        [
         "697",
         "Moneró",
         "1",
         "1",
         "0",
         "47",
         "1200.0",
         "290.0",
         "49.0"
        ]
       ],
       "shape": {
        "columns": 8,
        "rows": 2462
       }
      },
      "text/html": [
       "<div>\n",
       "<style scoped>\n",
       "    .dataframe tbody tr th:only-of-type {\n",
       "        vertical-align: middle;\n",
       "    }\n",
       "\n",
       "    .dataframe tbody tr th {\n",
       "        vertical-align: top;\n",
       "    }\n",
       "\n",
       "    .dataframe thead th {\n",
       "        text-align: right;\n",
       "    }\n",
       "</style>\n",
       "<table border=\"1\" class=\"dataframe\">\n",
       "  <thead>\n",
       "    <tr style=\"text-align: right;\">\n",
       "      <th></th>\n",
       "      <th>Bairro</th>\n",
       "      <th>Quartos</th>\n",
       "      <th>Vagas</th>\n",
       "      <th>Suites</th>\n",
       "      <th>Area</th>\n",
       "      <th>Valor</th>\n",
       "      <th>Condominio</th>\n",
       "      <th>IPTU</th>\n",
       "    </tr>\n",
       "  </thead>\n",
       "  <tbody>\n",
       "    <tr>\n",
       "      <th>3</th>\n",
       "      <td>Centro</td>\n",
       "      <td>1</td>\n",
       "      <td>0</td>\n",
       "      <td>0</td>\n",
       "      <td>15</td>\n",
       "      <td>800.0</td>\n",
       "      <td>390.0</td>\n",
       "      <td>20.0</td>\n",
       "    </tr>\n",
       "    <tr>\n",
       "      <th>4</th>\n",
       "      <td>Higienópolis</td>\n",
       "      <td>1</td>\n",
       "      <td>0</td>\n",
       "      <td>0</td>\n",
       "      <td>48</td>\n",
       "      <td>800.0</td>\n",
       "      <td>230.0</td>\n",
       "      <td>0.0</td>\n",
       "    </tr>\n",
       "    <tr>\n",
       "      <th>13</th>\n",
       "      <td>Copacabana</td>\n",
       "      <td>1</td>\n",
       "      <td>0</td>\n",
       "      <td>1</td>\n",
       "      <td>40</td>\n",
       "      <td>2000.0</td>\n",
       "      <td>561.0</td>\n",
       "      <td>50.0</td>\n",
       "    </tr>\n",
       "    <tr>\n",
       "      <th>28</th>\n",
       "      <td>Tijuca</td>\n",
       "      <td>1</td>\n",
       "      <td>0</td>\n",
       "      <td>0</td>\n",
       "      <td>48</td>\n",
       "      <td>750.0</td>\n",
       "      <td>772.0</td>\n",
       "      <td>25.0</td>\n",
       "    </tr>\n",
       "    <tr>\n",
       "      <th>54</th>\n",
       "      <td>Centro</td>\n",
       "      <td>1</td>\n",
       "      <td>0</td>\n",
       "      <td>0</td>\n",
       "      <td>27</td>\n",
       "      <td>750.0</td>\n",
       "      <td>371.0</td>\n",
       "      <td>19.0</td>\n",
       "    </tr>\n",
       "    <tr>\n",
       "      <th>...</th>\n",
       "      <td>...</td>\n",
       "      <td>...</td>\n",
       "      <td>...</td>\n",
       "      <td>...</td>\n",
       "      <td>...</td>\n",
       "      <td>...</td>\n",
       "      <td>...</td>\n",
       "      <td>...</td>\n",
       "    </tr>\n",
       "    <tr>\n",
       "      <th>32918</th>\n",
       "      <td>Ipanema</td>\n",
       "      <td>1</td>\n",
       "      <td>0</td>\n",
       "      <td>0</td>\n",
       "      <td>55</td>\n",
       "      <td>2000.0</td>\n",
       "      <td>630.0</td>\n",
       "      <td>19.0</td>\n",
       "    </tr>\n",
       "    <tr>\n",
       "      <th>32922</th>\n",
       "      <td>Barra da Tijuca</td>\n",
       "      <td>1</td>\n",
       "      <td>1</td>\n",
       "      <td>0</td>\n",
       "      <td>62</td>\n",
       "      <td>1700.0</td>\n",
       "      <td>945.0</td>\n",
       "      <td>180.0</td>\n",
       "    </tr>\n",
       "    <tr>\n",
       "      <th>32935</th>\n",
       "      <td>Leblon</td>\n",
       "      <td>1</td>\n",
       "      <td>1</td>\n",
       "      <td>1</td>\n",
       "      <td>50</td>\n",
       "      <td>4300.0</td>\n",
       "      <td>1730.0</td>\n",
       "      <td>259.0</td>\n",
       "    </tr>\n",
       "    <tr>\n",
       "      <th>32938</th>\n",
       "      <td>Copacabana</td>\n",
       "      <td>1</td>\n",
       "      <td>0</td>\n",
       "      <td>0</td>\n",
       "      <td>50</td>\n",
       "      <td>1950.0</td>\n",
       "      <td>450.0</td>\n",
       "      <td>70.0</td>\n",
       "    </tr>\n",
       "    <tr>\n",
       "      <th>32950</th>\n",
       "      <td>Tijuca</td>\n",
       "      <td>1</td>\n",
       "      <td>0</td>\n",
       "      <td>0</td>\n",
       "      <td>28</td>\n",
       "      <td>1000.0</td>\n",
       "      <td>360.0</td>\n",
       "      <td>25.0</td>\n",
       "    </tr>\n",
       "  </tbody>\n",
       "</table>\n",
       "<p>2462 rows × 8 columns</p>\n",
       "</div>"
      ],
      "text/plain": [
       "                Bairro  Quartos  Vagas  Suites  Area   Valor  Condominio  \\\n",
       "3               Centro        1      0       0    15   800.0       390.0   \n",
       "4         Higienópolis        1      0       0    48   800.0       230.0   \n",
       "13          Copacabana        1      0       1    40  2000.0       561.0   \n",
       "28              Tijuca        1      0       0    48   750.0       772.0   \n",
       "54              Centro        1      0       0    27   750.0       371.0   \n",
       "...                ...      ...    ...     ...   ...     ...         ...   \n",
       "32918          Ipanema        1      0       0    55  2000.0       630.0   \n",
       "32922  Barra da Tijuca        1      1       0    62  1700.0       945.0   \n",
       "32935           Leblon        1      1       1    50  4300.0      1730.0   \n",
       "32938       Copacabana        1      0       0    50  1950.0       450.0   \n",
       "32950           Tijuca        1      0       0    28  1000.0       360.0   \n",
       "\n",
       "        IPTU  \n",
       "3       20.0  \n",
       "4        0.0  \n",
       "13      50.0  \n",
       "28      25.0  \n",
       "54      19.0  \n",
       "...      ...  \n",
       "32918   19.0  \n",
       "32922  180.0  \n",
       "32935  259.0  \n",
       "32938   70.0  \n",
       "32950   25.0  \n",
       "\n",
       "[2462 rows x 8 columns]"
      ]
     },
     "execution_count": 46,
     "metadata": {},
     "output_type": "execute_result"
    }
   ],
   "source": [
    "selecao1 = df['Quartos'] == 1\n",
    "df[selecao1]"
   ]
  },
  {
   "cell_type": "code",
   "execution_count": 49,
   "id": "b75a13a3",
   "metadata": {},
   "outputs": [
    {
     "data": {
      "application/vnd.microsoft.datawrangler.viewer.v0+json": {
       "columns": [
        {
         "name": "index",
         "rawType": "int64",
         "type": "integer"
        },
        {
         "name": "Bairro",
         "rawType": "object",
         "type": "string"
        },
        {
         "name": "Quartos",
         "rawType": "int64",
         "type": "integer"
        },
        {
         "name": "Vagas",
         "rawType": "int64",
         "type": "integer"
        },
        {
         "name": "Suites",
         "rawType": "int64",
         "type": "integer"
        },
        {
         "name": "Area",
         "rawType": "int64",
         "type": "integer"
        },
        {
         "name": "Valor",
         "rawType": "float64",
         "type": "float"
        },
        {
         "name": "Condominio",
         "rawType": "float64",
         "type": "float"
        },
        {
         "name": "IPTU",
         "rawType": "float64",
         "type": "float"
        }
       ],
       "ref": "e6224af7-41a7-456a-92f5-85d4bb258aeb",
       "rows": [
        [
         "3",
         "Centro",
         "1",
         "0",
         "0",
         "15",
         "800.0",
         "390.0",
         "20.0"
        ],
        [
         "4",
         "Higienópolis",
         "1",
         "0",
         "0",
         "48",
         "800.0",
         "230.0",
         "0.0"
        ],
        [
         "19",
         "Freguesia (Jacarepaguá)",
         "3",
         "0",
         "0",
         "54",
         "950.0",
         "300.0",
         "28.0"
        ],
        [
         "23",
         "Olaria",
         "3",
         "1",
         "0",
         "68",
         "1000.0",
         "670.0",
         "0.0"
        ],
        [
         "28",
         "Tijuca",
         "1",
         "0",
         "0",
         "48",
         "750.0",
         "772.0",
         "25.0"
        ],
        [
         "54",
         "Centro",
         "1",
         "0",
         "0",
         "27",
         "750.0",
         "371.0",
         "19.0"
        ],
        [
         "77",
         "Cachambi",
         "2",
         "0",
         "0",
         "60",
         "1000.0",
         "380.0",
         "280.0"
        ],
        [
         "91",
         "Vila Valqueire",
         "2",
         "1",
         "0",
         "45",
         "800.0",
         "280.0",
         "14.0"
        ],
        [
         "94",
         "Centro",
         "1",
         "1",
         "0",
         "37",
         "1100.0",
         "540.0",
         "900.0"
        ],
        [
         "106",
         "Itanhangá",
         "2",
         "1",
         "0",
         "60",
         "1000.0",
         "450.0",
         "150.0"
        ],
        [
         "122",
         "Olaria",
         "2",
         "1",
         "0",
         "53",
         "1100.0",
         "160.0",
         "0.0"
        ],
        [
         "147",
         "Praça Seca",
         "2",
         "0",
         "0",
         "80",
         "900.0",
         "350.0",
         "0.0"
        ],
        [
         "148",
         "Vila Isabel",
         "1",
         "0",
         "0",
         "37",
         "1000.0",
         "285.0",
         "24.0"
        ],
        [
         "167",
         "Recreio dos Bandeirantes",
         "2",
         "1",
         "1",
         "75",
         "1000.0",
         "1040.0",
         "112.0"
        ],
        [
         "185",
         "Méier",
         "2",
         "0",
         "0",
         "56",
         "899.0",
         "402.0",
         "135.0"
        ],
        [
         "198",
         "Engenho Novo",
         "2",
         "2",
         "0",
         "78",
         "800.0",
         "915.0",
         "55.0"
        ],
        [
         "267",
         "Campo Grande",
         "2",
         "0",
         "0",
         "60",
         "800.0",
         "380.0",
         "0.0"
        ],
        [
         "283",
         "Taquara",
         "2",
         "2",
         "0",
         "55",
         "790.0",
         "350.0",
         "0.0"
        ],
        [
         "293",
         "Botafogo",
         "1",
         "0",
         "0",
         "35",
         "1000.0",
         "293.0",
         "86.0"
        ],
        [
         "296",
         "Água Santa",
         "2",
         "1",
         "0",
         "50",
         "850.0",
         "280.0",
         "12.0"
        ],
        [
         "302",
         "São Cristóvão",
         "2",
         "0",
         "0",
         "50",
         "1000.0",
         "600.0",
         "0.0"
        ],
        [
         "309",
         "Olaria",
         "2",
         "0",
         "0",
         "90",
         "1000.0",
         "150.0",
         "0.0"
        ],
        [
         "339",
         "Vila da Penha",
         "2",
         "0",
         "0",
         "60",
         "900.0",
         "160.0",
         "25.0"
        ],
        [
         "355",
         "Engenho Novo",
         "1",
         "1",
         "0",
         "63",
         "700.0",
         "625.0",
         "36.0"
        ],
        [
         "361",
         "Anil",
         "2",
         "1",
         "0",
         "48",
         "1100.0",
         "400.0",
         "0.0"
        ],
        [
         "369",
         "Cachambi",
         "3",
         "0",
         "0",
         "70",
         "900.0",
         "200.0",
         "30.0"
        ],
        [
         "377",
         "Cachambi",
         "2",
         "1",
         "0",
         "70",
         "950.0",
         "530.0",
         "30.0"
        ],
        [
         "385",
         "Maracanã",
         "1",
         "1",
         "1",
         "120",
         "1000.0",
         "985.0",
         "150.0"
        ],
        [
         "391",
         "Vaz Lobo",
         "2",
         "0",
         "0",
         "70",
         "1000.0",
         "32.0",
         "0.0"
        ],
        [
         "396",
         "Madureira",
         "2",
         "0",
         "0",
         "40",
         "600.0",
         "415.0",
         "0.0"
        ],
        [
         "405",
         "Praça Seca",
         "3",
         "0",
         "0",
         "90",
         "900.0",
         "330.0",
         "15.0"
        ],
        [
         "425",
         "Pechincha",
         "2",
         "1",
         "0",
         "64",
         "800.0",
         "248.0",
         "14.0"
        ],
        [
         "435",
         "Jacarepaguá",
         "2",
         "1",
         "0",
         "68",
         "1100.0",
         "540.0",
         "0.0"
        ],
        [
         "443",
         "Irajá",
         "2",
         "1",
         "0",
         "65",
         "1100.0",
         "255.0",
         "0.0"
        ],
        [
         "447",
         "Vila Isabel",
         "2",
         "1",
         "0",
         "70",
         "1100.0",
         "550.0",
         "0.0"
        ],
        [
         "473",
         "Méier",
         "2",
         "1",
         "0",
         "62",
         "1000.0",
         "600.0",
         "38.0"
        ],
        [
         "527",
         "Taquara",
         "2",
         "1",
         "0",
         "53",
         "1100.0",
         "450.0",
         "150.0"
        ],
        [
         "528",
         "Penha",
         "2",
         "0",
         "0",
         "64",
         "950.0",
         "180.0",
         "0.0"
        ],
        [
         "576",
         "Freguesia (Jacarepaguá)",
         "1",
         "1",
         "0",
         "49",
         "1050.0",
         "580.0",
         "36.0"
        ],
        [
         "585",
         "Vargem Pequena",
         "2",
         "1",
         "1",
         "80",
         "1100.0",
         "650.0",
         "0.0"
        ],
        [
         "591",
         "Quintino Bocaiúva",
         "2",
         "0",
         "0",
         "67",
         "900.0",
         "320.0",
         "0.0"
        ],
        [
         "597",
         "Leme",
         "1",
         "0",
         "0",
         "31",
         "1140.0",
         "420.0",
         "24.0"
        ],
        [
         "605",
         "Inhaúma",
         "3",
         "1",
         "0",
         "60",
         "750.0",
         "236.0",
         "0.0"
        ],
        [
         "610",
         "Pechincha",
         "2",
         "1",
         "0",
         "65",
         "950.0",
         "640.0",
         "126.0"
        ],
        [
         "615",
         "Marechal Hermes",
         "2",
         "1",
         "0",
         "70",
         "850.0",
         "200.0",
         "0.0"
        ],
        [
         "616",
         "Grajaú",
         "1",
         "0",
         "0",
         "30",
         "800.0",
         "283.0",
         "187.0"
        ],
        [
         "617",
         "Praça Seca",
         "2",
         "1",
         "1",
         "63",
         "1100.0",
         "361.0",
         "0.0"
        ],
        [
         "622",
         "Botafogo",
         "1",
         "0",
         "0",
         "17",
         "1100.0",
         "330.0",
         "15.0"
        ],
        [
         "631",
         "Méier",
         "1",
         "0",
         "0",
         "53",
         "900.0",
         "484.0",
         "37.0"
        ],
        [
         "642",
         "Curicica",
         "1",
         "1",
         "0",
         "45",
         "700.0",
         "356.0",
         "126.0"
        ]
       ],
       "shape": {
        "columns": 8,
        "rows": 1904
       }
      },
      "text/html": [
       "<div>\n",
       "<style scoped>\n",
       "    .dataframe tbody tr th:only-of-type {\n",
       "        vertical-align: middle;\n",
       "    }\n",
       "\n",
       "    .dataframe tbody tr th {\n",
       "        vertical-align: top;\n",
       "    }\n",
       "\n",
       "    .dataframe thead th {\n",
       "        text-align: right;\n",
       "    }\n",
       "</style>\n",
       "<table border=\"1\" class=\"dataframe\">\n",
       "  <thead>\n",
       "    <tr style=\"text-align: right;\">\n",
       "      <th></th>\n",
       "      <th>Bairro</th>\n",
       "      <th>Quartos</th>\n",
       "      <th>Vagas</th>\n",
       "      <th>Suites</th>\n",
       "      <th>Area</th>\n",
       "      <th>Valor</th>\n",
       "      <th>Condominio</th>\n",
       "      <th>IPTU</th>\n",
       "    </tr>\n",
       "  </thead>\n",
       "  <tbody>\n",
       "    <tr>\n",
       "      <th>3</th>\n",
       "      <td>Centro</td>\n",
       "      <td>1</td>\n",
       "      <td>0</td>\n",
       "      <td>0</td>\n",
       "      <td>15</td>\n",
       "      <td>800.0</td>\n",
       "      <td>390.0</td>\n",
       "      <td>20.0</td>\n",
       "    </tr>\n",
       "    <tr>\n",
       "      <th>4</th>\n",
       "      <td>Higienópolis</td>\n",
       "      <td>1</td>\n",
       "      <td>0</td>\n",
       "      <td>0</td>\n",
       "      <td>48</td>\n",
       "      <td>800.0</td>\n",
       "      <td>230.0</td>\n",
       "      <td>0.0</td>\n",
       "    </tr>\n",
       "    <tr>\n",
       "      <th>19</th>\n",
       "      <td>Freguesia (Jacarepaguá)</td>\n",
       "      <td>3</td>\n",
       "      <td>0</td>\n",
       "      <td>0</td>\n",
       "      <td>54</td>\n",
       "      <td>950.0</td>\n",
       "      <td>300.0</td>\n",
       "      <td>28.0</td>\n",
       "    </tr>\n",
       "    <tr>\n",
       "      <th>23</th>\n",
       "      <td>Olaria</td>\n",
       "      <td>3</td>\n",
       "      <td>1</td>\n",
       "      <td>0</td>\n",
       "      <td>68</td>\n",
       "      <td>1000.0</td>\n",
       "      <td>670.0</td>\n",
       "      <td>0.0</td>\n",
       "    </tr>\n",
       "    <tr>\n",
       "      <th>28</th>\n",
       "      <td>Tijuca</td>\n",
       "      <td>1</td>\n",
       "      <td>0</td>\n",
       "      <td>0</td>\n",
       "      <td>48</td>\n",
       "      <td>750.0</td>\n",
       "      <td>772.0</td>\n",
       "      <td>25.0</td>\n",
       "    </tr>\n",
       "    <tr>\n",
       "      <th>...</th>\n",
       "      <td>...</td>\n",
       "      <td>...</td>\n",
       "      <td>...</td>\n",
       "      <td>...</td>\n",
       "      <td>...</td>\n",
       "      <td>...</td>\n",
       "      <td>...</td>\n",
       "      <td>...</td>\n",
       "    </tr>\n",
       "    <tr>\n",
       "      <th>32925</th>\n",
       "      <td>Campinho</td>\n",
       "      <td>2</td>\n",
       "      <td>0</td>\n",
       "      <td>0</td>\n",
       "      <td>63</td>\n",
       "      <td>800.0</td>\n",
       "      <td>392.0</td>\n",
       "      <td>0.0</td>\n",
       "    </tr>\n",
       "    <tr>\n",
       "      <th>32930</th>\n",
       "      <td>Freguesia (Jacarepaguá)</td>\n",
       "      <td>2</td>\n",
       "      <td>1</td>\n",
       "      <td>0</td>\n",
       "      <td>60</td>\n",
       "      <td>500.0</td>\n",
       "      <td>900.0</td>\n",
       "      <td>148.0</td>\n",
       "    </tr>\n",
       "    <tr>\n",
       "      <th>32950</th>\n",
       "      <td>Tijuca</td>\n",
       "      <td>1</td>\n",
       "      <td>0</td>\n",
       "      <td>0</td>\n",
       "      <td>28</td>\n",
       "      <td>1000.0</td>\n",
       "      <td>360.0</td>\n",
       "      <td>25.0</td>\n",
       "    </tr>\n",
       "    <tr>\n",
       "      <th>32951</th>\n",
       "      <td>Vila Valqueire</td>\n",
       "      <td>2</td>\n",
       "      <td>0</td>\n",
       "      <td>0</td>\n",
       "      <td>52</td>\n",
       "      <td>1000.0</td>\n",
       "      <td>550.0</td>\n",
       "      <td>0.0</td>\n",
       "    </tr>\n",
       "    <tr>\n",
       "      <th>32953</th>\n",
       "      <td>Méier</td>\n",
       "      <td>2</td>\n",
       "      <td>0</td>\n",
       "      <td>0</td>\n",
       "      <td>70</td>\n",
       "      <td>900.0</td>\n",
       "      <td>490.0</td>\n",
       "      <td>48.0</td>\n",
       "    </tr>\n",
       "  </tbody>\n",
       "</table>\n",
       "<p>1904 rows × 8 columns</p>\n",
       "</div>"
      ],
      "text/plain": [
       "                        Bairro  Quartos  Vagas  Suites  Area   Valor  \\\n",
       "3                       Centro        1      0       0    15   800.0   \n",
       "4                 Higienópolis        1      0       0    48   800.0   \n",
       "19     Freguesia (Jacarepaguá)        3      0       0    54   950.0   \n",
       "23                      Olaria        3      1       0    68  1000.0   \n",
       "28                      Tijuca        1      0       0    48   750.0   \n",
       "...                        ...      ...    ...     ...   ...     ...   \n",
       "32925                 Campinho        2      0       0    63   800.0   \n",
       "32930  Freguesia (Jacarepaguá)        2      1       0    60   500.0   \n",
       "32950                   Tijuca        1      0       0    28  1000.0   \n",
       "32951           Vila Valqueire        2      0       0    52  1000.0   \n",
       "32953                    Méier        2      0       0    70   900.0   \n",
       "\n",
       "       Condominio   IPTU  \n",
       "3           390.0   20.0  \n",
       "4           230.0    0.0  \n",
       "19          300.0   28.0  \n",
       "23          670.0    0.0  \n",
       "28          772.0   25.0  \n",
       "...           ...    ...  \n",
       "32925       392.0    0.0  \n",
       "32930       900.0  148.0  \n",
       "32950       360.0   25.0  \n",
       "32951       550.0    0.0  \n",
       "32953       490.0   48.0  \n",
       "\n",
       "[1904 rows x 8 columns]"
      ]
     },
     "execution_count": 49,
     "metadata": {},
     "output_type": "execute_result"
    }
   ],
   "source": [
    "selecao2 = df['Valor'] < 1200\n",
    "df[selecao2]"
   ]
  },
  {
   "cell_type": "code",
   "execution_count": 51,
   "id": "c1ba26ba",
   "metadata": {},
   "outputs": [
    {
     "data": {
      "application/vnd.microsoft.datawrangler.viewer.v0+json": {
       "columns": [
        {
         "name": "index",
         "rawType": "int64",
         "type": "integer"
        },
        {
         "name": "Bairro",
         "rawType": "object",
         "type": "string"
        },
        {
         "name": "Quartos",
         "rawType": "int64",
         "type": "integer"
        },
        {
         "name": "Vagas",
         "rawType": "int64",
         "type": "integer"
        },
        {
         "name": "Suites",
         "rawType": "int64",
         "type": "integer"
        },
        {
         "name": "Area",
         "rawType": "int64",
         "type": "integer"
        },
        {
         "name": "Valor",
         "rawType": "float64",
         "type": "float"
        },
        {
         "name": "Condominio",
         "rawType": "float64",
         "type": "float"
        },
        {
         "name": "IPTU",
         "rawType": "float64",
         "type": "float"
        }
       ],
       "ref": "a3c821c9-5d39-4b34-9883-cfa3c92b32fa",
       "rows": [
        [
         "3",
         "Centro",
         "1",
         "0",
         "0",
         "15",
         "800.0",
         "390.0",
         "20.0"
        ],
        [
         "4",
         "Higienópolis",
         "1",
         "0",
         "0",
         "48",
         "800.0",
         "230.0",
         "0.0"
        ],
        [
         "28",
         "Tijuca",
         "1",
         "0",
         "0",
         "48",
         "750.0",
         "772.0",
         "25.0"
        ],
        [
         "54",
         "Centro",
         "1",
         "0",
         "0",
         "27",
         "750.0",
         "371.0",
         "19.0"
        ],
        [
         "94",
         "Centro",
         "1",
         "1",
         "0",
         "37",
         "1100.0",
         "540.0",
         "900.0"
        ],
        [
         "148",
         "Vila Isabel",
         "1",
         "0",
         "0",
         "37",
         "1000.0",
         "285.0",
         "24.0"
        ],
        [
         "293",
         "Botafogo",
         "1",
         "0",
         "0",
         "35",
         "1000.0",
         "293.0",
         "86.0"
        ],
        [
         "355",
         "Engenho Novo",
         "1",
         "1",
         "0",
         "63",
         "700.0",
         "625.0",
         "36.0"
        ],
        [
         "385",
         "Maracanã",
         "1",
         "1",
         "1",
         "120",
         "1000.0",
         "985.0",
         "150.0"
        ],
        [
         "576",
         "Freguesia (Jacarepaguá)",
         "1",
         "1",
         "0",
         "49",
         "1050.0",
         "580.0",
         "36.0"
        ],
        [
         "597",
         "Leme",
         "1",
         "0",
         "0",
         "31",
         "1140.0",
         "420.0",
         "24.0"
        ],
        [
         "616",
         "Grajaú",
         "1",
         "0",
         "0",
         "30",
         "800.0",
         "283.0",
         "187.0"
        ],
        [
         "622",
         "Botafogo",
         "1",
         "0",
         "0",
         "17",
         "1100.0",
         "330.0",
         "15.0"
        ],
        [
         "631",
         "Méier",
         "1",
         "0",
         "0",
         "53",
         "900.0",
         "484.0",
         "37.0"
        ],
        [
         "642",
         "Curicica",
         "1",
         "1",
         "0",
         "45",
         "700.0",
         "356.0",
         "126.0"
        ],
        [
         "658",
         "Méier",
         "1",
         "0",
         "0",
         "50",
         "1000.0",
         "390.0",
         "16.0"
        ],
        [
         "672",
         "Andaraí",
         "1",
         "0",
         "1",
         "30",
         "1100.0",
         "580.0",
         "0.0"
        ],
        [
         "796",
         "Freguesia (Jacarepaguá)",
         "1",
         "1",
         "0",
         "49",
         "850.0",
         "590.0",
         "37.0"
        ],
        [
         "880",
         "Centro",
         "1",
         "0",
         "1",
         "38",
         "1150.0",
         "400.0",
         "25.0"
        ],
        [
         "914",
         "Santa Teresa",
         "1",
         "0",
         "0",
         "21",
         "800.0",
         "312.0",
         "15.0"
        ],
        [
         "1006",
         "Centro",
         "1",
         "0",
         "0",
         "35",
         "1000.0",
         "300.0",
         "0.0"
        ],
        [
         "1024",
         "Campo Grande",
         "1",
         "1",
         "0",
         "46",
         "650.0",
         "250.0",
         "0.0"
        ],
        [
         "1104",
         "Vila Isabel",
         "1",
         "1",
         "1",
         "50",
         "1050.0",
         "450.0",
         "0.0"
        ],
        [
         "1132",
         "Fátima",
         "1",
         "0",
         "0",
         "50",
         "1100.0",
         "558.0",
         "20.0"
        ],
        [
         "1136",
         "Higienópolis",
         "1",
         "0",
         "0",
         "55",
         "750.0",
         "120.0",
         "0.0"
        ],
        [
         "1148",
         "Botafogo",
         "1",
         "0",
         "0",
         "35",
         "1000.0",
         "293.0",
         "86.0"
        ],
        [
         "1149",
         "Santa Teresa",
         "1",
         "1",
         "0",
         "49",
         "1150.0",
         "570.0",
         "28.0"
        ],
        [
         "1382",
         "Copacabana",
         "1",
         "0",
         "0",
         "35",
         "1100.0",
         "400.0",
         "55.0"
        ],
        [
         "1390",
         "Tijuca",
         "1",
         "0",
         "0",
         "40",
         "1100.0",
         "350.0",
         "50.0"
        ],
        [
         "1442",
         "Glória",
         "1",
         "0",
         "0",
         "34",
         "1100.0",
         "275.0",
         "14.0"
        ],
        [
         "1445",
         "Higienópolis",
         "1",
         "0",
         "1",
         "45",
         "800.0",
         "120.0",
         "31.0"
        ],
        [
         "1525",
         "Engenho Novo",
         "1",
         "0",
         "0",
         "37",
         "600.0",
         "414.0",
         "16.0"
        ],
        [
         "1616",
         "Encantado",
         "1",
         "1",
         "0",
         "44",
         "500.0",
         "346.0",
         "0.0"
        ],
        [
         "1620",
         "Barra da Tijuca",
         "1",
         "1",
         "1",
         "45",
         "910.0",
         "640.0",
         "12.0"
        ],
        [
         "1652",
         "Centro",
         "1",
         "0",
         "0",
         "30",
         "900.0",
         "320.0",
         "0.0"
        ],
        [
         "1685",
         "Centro",
         "1",
         "0",
         "0",
         "21",
         "900.0",
         "289.0",
         "20.0"
        ],
        [
         "1706",
         "Praça da Bandeira",
         "1",
         "0",
         "0",
         "35",
         "400.0",
         "130.0",
         "0.0"
        ],
        [
         "1744",
         "Rio Comprido",
         "1",
         "0",
         "0",
         "33",
         "800.0",
         "275.0",
         "24.0"
        ],
        [
         "1810",
         "Praça Seca",
         "1",
         "1",
         "1",
         "70",
         "600.0",
         "481.0",
         "17.0"
        ],
        [
         "1829",
         "São Cristóvão",
         "1",
         "0",
         "0",
         "56",
         "850.0",
         "450.0",
         "15.0"
        ],
        [
         "2073",
         "Centro",
         "1",
         "0",
         "0",
         "38",
         "900.0",
         "223.0",
         "15.0"
        ],
        [
         "2097",
         "Méier",
         "1",
         "0",
         "0",
         "47",
         "700.0",
         "435.0",
         "162.0"
        ],
        [
         "2131",
         "Engenho Novo",
         "1",
         "1",
         "1",
         "51",
         "850.0",
         "509.0",
         "17.0"
        ],
        [
         "2228",
         "Méier",
         "1",
         "0",
         "0",
         "55",
         "850.0",
         "340.0",
         "16.0"
        ],
        [
         "2310",
         "Flamengo",
         "1",
         "0",
         "1",
         "26",
         "1100.0",
         "381.0",
         "29.0"
        ],
        [
         "2370",
         "Santa Teresa",
         "1",
         "0",
         "0",
         "45",
         "740.0",
         "180.0",
         "25.0"
        ],
        [
         "2480",
         "Tanque",
         "1",
         "1",
         "1",
         "64",
         "900.0",
         "470.0",
         "15.0"
        ],
        [
         "2524",
         "Glória",
         "1",
         "0",
         "1",
         "48",
         "1100.0",
         "500.0",
         "0.0"
        ],
        [
         "2783",
         "Centro",
         "1",
         "0",
         "0",
         "40",
         "1000.0",
         "510.0",
         "21.0"
        ],
        [
         "2791",
         "Méier",
         "1",
         "1",
         "0",
         "55",
         "900.0",
         "250.0",
         "17.0"
        ]
       ],
       "shape": {
        "columns": 8,
        "rows": 499
       }
      },
      "text/html": [
       "<div>\n",
       "<style scoped>\n",
       "    .dataframe tbody tr th:only-of-type {\n",
       "        vertical-align: middle;\n",
       "    }\n",
       "\n",
       "    .dataframe tbody tr th {\n",
       "        vertical-align: top;\n",
       "    }\n",
       "\n",
       "    .dataframe thead th {\n",
       "        text-align: right;\n",
       "    }\n",
       "</style>\n",
       "<table border=\"1\" class=\"dataframe\">\n",
       "  <thead>\n",
       "    <tr style=\"text-align: right;\">\n",
       "      <th></th>\n",
       "      <th>Bairro</th>\n",
       "      <th>Quartos</th>\n",
       "      <th>Vagas</th>\n",
       "      <th>Suites</th>\n",
       "      <th>Area</th>\n",
       "      <th>Valor</th>\n",
       "      <th>Condominio</th>\n",
       "      <th>IPTU</th>\n",
       "    </tr>\n",
       "  </thead>\n",
       "  <tbody>\n",
       "    <tr>\n",
       "      <th>3</th>\n",
       "      <td>Centro</td>\n",
       "      <td>1</td>\n",
       "      <td>0</td>\n",
       "      <td>0</td>\n",
       "      <td>15</td>\n",
       "      <td>800.0</td>\n",
       "      <td>390.0</td>\n",
       "      <td>20.0</td>\n",
       "    </tr>\n",
       "    <tr>\n",
       "      <th>4</th>\n",
       "      <td>Higienópolis</td>\n",
       "      <td>1</td>\n",
       "      <td>0</td>\n",
       "      <td>0</td>\n",
       "      <td>48</td>\n",
       "      <td>800.0</td>\n",
       "      <td>230.0</td>\n",
       "      <td>0.0</td>\n",
       "    </tr>\n",
       "    <tr>\n",
       "      <th>28</th>\n",
       "      <td>Tijuca</td>\n",
       "      <td>1</td>\n",
       "      <td>0</td>\n",
       "      <td>0</td>\n",
       "      <td>48</td>\n",
       "      <td>750.0</td>\n",
       "      <td>772.0</td>\n",
       "      <td>25.0</td>\n",
       "    </tr>\n",
       "    <tr>\n",
       "      <th>54</th>\n",
       "      <td>Centro</td>\n",
       "      <td>1</td>\n",
       "      <td>0</td>\n",
       "      <td>0</td>\n",
       "      <td>27</td>\n",
       "      <td>750.0</td>\n",
       "      <td>371.0</td>\n",
       "      <td>19.0</td>\n",
       "    </tr>\n",
       "    <tr>\n",
       "      <th>94</th>\n",
       "      <td>Centro</td>\n",
       "      <td>1</td>\n",
       "      <td>1</td>\n",
       "      <td>0</td>\n",
       "      <td>37</td>\n",
       "      <td>1100.0</td>\n",
       "      <td>540.0</td>\n",
       "      <td>900.0</td>\n",
       "    </tr>\n",
       "    <tr>\n",
       "      <th>...</th>\n",
       "      <td>...</td>\n",
       "      <td>...</td>\n",
       "      <td>...</td>\n",
       "      <td>...</td>\n",
       "      <td>...</td>\n",
       "      <td>...</td>\n",
       "      <td>...</td>\n",
       "      <td>...</td>\n",
       "    </tr>\n",
       "    <tr>\n",
       "      <th>32596</th>\n",
       "      <td>Grajaú</td>\n",
       "      <td>1</td>\n",
       "      <td>0</td>\n",
       "      <td>1</td>\n",
       "      <td>37</td>\n",
       "      <td>1000.0</td>\n",
       "      <td>200.0</td>\n",
       "      <td>0.0</td>\n",
       "    </tr>\n",
       "    <tr>\n",
       "      <th>32617</th>\n",
       "      <td>Pechincha</td>\n",
       "      <td>1</td>\n",
       "      <td>0</td>\n",
       "      <td>1</td>\n",
       "      <td>69</td>\n",
       "      <td>900.0</td>\n",
       "      <td>640.0</td>\n",
       "      <td>126.0</td>\n",
       "    </tr>\n",
       "    <tr>\n",
       "      <th>32627</th>\n",
       "      <td>Glória</td>\n",
       "      <td>1</td>\n",
       "      <td>0</td>\n",
       "      <td>0</td>\n",
       "      <td>46</td>\n",
       "      <td>1100.0</td>\n",
       "      <td>453.0</td>\n",
       "      <td>32.0</td>\n",
       "    </tr>\n",
       "    <tr>\n",
       "      <th>32714</th>\n",
       "      <td>Botafogo</td>\n",
       "      <td>1</td>\n",
       "      <td>0</td>\n",
       "      <td>0</td>\n",
       "      <td>21</td>\n",
       "      <td>1000.0</td>\n",
       "      <td>282.0</td>\n",
       "      <td>25.0</td>\n",
       "    </tr>\n",
       "    <tr>\n",
       "      <th>32950</th>\n",
       "      <td>Tijuca</td>\n",
       "      <td>1</td>\n",
       "      <td>0</td>\n",
       "      <td>0</td>\n",
       "      <td>28</td>\n",
       "      <td>1000.0</td>\n",
       "      <td>360.0</td>\n",
       "      <td>25.0</td>\n",
       "    </tr>\n",
       "  </tbody>\n",
       "</table>\n",
       "<p>499 rows × 8 columns</p>\n",
       "</div>"
      ],
      "text/plain": [
       "             Bairro  Quartos  Vagas  Suites  Area   Valor  Condominio   IPTU\n",
       "3            Centro        1      0       0    15   800.0       390.0   20.0\n",
       "4      Higienópolis        1      0       0    48   800.0       230.0    0.0\n",
       "28           Tijuca        1      0       0    48   750.0       772.0   25.0\n",
       "54           Centro        1      0       0    27   750.0       371.0   19.0\n",
       "94           Centro        1      1       0    37  1100.0       540.0  900.0\n",
       "...             ...      ...    ...     ...   ...     ...         ...    ...\n",
       "32596        Grajaú        1      0       1    37  1000.0       200.0    0.0\n",
       "32617     Pechincha        1      0       1    69   900.0       640.0  126.0\n",
       "32627        Glória        1      0       0    46  1100.0       453.0   32.0\n",
       "32714      Botafogo        1      0       0    21  1000.0       282.0   25.0\n",
       "32950        Tijuca        1      0       0    28  1000.0       360.0   25.0\n",
       "\n",
       "[499 rows x 8 columns]"
      ]
     },
     "execution_count": 51,
     "metadata": {},
     "output_type": "execute_result"
    }
   ],
   "source": [
    "selecao_final = (selecao1) & (selecao2)\n",
    "df[selecao_final]"
   ]
  },
  {
   "cell_type": "code",
   "execution_count": 52,
   "id": "e7b4080e",
   "metadata": {},
   "outputs": [],
   "source": [
    "df_1 = df[selecao_final]"
   ]
  },
  {
   "cell_type": "code",
   "execution_count": 54,
   "id": "13a223a7",
   "metadata": {},
   "outputs": [
    {
     "data": {
      "application/vnd.microsoft.datawrangler.viewer.v0+json": {
       "columns": [
        {
         "name": "index",
         "rawType": "int64",
         "type": "integer"
        },
        {
         "name": "Bairro",
         "rawType": "object",
         "type": "string"
        },
        {
         "name": "Quartos",
         "rawType": "int64",
         "type": "integer"
        },
        {
         "name": "Vagas",
         "rawType": "int64",
         "type": "integer"
        },
        {
         "name": "Suites",
         "rawType": "int64",
         "type": "integer"
        },
        {
         "name": "Area",
         "rawType": "int64",
         "type": "integer"
        },
        {
         "name": "Valor",
         "rawType": "float64",
         "type": "float"
        },
        {
         "name": "Condominio",
         "rawType": "float64",
         "type": "float"
        },
        {
         "name": "IPTU",
         "rawType": "float64",
         "type": "float"
        }
       ],
       "ref": "f42f0b9c-1c21-4151-9e83-168fcfde71ae",
       "rows": [
        [
         "12",
         "Lins de Vasconcelos",
         "3",
         "1",
         "1",
         "90",
         "1500.0",
         "455.0",
         "14.0"
        ],
        [
         "21",
         "Tijuca",
         "2",
         "1",
         "0",
         "110",
         "1900.0",
         "700.0",
         "138.0"
        ],
        [
         "24",
         "Tijuca",
         "2",
         "1",
         "0",
         "78",
         "2000.0",
         "700.0",
         "0.0"
        ],
        [
         "32",
         "Botafogo",
         "2",
         "1",
         "0",
         "76",
         "2500.0",
         "740.0",
         "0.0"
        ],
        [
         "36",
         "Recreio dos Bandeirantes",
         "3",
         "1",
         "1",
         "105",
         "2300.0",
         "648.0",
         "0.0"
        ],
        [
         "48",
         "Recreio dos Bandeirantes",
         "3",
         "2",
         "2",
         "100",
         "2600.0",
         "380.0",
         "0.0"
        ],
        [
         "49",
         "Barra da Tijuca",
         "3",
         "1",
         "1",
         "72",
         "2350.0",
         "600.0",
         "70.0"
        ],
        [
         "51",
         "Recreio dos Bandeirantes",
         "3",
         "1",
         "2",
         "92",
         "2300.0",
         "840.0",
         "200.0"
        ],
        [
         "57",
         "Recreio dos Bandeirantes",
         "2",
         "1",
         "2",
         "83",
         "1600.0",
         "1160.0",
         "157.0"
        ],
        [
         "64",
         "Méier",
         "3",
         "1",
         "0",
         "90",
         "1550.0",
         "844.0",
         "80.0"
        ],
        [
         "67",
         "Maracanã",
         "2",
         "0",
         "0",
         "86",
         "1800.0",
         "600.0",
         "82.0"
        ],
        [
         "68",
         "Recreio dos Bandeirantes",
         "2",
         "1",
         "1",
         "74",
         "1850.0",
         "675.0",
         "200.0"
        ],
        [
         "70",
         "Jacarepaguá",
         "3",
         "1",
         "1",
         "74",
         "1900.0",
         "556.0",
         "98.0"
        ],
        [
         "90",
         "Barra da Tijuca",
         "3",
         "2",
         "1",
         "104",
         "2600.0",
         "1364.0",
         "406.0"
        ],
        [
         "93",
         "Barra da Tijuca",
         "2",
         "1",
         "1",
         "88",
         "2700.0",
         "1300.0",
         "2042.0"
        ],
        [
         "96",
         "Bonsucesso",
         "2",
         "1",
         "0",
         "77",
         "1500.0",
         "740.0",
         "0.0"
        ],
        [
         "97",
         "Barra da Tijuca",
         "3",
         "2",
         "2",
         "85",
         "2500.0",
         "1400.0",
         "190.0"
        ],
        [
         "98",
         "Todos os Santos",
         "3",
         "1",
         "1",
         "78",
         "1450.0",
         "630.0",
         "73.0"
        ],
        [
         "104",
         "Barra da Tijuca",
         "2",
         "1",
         "1",
         "78",
         "2750.0",
         "1300.0",
         "138.0"
        ],
        [
         "107",
         "Recreio dos Bandeirantes",
         "2",
         "1",
         "1",
         "90",
         "2400.0",
         "1700.0",
         "135.0"
        ],
        [
         "114",
         "Tijuca",
         "2",
         "1",
         "0",
         "80",
         "1800.0",
         "1100.0",
         "84.0"
        ],
        [
         "118",
         "Tijuca",
         "3",
         "1",
         "0",
         "172",
         "2700.0",
         "780.0",
         "170.0"
        ],
        [
         "119",
         "Freguesia (Jacarepaguá)",
         "4",
         "3",
         "2",
         "261",
         "2800.0",
         "2535.0",
         "3900.0"
        ],
        [
         "124",
         "Botafogo",
         "2",
         "1",
         "1",
         "83",
         "2800.0",
         "560.0",
         "138.0"
        ],
        [
         "135",
         "Catete",
         "2",
         "0",
         "0",
         "77",
         "2400.0",
         "1130.0",
         "140.0"
        ],
        [
         "141",
         "Recreio dos Bandeirantes",
         "3",
         "2",
         "1",
         "90",
         "1200.0",
         "880.0",
         "144.0"
        ],
        [
         "147",
         "Praça Seca",
         "2",
         "0",
         "0",
         "80",
         "900.0",
         "350.0",
         "0.0"
        ],
        [
         "154",
         "Freguesia (Jacarepaguá)",
         "2",
         "1",
         "1",
         "74",
         "1700.0",
         "652.0",
         "104.0"
        ],
        [
         "167",
         "Recreio dos Bandeirantes",
         "2",
         "1",
         "1",
         "75",
         "1000.0",
         "1040.0",
         "112.0"
        ],
        [
         "177",
         "Recreio dos Bandeirantes",
         "3",
         "2",
         "1",
         "104",
         "2200.0",
         "740.0",
         "258.0"
        ],
        [
         "179",
         "Barra da Tijuca",
         "2",
         "1",
         "1",
         "72",
         "2600.0",
         "1700.0",
         "237.0"
        ],
        [
         "180",
         "Taquara",
         "2",
         "1",
         "0",
         "75",
         "1200.0",
         "330.0",
         "75.0"
        ],
        [
         "187",
         "Freguesia (Jacarepaguá)",
         "2",
         "1",
         "1",
         "71",
         "1200.0",
         "600.0",
         "54.0"
        ],
        [
         "190",
         "Tijuca",
         "3",
         "0",
         "0",
         "87",
         "1600.0",
         "650.0",
         "100.0"
        ],
        [
         "197",
         "Barra da Tijuca",
         "3",
         "1",
         "2",
         "93",
         "2500.0",
         "1100.0",
         "0.0"
        ],
        [
         "198",
         "Engenho Novo",
         "2",
         "2",
         "0",
         "78",
         "800.0",
         "915.0",
         "55.0"
        ],
        [
         "199",
         "Barra da Tijuca",
         "2",
         "1",
         "1",
         "85",
         "2500.0",
         "1573.0",
         "197.0"
        ],
        [
         "202",
         "Freguesia (Jacarepaguá)",
         "2",
         "1",
         "1",
         "95",
         "1600.0",
         "650.0",
         "0.0"
        ],
        [
         "218",
         "Tijuca",
         "3",
         "1",
         "1",
         "78",
         "2500.0",
         "730.0",
         "178.0"
        ],
        [
         "223",
         "Recreio dos Bandeirantes",
         "3",
         "2",
         "1",
         "102",
         "1850.0",
         "882.0",
         "0.0"
        ],
        [
         "227",
         "Maracanã",
         "3",
         "2",
         "3",
         "158",
         "2400.0",
         "1265.0",
         "0.0"
        ],
        [
         "228",
         "Barra da Tijuca",
         "2",
         "1",
         "1",
         "83",
         "2000.0",
         "1548.0",
         "260.0"
        ],
        [
         "230",
         "Barra da Tijuca",
         "3",
         "1",
         "1",
         "84",
         "1900.0",
         "1103.0",
         "212.0"
        ],
        [
         "231",
         "Freguesia (Jacarepaguá)",
         "3",
         "1",
         "1",
         "77",
         "1600.0",
         "850.0",
         "165.0"
        ],
        [
         "234",
         "Tijuca",
         "3",
         "0",
         "0",
         "75",
         "1800.0",
         "350.0",
         "0.0"
        ],
        [
         "246",
         "Tijuca",
         "2",
         "1",
         "1",
         "71",
         "1500.0",
         "600.0",
         "0.0"
        ],
        [
         "247",
         "Barra da Tijuca",
         "2",
         "1",
         "1",
         "81",
         "1900.0",
         "1200.0",
         "121.0"
        ],
        [
         "263",
         "Laranjeiras",
         "3",
         "1",
         "1",
         "90",
         "2400.0",
         "1311.0",
         "0.0"
        ],
        [
         "276",
         "Tijuca",
         "3",
         "1",
         "0",
         "129",
         "1800.0",
         "850.0",
         "116.0"
        ],
        [
         "279",
         "Recreio dos Bandeirantes",
         "2",
         "1",
         "1",
         "93",
         "1400.0",
         "1300.0",
         "0.0"
        ]
       ],
       "shape": {
        "columns": 8,
        "rows": 4459
       }
      },
      "text/html": [
       "<div>\n",
       "<style scoped>\n",
       "    .dataframe tbody tr th:only-of-type {\n",
       "        vertical-align: middle;\n",
       "    }\n",
       "\n",
       "    .dataframe tbody tr th {\n",
       "        vertical-align: top;\n",
       "    }\n",
       "\n",
       "    .dataframe thead th {\n",
       "        text-align: right;\n",
       "    }\n",
       "</style>\n",
       "<table border=\"1\" class=\"dataframe\">\n",
       "  <thead>\n",
       "    <tr style=\"text-align: right;\">\n",
       "      <th></th>\n",
       "      <th>Bairro</th>\n",
       "      <th>Quartos</th>\n",
       "      <th>Vagas</th>\n",
       "      <th>Suites</th>\n",
       "      <th>Area</th>\n",
       "      <th>Valor</th>\n",
       "      <th>Condominio</th>\n",
       "      <th>IPTU</th>\n",
       "    </tr>\n",
       "  </thead>\n",
       "  <tbody>\n",
       "    <tr>\n",
       "      <th>12</th>\n",
       "      <td>Lins de Vasconcelos</td>\n",
       "      <td>3</td>\n",
       "      <td>1</td>\n",
       "      <td>1</td>\n",
       "      <td>90</td>\n",
       "      <td>1500.0</td>\n",
       "      <td>455.0</td>\n",
       "      <td>14.0</td>\n",
       "    </tr>\n",
       "    <tr>\n",
       "      <th>21</th>\n",
       "      <td>Tijuca</td>\n",
       "      <td>2</td>\n",
       "      <td>1</td>\n",
       "      <td>0</td>\n",
       "      <td>110</td>\n",
       "      <td>1900.0</td>\n",
       "      <td>700.0</td>\n",
       "      <td>138.0</td>\n",
       "    </tr>\n",
       "    <tr>\n",
       "      <th>24</th>\n",
       "      <td>Tijuca</td>\n",
       "      <td>2</td>\n",
       "      <td>1</td>\n",
       "      <td>0</td>\n",
       "      <td>78</td>\n",
       "      <td>2000.0</td>\n",
       "      <td>700.0</td>\n",
       "      <td>0.0</td>\n",
       "    </tr>\n",
       "    <tr>\n",
       "      <th>32</th>\n",
       "      <td>Botafogo</td>\n",
       "      <td>2</td>\n",
       "      <td>1</td>\n",
       "      <td>0</td>\n",
       "      <td>76</td>\n",
       "      <td>2500.0</td>\n",
       "      <td>740.0</td>\n",
       "      <td>0.0</td>\n",
       "    </tr>\n",
       "    <tr>\n",
       "      <th>36</th>\n",
       "      <td>Recreio dos Bandeirantes</td>\n",
       "      <td>3</td>\n",
       "      <td>1</td>\n",
       "      <td>1</td>\n",
       "      <td>105</td>\n",
       "      <td>2300.0</td>\n",
       "      <td>648.0</td>\n",
       "      <td>0.0</td>\n",
       "    </tr>\n",
       "    <tr>\n",
       "      <th>...</th>\n",
       "      <td>...</td>\n",
       "      <td>...</td>\n",
       "      <td>...</td>\n",
       "      <td>...</td>\n",
       "      <td>...</td>\n",
       "      <td>...</td>\n",
       "      <td>...</td>\n",
       "      <td>...</td>\n",
       "    </tr>\n",
       "    <tr>\n",
       "      <th>32934</th>\n",
       "      <td>Jacarepaguá</td>\n",
       "      <td>2</td>\n",
       "      <td>1</td>\n",
       "      <td>1</td>\n",
       "      <td>78</td>\n",
       "      <td>2200.0</td>\n",
       "      <td>790.0</td>\n",
       "      <td>180.0</td>\n",
       "    </tr>\n",
       "    <tr>\n",
       "      <th>32940</th>\n",
       "      <td>Barra da Tijuca</td>\n",
       "      <td>2</td>\n",
       "      <td>1</td>\n",
       "      <td>1</td>\n",
       "      <td>85</td>\n",
       "      <td>2250.0</td>\n",
       "      <td>1561.0</td>\n",
       "      <td>197.0</td>\n",
       "    </tr>\n",
       "    <tr>\n",
       "      <th>32941</th>\n",
       "      <td>Barra da Tijuca</td>\n",
       "      <td>3</td>\n",
       "      <td>2</td>\n",
       "      <td>0</td>\n",
       "      <td>98</td>\n",
       "      <td>2300.0</td>\n",
       "      <td>887.0</td>\n",
       "      <td>177.0</td>\n",
       "    </tr>\n",
       "    <tr>\n",
       "      <th>32944</th>\n",
       "      <td>Recreio dos Bandeirantes</td>\n",
       "      <td>3</td>\n",
       "      <td>2</td>\n",
       "      <td>1</td>\n",
       "      <td>88</td>\n",
       "      <td>1550.0</td>\n",
       "      <td>790.0</td>\n",
       "      <td>0.0</td>\n",
       "    </tr>\n",
       "    <tr>\n",
       "      <th>32956</th>\n",
       "      <td>Jacarepaguá</td>\n",
       "      <td>3</td>\n",
       "      <td>1</td>\n",
       "      <td>2</td>\n",
       "      <td>78</td>\n",
       "      <td>1800.0</td>\n",
       "      <td>800.0</td>\n",
       "      <td>40.0</td>\n",
       "    </tr>\n",
       "  </tbody>\n",
       "</table>\n",
       "<p>4459 rows × 8 columns</p>\n",
       "</div>"
      ],
      "text/plain": [
       "                         Bairro  Quartos  Vagas  Suites  Area   Valor  \\\n",
       "12          Lins de Vasconcelos        3      1       1    90  1500.0   \n",
       "21                       Tijuca        2      1       0   110  1900.0   \n",
       "24                       Tijuca        2      1       0    78  2000.0   \n",
       "32                     Botafogo        2      1       0    76  2500.0   \n",
       "36     Recreio dos Bandeirantes        3      1       1   105  2300.0   \n",
       "...                         ...      ...    ...     ...   ...     ...   \n",
       "32934               Jacarepaguá        2      1       1    78  2200.0   \n",
       "32940           Barra da Tijuca        2      1       1    85  2250.0   \n",
       "32941           Barra da Tijuca        3      2       0    98  2300.0   \n",
       "32944  Recreio dos Bandeirantes        3      2       1    88  1550.0   \n",
       "32956               Jacarepaguá        3      1       2    78  1800.0   \n",
       "\n",
       "       Condominio   IPTU  \n",
       "12          455.0   14.0  \n",
       "21          700.0  138.0  \n",
       "24          700.0    0.0  \n",
       "32          740.0    0.0  \n",
       "36          648.0    0.0  \n",
       "...           ...    ...  \n",
       "32934       790.0  180.0  \n",
       "32940      1561.0  197.0  \n",
       "32941       887.0  177.0  \n",
       "32944       790.0    0.0  \n",
       "32956       800.0   40.0  \n",
       "\n",
       "[4459 rows x 8 columns]"
      ]
     },
     "execution_count": 54,
     "metadata": {},
     "output_type": "execute_result"
    }
   ],
   "source": [
    "selecao = (df['Quartos'] >= 2) & (df['Valor'] < 3000) & (df['Area'] > 70)\n",
    "df[selecao]"
   ]
  },
  {
   "cell_type": "code",
   "execution_count": 55,
   "id": "709aaae6",
   "metadata": {},
   "outputs": [],
   "source": [
    "df_2 = df[selecao]"
   ]
  },
  {
   "cell_type": "markdown",
   "id": "a0b999ac",
   "metadata": {},
   "source": [
    "## Salvando os dados"
   ]
  },
  {
   "cell_type": "code",
   "execution_count": null,
   "id": "c0c87758",
   "metadata": {},
   "outputs": [],
   "source": [
    "df.to_csv('dados_apartamentos.csv')"
   ]
  },
  {
   "cell_type": "code",
   "execution_count": 58,
   "id": "ec81458a",
   "metadata": {},
   "outputs": [
    {
     "data": {
      "application/vnd.microsoft.datawrangler.viewer.v0+json": {
       "columns": [
        {
         "name": "index",
         "rawType": "int64",
         "type": "integer"
        },
        {
         "name": "Unnamed: 0",
         "rawType": "int64",
         "type": "integer"
        },
        {
         "name": "Bairro",
         "rawType": "object",
         "type": "string"
        },
        {
         "name": "Quartos",
         "rawType": "int64",
         "type": "integer"
        },
        {
         "name": "Vagas",
         "rawType": "int64",
         "type": "integer"
        },
        {
         "name": "Suites",
         "rawType": "int64",
         "type": "integer"
        },
        {
         "name": "Area",
         "rawType": "int64",
         "type": "integer"
        },
        {
         "name": "Valor",
         "rawType": "float64",
         "type": "float"
        },
        {
         "name": "Condominio",
         "rawType": "float64",
         "type": "float"
        },
        {
         "name": "IPTU",
         "rawType": "float64",
         "type": "float"
        }
       ],
       "ref": "3d364227-c694-458e-8ee6-6fcf50115ba9",
       "rows": [
        [
         "0",
         "3",
         "Centro",
         "1",
         "0",
         "0",
         "15",
         "800.0",
         "390.0",
         "20.0"
        ],
        [
         "1",
         "4",
         "Higienópolis",
         "1",
         "0",
         "0",
         "48",
         "800.0",
         "230.0",
         "0.0"
        ],
        [
         "2",
         "6",
         "Cachambi",
         "2",
         "0",
         "0",
         "50",
         "1300.0",
         "301.0",
         "17.0"
        ],
        [
         "3",
         "11",
         "Grajaú",
         "2",
         "1",
         "0",
         "70",
         "1500.0",
         "642.0",
         "74.0"
        ],
        [
         "4",
         "12",
         "Lins de Vasconcelos",
         "3",
         "1",
         "1",
         "90",
         "1500.0",
         "455.0",
         "14.0"
        ],
        [
         "5",
         "13",
         "Copacabana",
         "1",
         "0",
         "1",
         "40",
         "2000.0",
         "561.0",
         "50.0"
        ],
        [
         "6",
         "15",
         "Copacabana",
         "4",
         "3",
         "1",
         "243",
         "13000.0",
         "2000.0",
         "803.0"
        ],
        [
         "7",
         "19",
         "Freguesia (Jacarepaguá)",
         "3",
         "0",
         "0",
         "54",
         "950.0",
         "300.0",
         "28.0"
        ],
        [
         "8",
         "20",
         "Barra da Tijuca",
         "2",
         "1",
         "1",
         "67",
         "1700.0",
         "589.0",
         "147.0"
        ],
        [
         "9",
         "21",
         "Tijuca",
         "2",
         "1",
         "0",
         "110",
         "1900.0",
         "700.0",
         "138.0"
        ],
        [
         "10",
         "23",
         "Olaria",
         "3",
         "1",
         "0",
         "68",
         "1000.0",
         "670.0",
         "0.0"
        ],
        [
         "11",
         "24",
         "Tijuca",
         "2",
         "1",
         "0",
         "78",
         "2000.0",
         "700.0",
         "0.0"
        ],
        [
         "12",
         "27",
         "Ipanema",
         "3",
         "1",
         "1",
         "125",
         "7000.0",
         "2100.0",
         "463.0"
        ],
        [
         "13",
         "28",
         "Tijuca",
         "1",
         "0",
         "0",
         "48",
         "750.0",
         "772.0",
         "25.0"
        ],
        [
         "14",
         "30",
         "Barra da Tijuca",
         "3",
         "3",
         "1",
         "175",
         "4200.0",
         "1500.0",
         "500.0"
        ],
        [
         "15",
         "32",
         "Botafogo",
         "2",
         "1",
         "0",
         "76",
         "2500.0",
         "740.0",
         "0.0"
        ],
        [
         "16",
         "33",
         "Copacabana",
         "3",
         "1",
         "2",
         "378",
         "10000.0",
         "2150.0",
         "700.0"
        ],
        [
         "17",
         "34",
         "Copacabana",
         "3",
         "0",
         "0",
         "180",
         "5500.0",
         "1780.0",
         "420.0"
        ],
        [
         "18",
         "36",
         "Recreio dos Bandeirantes",
         "3",
         "1",
         "1",
         "105",
         "2300.0",
         "648.0",
         "0.0"
        ],
        [
         "19",
         "37",
         "Leblon",
         "3",
         "1",
         "0",
         "110",
         "3900.0",
         "1500.0",
         "120.0"
        ],
        [
         "20",
         "40",
         "Jardim Oceânico",
         "3",
         "3",
         "1",
         "200",
         "3500.0",
         "1780.0",
         "496.0"
        ],
        [
         "21",
         "41",
         "Barra da Tijuca",
         "3",
         "1",
         "2",
         "70",
         "1800.0",
         "1095.0",
         "140.0"
        ],
        [
         "22",
         "43",
         "Copacabana",
         "4",
         "1",
         "0",
         "244",
         "5000.0",
         "2500.0",
         "4100.0"
        ],
        [
         "23",
         "44",
         "Barra da Tijuca",
         "3",
         "2",
         "1",
         "110",
         "4500.0",
         "2000.0",
         "450.0"
        ],
        [
         "24",
         "47",
         "Recreio dos Bandeirantes",
         "2",
         "2",
         "2",
         "90",
         "3000.0",
         "1340.0",
         "0.0"
        ],
        [
         "25",
         "48",
         "Recreio dos Bandeirantes",
         "3",
         "2",
         "2",
         "100",
         "2600.0",
         "380.0",
         "0.0"
        ],
        [
         "26",
         "49",
         "Barra da Tijuca",
         "3",
         "1",
         "1",
         "72",
         "2350.0",
         "600.0",
         "70.0"
        ],
        [
         "27",
         "50",
         "Humaitá",
         "2",
         "2",
         "1",
         "180",
         "4000.0",
         "2500.0",
         "300.0"
        ],
        [
         "28",
         "51",
         "Recreio dos Bandeirantes",
         "3",
         "1",
         "2",
         "92",
         "2300.0",
         "840.0",
         "200.0"
        ],
        [
         "29",
         "54",
         "Centro",
         "1",
         "0",
         "0",
         "27",
         "750.0",
         "371.0",
         "19.0"
        ],
        [
         "30",
         "55",
         "Ipanema",
         "1",
         "0",
         "0",
         "35",
         "2000.0",
         "650.0",
         "75.0"
        ],
        [
         "31",
         "56",
         "Ipanema",
         "1",
         "0",
         "0",
         "38",
         "1400.0",
         "530.0",
         "77.0"
        ],
        [
         "32",
         "57",
         "Recreio dos Bandeirantes",
         "2",
         "1",
         "2",
         "83",
         "1600.0",
         "1160.0",
         "157.0"
        ],
        [
         "33",
         "60",
         "Barra da Tijuca",
         "4",
         "3",
         "3",
         "153",
         "6500.0",
         "2300.0",
         "434.0"
        ],
        [
         "34",
         "62",
         "Península",
         "4",
         "3",
         "4",
         "267",
         "18000.0",
         "3100.0",
         "400.0"
        ],
        [
         "35",
         "63",
         "Ipanema",
         "3",
         "1",
         "0",
         "87",
         "3200.0",
         "1305.0",
         "217.0"
        ],
        [
         "36",
         "64",
         "Méier",
         "3",
         "1",
         "0",
         "90",
         "1550.0",
         "844.0",
         "80.0"
        ],
        [
         "37",
         "65",
         "Vargem Pequena",
         "3",
         "1",
         "0",
         "53",
         "1400.0",
         "385.0",
         "28.0"
        ],
        [
         "38",
         "66",
         "Botafogo",
         "3",
         "1",
         "1",
         "108",
         "5950.0",
         "1405.0",
         "289.0"
        ],
        [
         "39",
         "67",
         "Maracanã",
         "2",
         "0",
         "0",
         "86",
         "1800.0",
         "600.0",
         "82.0"
        ],
        [
         "40",
         "68",
         "Recreio dos Bandeirantes",
         "2",
         "1",
         "1",
         "74",
         "1850.0",
         "675.0",
         "200.0"
        ],
        [
         "41",
         "70",
         "Jacarepaguá",
         "3",
         "1",
         "1",
         "74",
         "1900.0",
         "556.0",
         "98.0"
        ],
        [
         "42",
         "71",
         "Ipanema",
         "3",
         "2",
         "1",
         "150",
         "8000.0",
         "2400.0",
         "0.0"
        ],
        [
         "43",
         "73",
         "Ipanema",
         "3",
         "1",
         "1",
         "140",
         "7900.0",
         "2900.0",
         "500.0"
        ],
        [
         "44",
         "75",
         "Jardim Botânico",
         "2",
         "2",
         "0",
         "95",
         "4000.0",
         "1170.0",
         "0.0"
        ],
        [
         "45",
         "77",
         "Cachambi",
         "2",
         "0",
         "0",
         "60",
         "1000.0",
         "380.0",
         "280.0"
        ],
        [
         "46",
         "88",
         "Leblon",
         "2",
         "1",
         "1",
         "80",
         "3500.0",
         "990.0",
         "245.0"
        ],
        [
         "47",
         "89",
         "Barra da Tijuca",
         "4",
         "4",
         "4",
         "240",
         "12700.0",
         "4400.0",
         "1440.0"
        ],
        [
         "48",
         "90",
         "Barra da Tijuca",
         "3",
         "2",
         "1",
         "104",
         "2600.0",
         "1364.0",
         "406.0"
        ],
        [
         "49",
         "91",
         "Vila Valqueire",
         "2",
         "1",
         "0",
         "45",
         "800.0",
         "280.0",
         "14.0"
        ]
       ],
       "shape": {
        "columns": 9,
        "rows": 18780
       }
      },
      "text/html": [
       "<div>\n",
       "<style scoped>\n",
       "    .dataframe tbody tr th:only-of-type {\n",
       "        vertical-align: middle;\n",
       "    }\n",
       "\n",
       "    .dataframe tbody tr th {\n",
       "        vertical-align: top;\n",
       "    }\n",
       "\n",
       "    .dataframe thead th {\n",
       "        text-align: right;\n",
       "    }\n",
       "</style>\n",
       "<table border=\"1\" class=\"dataframe\">\n",
       "  <thead>\n",
       "    <tr style=\"text-align: right;\">\n",
       "      <th></th>\n",
       "      <th>Unnamed: 0</th>\n",
       "      <th>Bairro</th>\n",
       "      <th>Quartos</th>\n",
       "      <th>Vagas</th>\n",
       "      <th>Suites</th>\n",
       "      <th>Area</th>\n",
       "      <th>Valor</th>\n",
       "      <th>Condominio</th>\n",
       "      <th>IPTU</th>\n",
       "    </tr>\n",
       "  </thead>\n",
       "  <tbody>\n",
       "    <tr>\n",
       "      <th>0</th>\n",
       "      <td>3</td>\n",
       "      <td>Centro</td>\n",
       "      <td>1</td>\n",
       "      <td>0</td>\n",
       "      <td>0</td>\n",
       "      <td>15</td>\n",
       "      <td>800.0</td>\n",
       "      <td>390.0</td>\n",
       "      <td>20.0</td>\n",
       "    </tr>\n",
       "    <tr>\n",
       "      <th>1</th>\n",
       "      <td>4</td>\n",
       "      <td>Higienópolis</td>\n",
       "      <td>1</td>\n",
       "      <td>0</td>\n",
       "      <td>0</td>\n",
       "      <td>48</td>\n",
       "      <td>800.0</td>\n",
       "      <td>230.0</td>\n",
       "      <td>0.0</td>\n",
       "    </tr>\n",
       "    <tr>\n",
       "      <th>2</th>\n",
       "      <td>6</td>\n",
       "      <td>Cachambi</td>\n",
       "      <td>2</td>\n",
       "      <td>0</td>\n",
       "      <td>0</td>\n",
       "      <td>50</td>\n",
       "      <td>1300.0</td>\n",
       "      <td>301.0</td>\n",
       "      <td>17.0</td>\n",
       "    </tr>\n",
       "    <tr>\n",
       "      <th>3</th>\n",
       "      <td>11</td>\n",
       "      <td>Grajaú</td>\n",
       "      <td>2</td>\n",
       "      <td>1</td>\n",
       "      <td>0</td>\n",
       "      <td>70</td>\n",
       "      <td>1500.0</td>\n",
       "      <td>642.0</td>\n",
       "      <td>74.0</td>\n",
       "    </tr>\n",
       "    <tr>\n",
       "      <th>4</th>\n",
       "      <td>12</td>\n",
       "      <td>Lins de Vasconcelos</td>\n",
       "      <td>3</td>\n",
       "      <td>1</td>\n",
       "      <td>1</td>\n",
       "      <td>90</td>\n",
       "      <td>1500.0</td>\n",
       "      <td>455.0</td>\n",
       "      <td>14.0</td>\n",
       "    </tr>\n",
       "    <tr>\n",
       "      <th>...</th>\n",
       "      <td>...</td>\n",
       "      <td>...</td>\n",
       "      <td>...</td>\n",
       "      <td>...</td>\n",
       "      <td>...</td>\n",
       "      <td>...</td>\n",
       "      <td>...</td>\n",
       "      <td>...</td>\n",
       "      <td>...</td>\n",
       "    </tr>\n",
       "    <tr>\n",
       "      <th>18775</th>\n",
       "      <td>32951</td>\n",
       "      <td>Vila Valqueire</td>\n",
       "      <td>2</td>\n",
       "      <td>0</td>\n",
       "      <td>0</td>\n",
       "      <td>52</td>\n",
       "      <td>1000.0</td>\n",
       "      <td>550.0</td>\n",
       "      <td>0.0</td>\n",
       "    </tr>\n",
       "    <tr>\n",
       "      <th>18776</th>\n",
       "      <td>32953</td>\n",
       "      <td>Méier</td>\n",
       "      <td>2</td>\n",
       "      <td>0</td>\n",
       "      <td>0</td>\n",
       "      <td>70</td>\n",
       "      <td>900.0</td>\n",
       "      <td>490.0</td>\n",
       "      <td>48.0</td>\n",
       "    </tr>\n",
       "    <tr>\n",
       "      <th>18777</th>\n",
       "      <td>32956</td>\n",
       "      <td>Jacarepaguá</td>\n",
       "      <td>3</td>\n",
       "      <td>1</td>\n",
       "      <td>2</td>\n",
       "      <td>78</td>\n",
       "      <td>1800.0</td>\n",
       "      <td>800.0</td>\n",
       "      <td>40.0</td>\n",
       "    </tr>\n",
       "    <tr>\n",
       "      <th>18778</th>\n",
       "      <td>32957</td>\n",
       "      <td>São Francisco Xavier</td>\n",
       "      <td>2</td>\n",
       "      <td>1</td>\n",
       "      <td>0</td>\n",
       "      <td>48</td>\n",
       "      <td>1400.0</td>\n",
       "      <td>509.0</td>\n",
       "      <td>37.0</td>\n",
       "    </tr>\n",
       "    <tr>\n",
       "      <th>18779</th>\n",
       "      <td>32958</td>\n",
       "      <td>Leblon</td>\n",
       "      <td>2</td>\n",
       "      <td>0</td>\n",
       "      <td>0</td>\n",
       "      <td>70</td>\n",
       "      <td>3000.0</td>\n",
       "      <td>760.0</td>\n",
       "      <td>0.0</td>\n",
       "    </tr>\n",
       "  </tbody>\n",
       "</table>\n",
       "<p>18780 rows × 9 columns</p>\n",
       "</div>"
      ],
      "text/plain": [
       "       Unnamed: 0                Bairro  Quartos  Vagas  Suites  Area   Valor  \\\n",
       "0               3                Centro        1      0       0    15   800.0   \n",
       "1               4          Higienópolis        1      0       0    48   800.0   \n",
       "2               6              Cachambi        2      0       0    50  1300.0   \n",
       "3              11                Grajaú        2      1       0    70  1500.0   \n",
       "4              12   Lins de Vasconcelos        3      1       1    90  1500.0   \n",
       "...           ...                   ...      ...    ...     ...   ...     ...   \n",
       "18775       32951        Vila Valqueire        2      0       0    52  1000.0   \n",
       "18776       32953                 Méier        2      0       0    70   900.0   \n",
       "18777       32956           Jacarepaguá        3      1       2    78  1800.0   \n",
       "18778       32957  São Francisco Xavier        2      1       0    48  1400.0   \n",
       "18779       32958                Leblon        2      0       0    70  3000.0   \n",
       "\n",
       "       Condominio  IPTU  \n",
       "0           390.0  20.0  \n",
       "1           230.0   0.0  \n",
       "2           301.0  17.0  \n",
       "3           642.0  74.0  \n",
       "4           455.0  14.0  \n",
       "...           ...   ...  \n",
       "18775       550.0   0.0  \n",
       "18776       490.0  48.0  \n",
       "18777       800.0  40.0  \n",
       "18778       509.0  37.0  \n",
       "18779       760.0   0.0  \n",
       "\n",
       "[18780 rows x 9 columns]"
      ]
     },
     "execution_count": 58,
     "metadata": {},
     "output_type": "execute_result"
    }
   ],
   "source": [
    "pd.read_csv('dados_apartamentos.csv', sep=',')"
   ]
  },
  {
   "cell_type": "code",
   "execution_count": 59,
   "id": "69426316",
   "metadata": {},
   "outputs": [],
   "source": [
    "df.to_csv('dados_apartamentos.csv', index=False)"
   ]
  },
  {
   "cell_type": "code",
   "execution_count": 60,
   "id": "6565ef47",
   "metadata": {},
   "outputs": [
    {
     "data": {
      "application/vnd.microsoft.datawrangler.viewer.v0+json": {
       "columns": [
        {
         "name": "index",
         "rawType": "int64",
         "type": "integer"
        },
        {
         "name": "Bairro",
         "rawType": "object",
         "type": "string"
        },
        {
         "name": "Quartos",
         "rawType": "int64",
         "type": "integer"
        },
        {
         "name": "Vagas",
         "rawType": "int64",
         "type": "integer"
        },
        {
         "name": "Suites",
         "rawType": "int64",
         "type": "integer"
        },
        {
         "name": "Area",
         "rawType": "int64",
         "type": "integer"
        },
        {
         "name": "Valor",
         "rawType": "float64",
         "type": "float"
        },
        {
         "name": "Condominio",
         "rawType": "float64",
         "type": "float"
        },
        {
         "name": "IPTU",
         "rawType": "float64",
         "type": "float"
        }
       ],
       "ref": "3f7d0f35-3295-497d-ae85-2a7e82acbc15",
       "rows": [
        [
         "0",
         "Centro",
         "1",
         "0",
         "0",
         "15",
         "800.0",
         "390.0",
         "20.0"
        ],
        [
         "1",
         "Higienópolis",
         "1",
         "0",
         "0",
         "48",
         "800.0",
         "230.0",
         "0.0"
        ],
        [
         "2",
         "Cachambi",
         "2",
         "0",
         "0",
         "50",
         "1300.0",
         "301.0",
         "17.0"
        ],
        [
         "3",
         "Grajaú",
         "2",
         "1",
         "0",
         "70",
         "1500.0",
         "642.0",
         "74.0"
        ],
        [
         "4",
         "Lins de Vasconcelos",
         "3",
         "1",
         "1",
         "90",
         "1500.0",
         "455.0",
         "14.0"
        ],
        [
         "5",
         "Copacabana",
         "1",
         "0",
         "1",
         "40",
         "2000.0",
         "561.0",
         "50.0"
        ],
        [
         "6",
         "Copacabana",
         "4",
         "3",
         "1",
         "243",
         "13000.0",
         "2000.0",
         "803.0"
        ],
        [
         "7",
         "Freguesia (Jacarepaguá)",
         "3",
         "0",
         "0",
         "54",
         "950.0",
         "300.0",
         "28.0"
        ],
        [
         "8",
         "Barra da Tijuca",
         "2",
         "1",
         "1",
         "67",
         "1700.0",
         "589.0",
         "147.0"
        ],
        [
         "9",
         "Tijuca",
         "2",
         "1",
         "0",
         "110",
         "1900.0",
         "700.0",
         "138.0"
        ],
        [
         "10",
         "Olaria",
         "3",
         "1",
         "0",
         "68",
         "1000.0",
         "670.0",
         "0.0"
        ],
        [
         "11",
         "Tijuca",
         "2",
         "1",
         "0",
         "78",
         "2000.0",
         "700.0",
         "0.0"
        ],
        [
         "12",
         "Ipanema",
         "3",
         "1",
         "1",
         "125",
         "7000.0",
         "2100.0",
         "463.0"
        ],
        [
         "13",
         "Tijuca",
         "1",
         "0",
         "0",
         "48",
         "750.0",
         "772.0",
         "25.0"
        ],
        [
         "14",
         "Barra da Tijuca",
         "3",
         "3",
         "1",
         "175",
         "4200.0",
         "1500.0",
         "500.0"
        ],
        [
         "15",
         "Botafogo",
         "2",
         "1",
         "0",
         "76",
         "2500.0",
         "740.0",
         "0.0"
        ],
        [
         "16",
         "Copacabana",
         "3",
         "1",
         "2",
         "378",
         "10000.0",
         "2150.0",
         "700.0"
        ],
        [
         "17",
         "Copacabana",
         "3",
         "0",
         "0",
         "180",
         "5500.0",
         "1780.0",
         "420.0"
        ],
        [
         "18",
         "Recreio dos Bandeirantes",
         "3",
         "1",
         "1",
         "105",
         "2300.0",
         "648.0",
         "0.0"
        ],
        [
         "19",
         "Leblon",
         "3",
         "1",
         "0",
         "110",
         "3900.0",
         "1500.0",
         "120.0"
        ],
        [
         "20",
         "Jardim Oceânico",
         "3",
         "3",
         "1",
         "200",
         "3500.0",
         "1780.0",
         "496.0"
        ],
        [
         "21",
         "Barra da Tijuca",
         "3",
         "1",
         "2",
         "70",
         "1800.0",
         "1095.0",
         "140.0"
        ],
        [
         "22",
         "Copacabana",
         "4",
         "1",
         "0",
         "244",
         "5000.0",
         "2500.0",
         "4100.0"
        ],
        [
         "23",
         "Barra da Tijuca",
         "3",
         "2",
         "1",
         "110",
         "4500.0",
         "2000.0",
         "450.0"
        ],
        [
         "24",
         "Recreio dos Bandeirantes",
         "2",
         "2",
         "2",
         "90",
         "3000.0",
         "1340.0",
         "0.0"
        ],
        [
         "25",
         "Recreio dos Bandeirantes",
         "3",
         "2",
         "2",
         "100",
         "2600.0",
         "380.0",
         "0.0"
        ],
        [
         "26",
         "Barra da Tijuca",
         "3",
         "1",
         "1",
         "72",
         "2350.0",
         "600.0",
         "70.0"
        ],
        [
         "27",
         "Humaitá",
         "2",
         "2",
         "1",
         "180",
         "4000.0",
         "2500.0",
         "300.0"
        ],
        [
         "28",
         "Recreio dos Bandeirantes",
         "3",
         "1",
         "2",
         "92",
         "2300.0",
         "840.0",
         "200.0"
        ],
        [
         "29",
         "Centro",
         "1",
         "0",
         "0",
         "27",
         "750.0",
         "371.0",
         "19.0"
        ],
        [
         "30",
         "Ipanema",
         "1",
         "0",
         "0",
         "35",
         "2000.0",
         "650.0",
         "75.0"
        ],
        [
         "31",
         "Ipanema",
         "1",
         "0",
         "0",
         "38",
         "1400.0",
         "530.0",
         "77.0"
        ],
        [
         "32",
         "Recreio dos Bandeirantes",
         "2",
         "1",
         "2",
         "83",
         "1600.0",
         "1160.0",
         "157.0"
        ],
        [
         "33",
         "Barra da Tijuca",
         "4",
         "3",
         "3",
         "153",
         "6500.0",
         "2300.0",
         "434.0"
        ],
        [
         "34",
         "Península",
         "4",
         "3",
         "4",
         "267",
         "18000.0",
         "3100.0",
         "400.0"
        ],
        [
         "35",
         "Ipanema",
         "3",
         "1",
         "0",
         "87",
         "3200.0",
         "1305.0",
         "217.0"
        ],
        [
         "36",
         "Méier",
         "3",
         "1",
         "0",
         "90",
         "1550.0",
         "844.0",
         "80.0"
        ],
        [
         "37",
         "Vargem Pequena",
         "3",
         "1",
         "0",
         "53",
         "1400.0",
         "385.0",
         "28.0"
        ],
        [
         "38",
         "Botafogo",
         "3",
         "1",
         "1",
         "108",
         "5950.0",
         "1405.0",
         "289.0"
        ],
        [
         "39",
         "Maracanã",
         "2",
         "0",
         "0",
         "86",
         "1800.0",
         "600.0",
         "82.0"
        ],
        [
         "40",
         "Recreio dos Bandeirantes",
         "2",
         "1",
         "1",
         "74",
         "1850.0",
         "675.0",
         "200.0"
        ],
        [
         "41",
         "Jacarepaguá",
         "3",
         "1",
         "1",
         "74",
         "1900.0",
         "556.0",
         "98.0"
        ],
        [
         "42",
         "Ipanema",
         "3",
         "2",
         "1",
         "150",
         "8000.0",
         "2400.0",
         "0.0"
        ],
        [
         "43",
         "Ipanema",
         "3",
         "1",
         "1",
         "140",
         "7900.0",
         "2900.0",
         "500.0"
        ],
        [
         "44",
         "Jardim Botânico",
         "2",
         "2",
         "0",
         "95",
         "4000.0",
         "1170.0",
         "0.0"
        ],
        [
         "45",
         "Cachambi",
         "2",
         "0",
         "0",
         "60",
         "1000.0",
         "380.0",
         "280.0"
        ],
        [
         "46",
         "Leblon",
         "2",
         "1",
         "1",
         "80",
         "3500.0",
         "990.0",
         "245.0"
        ],
        [
         "47",
         "Barra da Tijuca",
         "4",
         "4",
         "4",
         "240",
         "12700.0",
         "4400.0",
         "1440.0"
        ],
        [
         "48",
         "Barra da Tijuca",
         "3",
         "2",
         "1",
         "104",
         "2600.0",
         "1364.0",
         "406.0"
        ],
        [
         "49",
         "Vila Valqueire",
         "2",
         "1",
         "0",
         "45",
         "800.0",
         "280.0",
         "14.0"
        ]
       ],
       "shape": {
        "columns": 8,
        "rows": 18780
       }
      },
      "text/html": [
       "<div>\n",
       "<style scoped>\n",
       "    .dataframe tbody tr th:only-of-type {\n",
       "        vertical-align: middle;\n",
       "    }\n",
       "\n",
       "    .dataframe tbody tr th {\n",
       "        vertical-align: top;\n",
       "    }\n",
       "\n",
       "    .dataframe thead th {\n",
       "        text-align: right;\n",
       "    }\n",
       "</style>\n",
       "<table border=\"1\" class=\"dataframe\">\n",
       "  <thead>\n",
       "    <tr style=\"text-align: right;\">\n",
       "      <th></th>\n",
       "      <th>Bairro</th>\n",
       "      <th>Quartos</th>\n",
       "      <th>Vagas</th>\n",
       "      <th>Suites</th>\n",
       "      <th>Area</th>\n",
       "      <th>Valor</th>\n",
       "      <th>Condominio</th>\n",
       "      <th>IPTU</th>\n",
       "    </tr>\n",
       "  </thead>\n",
       "  <tbody>\n",
       "    <tr>\n",
       "      <th>0</th>\n",
       "      <td>Centro</td>\n",
       "      <td>1</td>\n",
       "      <td>0</td>\n",
       "      <td>0</td>\n",
       "      <td>15</td>\n",
       "      <td>800.0</td>\n",
       "      <td>390.0</td>\n",
       "      <td>20.0</td>\n",
       "    </tr>\n",
       "    <tr>\n",
       "      <th>1</th>\n",
       "      <td>Higienópolis</td>\n",
       "      <td>1</td>\n",
       "      <td>0</td>\n",
       "      <td>0</td>\n",
       "      <td>48</td>\n",
       "      <td>800.0</td>\n",
       "      <td>230.0</td>\n",
       "      <td>0.0</td>\n",
       "    </tr>\n",
       "    <tr>\n",
       "      <th>2</th>\n",
       "      <td>Cachambi</td>\n",
       "      <td>2</td>\n",
       "      <td>0</td>\n",
       "      <td>0</td>\n",
       "      <td>50</td>\n",
       "      <td>1300.0</td>\n",
       "      <td>301.0</td>\n",
       "      <td>17.0</td>\n",
       "    </tr>\n",
       "    <tr>\n",
       "      <th>3</th>\n",
       "      <td>Grajaú</td>\n",
       "      <td>2</td>\n",
       "      <td>1</td>\n",
       "      <td>0</td>\n",
       "      <td>70</td>\n",
       "      <td>1500.0</td>\n",
       "      <td>642.0</td>\n",
       "      <td>74.0</td>\n",
       "    </tr>\n",
       "    <tr>\n",
       "      <th>4</th>\n",
       "      <td>Lins de Vasconcelos</td>\n",
       "      <td>3</td>\n",
       "      <td>1</td>\n",
       "      <td>1</td>\n",
       "      <td>90</td>\n",
       "      <td>1500.0</td>\n",
       "      <td>455.0</td>\n",
       "      <td>14.0</td>\n",
       "    </tr>\n",
       "    <tr>\n",
       "      <th>...</th>\n",
       "      <td>...</td>\n",
       "      <td>...</td>\n",
       "      <td>...</td>\n",
       "      <td>...</td>\n",
       "      <td>...</td>\n",
       "      <td>...</td>\n",
       "      <td>...</td>\n",
       "      <td>...</td>\n",
       "    </tr>\n",
       "    <tr>\n",
       "      <th>18775</th>\n",
       "      <td>Vila Valqueire</td>\n",
       "      <td>2</td>\n",
       "      <td>0</td>\n",
       "      <td>0</td>\n",
       "      <td>52</td>\n",
       "      <td>1000.0</td>\n",
       "      <td>550.0</td>\n",
       "      <td>0.0</td>\n",
       "    </tr>\n",
       "    <tr>\n",
       "      <th>18776</th>\n",
       "      <td>Méier</td>\n",
       "      <td>2</td>\n",
       "      <td>0</td>\n",
       "      <td>0</td>\n",
       "      <td>70</td>\n",
       "      <td>900.0</td>\n",
       "      <td>490.0</td>\n",
       "      <td>48.0</td>\n",
       "    </tr>\n",
       "    <tr>\n",
       "      <th>18777</th>\n",
       "      <td>Jacarepaguá</td>\n",
       "      <td>3</td>\n",
       "      <td>1</td>\n",
       "      <td>2</td>\n",
       "      <td>78</td>\n",
       "      <td>1800.0</td>\n",
       "      <td>800.0</td>\n",
       "      <td>40.0</td>\n",
       "    </tr>\n",
       "    <tr>\n",
       "      <th>18778</th>\n",
       "      <td>São Francisco Xavier</td>\n",
       "      <td>2</td>\n",
       "      <td>1</td>\n",
       "      <td>0</td>\n",
       "      <td>48</td>\n",
       "      <td>1400.0</td>\n",
       "      <td>509.0</td>\n",
       "      <td>37.0</td>\n",
       "    </tr>\n",
       "    <tr>\n",
       "      <th>18779</th>\n",
       "      <td>Leblon</td>\n",
       "      <td>2</td>\n",
       "      <td>0</td>\n",
       "      <td>0</td>\n",
       "      <td>70</td>\n",
       "      <td>3000.0</td>\n",
       "      <td>760.0</td>\n",
       "      <td>0.0</td>\n",
       "    </tr>\n",
       "  </tbody>\n",
       "</table>\n",
       "<p>18780 rows × 8 columns</p>\n",
       "</div>"
      ],
      "text/plain": [
       "                     Bairro  Quartos  Vagas  Suites  Area   Valor  Condominio  \\\n",
       "0                    Centro        1      0       0    15   800.0       390.0   \n",
       "1              Higienópolis        1      0       0    48   800.0       230.0   \n",
       "2                  Cachambi        2      0       0    50  1300.0       301.0   \n",
       "3                    Grajaú        2      1       0    70  1500.0       642.0   \n",
       "4       Lins de Vasconcelos        3      1       1    90  1500.0       455.0   \n",
       "...                     ...      ...    ...     ...   ...     ...         ...   \n",
       "18775        Vila Valqueire        2      0       0    52  1000.0       550.0   \n",
       "18776                 Méier        2      0       0    70   900.0       490.0   \n",
       "18777           Jacarepaguá        3      1       2    78  1800.0       800.0   \n",
       "18778  São Francisco Xavier        2      1       0    48  1400.0       509.0   \n",
       "18779                Leblon        2      0       0    70  3000.0       760.0   \n",
       "\n",
       "       IPTU  \n",
       "0      20.0  \n",
       "1       0.0  \n",
       "2      17.0  \n",
       "3      74.0  \n",
       "4      14.0  \n",
       "...     ...  \n",
       "18775   0.0  \n",
       "18776  48.0  \n",
       "18777  40.0  \n",
       "18778  37.0  \n",
       "18779   0.0  \n",
       "\n",
       "[18780 rows x 8 columns]"
      ]
     },
     "execution_count": 60,
     "metadata": {},
     "output_type": "execute_result"
    }
   ],
   "source": [
    "pd.read_csv('dados_apartamentos.csv')"
   ]
  },
  {
   "cell_type": "code",
   "execution_count": null,
   "id": "3b8e8bf6",
   "metadata": {},
   "outputs": [],
   "source": []
  }
 ],
 "metadata": {
  "kernelspec": {
   "display_name": ".venv",
   "language": "python",
   "name": "python3"
  },
  "language_info": {
   "codemirror_mode": {
    "name": "ipython",
    "version": 3
   },
   "file_extension": ".py",
   "mimetype": "text/x-python",
   "name": "python",
   "nbconvert_exporter": "python",
   "pygments_lexer": "ipython3",
   "version": "3.12.3"
  }
 },
 "nbformat": 4,
 "nbformat_minor": 5
}
